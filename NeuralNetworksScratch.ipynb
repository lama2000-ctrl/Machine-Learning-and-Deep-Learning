{
  "nbformat": 4,
  "nbformat_minor": 0,
  "metadata": {
    "colab": {
      "name": "Lab_04_Introduction_to_Neural_Networks.ipynb",
      "provenance": [],
      "collapsed_sections": []
    },
    "kernelspec": {
      "name": "python3",
      "display_name": "Python 3"
    },
    "language_info": {
      "name": "python"
    }
  },
  "cells": [
    {
      "cell_type": "markdown",
      "source": [
        "# Introduction and Dataset Description\n",
        "Since this is an introductory article, the problem that we are going to solve is pretty simple. Suppose we have some information about obesity, smoking habits, and exercise habits of five people. We also know whether these people are diabetic or not. Our dataset looks like this."
      ],
      "metadata": {
        "id": "VVUqg5QIUPH1"
      }
    },
    {
      "cell_type": "code",
      "source": [
        "est"
      ],
      "metadata": {
        "id": "-k7dJcA6-nSh"
      },
      "execution_count": null,
      "outputs": []
    },
    {
      "cell_type": "code",
      "source": [
        "import pandas as pd\n",
        "import numpy as np\n",
        "\n",
        "!gdown --id -q 1EJmU7Mli1oXLPJfXGrus0HHfVnXM6wpk\n",
        "!unzip -q Data.zip\n",
        "\n",
        "data = pd.read_csv('Data.csv')\n",
        "data.head()"
      ],
      "metadata": {
        "colab": {
          "base_uri": "https://localhost:8080/",
          "height": 206
        },
        "id": "0cGHM4vAXAdu",
        "outputId": "e1be17b4-a349-440f-d416-21e6ec6023b0"
      },
      "execution_count": null,
      "outputs": [
        {
          "output_type": "execute_result",
          "data": {
            "text/html": [
              "\n",
              "  <div id=\"df-602ca2a3-8c53-4910-8d00-e691aabd844d\">\n",
              "    <div class=\"colab-df-container\">\n",
              "      <div>\n",
              "<style scoped>\n",
              "    .dataframe tbody tr th:only-of-type {\n",
              "        vertical-align: middle;\n",
              "    }\n",
              "\n",
              "    .dataframe tbody tr th {\n",
              "        vertical-align: top;\n",
              "    }\n",
              "\n",
              "    .dataframe thead th {\n",
              "        text-align: right;\n",
              "    }\n",
              "</style>\n",
              "<table border=\"1\" class=\"dataframe\">\n",
              "  <thead>\n",
              "    <tr style=\"text-align: right;\">\n",
              "      <th></th>\n",
              "      <th>Person</th>\n",
              "      <th>Smoking</th>\n",
              "      <th>Obesity</th>\n",
              "      <th>Exercise</th>\n",
              "      <th>Diabetic</th>\n",
              "    </tr>\n",
              "  </thead>\n",
              "  <tbody>\n",
              "    <tr>\n",
              "      <th>0</th>\n",
              "      <td>Person 1</td>\n",
              "      <td>0</td>\n",
              "      <td>1</td>\n",
              "      <td>0</td>\n",
              "      <td>1</td>\n",
              "    </tr>\n",
              "    <tr>\n",
              "      <th>1</th>\n",
              "      <td>Person 2</td>\n",
              "      <td>0</td>\n",
              "      <td>0</td>\n",
              "      <td>1</td>\n",
              "      <td>0</td>\n",
              "    </tr>\n",
              "    <tr>\n",
              "      <th>2</th>\n",
              "      <td>Person 3</td>\n",
              "      <td>1</td>\n",
              "      <td>0</td>\n",
              "      <td>0</td>\n",
              "      <td>0</td>\n",
              "    </tr>\n",
              "    <tr>\n",
              "      <th>3</th>\n",
              "      <td>Person 4</td>\n",
              "      <td>1</td>\n",
              "      <td>1</td>\n",
              "      <td>0</td>\n",
              "      <td>1</td>\n",
              "    </tr>\n",
              "    <tr>\n",
              "      <th>4</th>\n",
              "      <td>Person 5</td>\n",
              "      <td>1</td>\n",
              "      <td>1</td>\n",
              "      <td>1</td>\n",
              "      <td>1</td>\n",
              "    </tr>\n",
              "  </tbody>\n",
              "</table>\n",
              "</div>\n",
              "      <button class=\"colab-df-convert\" onclick=\"convertToInteractive('df-602ca2a3-8c53-4910-8d00-e691aabd844d')\"\n",
              "              title=\"Convert this dataframe to an interactive table.\"\n",
              "              style=\"display:none;\">\n",
              "        \n",
              "  <svg xmlns=\"http://www.w3.org/2000/svg\" height=\"24px\"viewBox=\"0 0 24 24\"\n",
              "       width=\"24px\">\n",
              "    <path d=\"M0 0h24v24H0V0z\" fill=\"none\"/>\n",
              "    <path d=\"M18.56 5.44l.94 2.06.94-2.06 2.06-.94-2.06-.94-.94-2.06-.94 2.06-2.06.94zm-11 1L8.5 8.5l.94-2.06 2.06-.94-2.06-.94L8.5 2.5l-.94 2.06-2.06.94zm10 10l.94 2.06.94-2.06 2.06-.94-2.06-.94-.94-2.06-.94 2.06-2.06.94z\"/><path d=\"M17.41 7.96l-1.37-1.37c-.4-.4-.92-.59-1.43-.59-.52 0-1.04.2-1.43.59L10.3 9.45l-7.72 7.72c-.78.78-.78 2.05 0 2.83L4 21.41c.39.39.9.59 1.41.59.51 0 1.02-.2 1.41-.59l7.78-7.78 2.81-2.81c.8-.78.8-2.07 0-2.86zM5.41 20L4 18.59l7.72-7.72 1.47 1.35L5.41 20z\"/>\n",
              "  </svg>\n",
              "      </button>\n",
              "      \n",
              "  <style>\n",
              "    .colab-df-container {\n",
              "      display:flex;\n",
              "      flex-wrap:wrap;\n",
              "      gap: 12px;\n",
              "    }\n",
              "\n",
              "    .colab-df-convert {\n",
              "      background-color: #E8F0FE;\n",
              "      border: none;\n",
              "      border-radius: 50%;\n",
              "      cursor: pointer;\n",
              "      display: none;\n",
              "      fill: #1967D2;\n",
              "      height: 32px;\n",
              "      padding: 0 0 0 0;\n",
              "      width: 32px;\n",
              "    }\n",
              "\n",
              "    .colab-df-convert:hover {\n",
              "      background-color: #E2EBFA;\n",
              "      box-shadow: 0px 1px 2px rgba(60, 64, 67, 0.3), 0px 1px 3px 1px rgba(60, 64, 67, 0.15);\n",
              "      fill: #174EA6;\n",
              "    }\n",
              "\n",
              "    [theme=dark] .colab-df-convert {\n",
              "      background-color: #3B4455;\n",
              "      fill: #D2E3FC;\n",
              "    }\n",
              "\n",
              "    [theme=dark] .colab-df-convert:hover {\n",
              "      background-color: #434B5C;\n",
              "      box-shadow: 0px 1px 3px 1px rgba(0, 0, 0, 0.15);\n",
              "      filter: drop-shadow(0px 1px 2px rgba(0, 0, 0, 0.3));\n",
              "      fill: #FFFFFF;\n",
              "    }\n",
              "  </style>\n",
              "\n",
              "      <script>\n",
              "        const buttonEl =\n",
              "          document.querySelector('#df-602ca2a3-8c53-4910-8d00-e691aabd844d button.colab-df-convert');\n",
              "        buttonEl.style.display =\n",
              "          google.colab.kernel.accessAllowed ? 'block' : 'none';\n",
              "\n",
              "        async function convertToInteractive(key) {\n",
              "          const element = document.querySelector('#df-602ca2a3-8c53-4910-8d00-e691aabd844d');\n",
              "          const dataTable =\n",
              "            await google.colab.kernel.invokeFunction('convertToInteractive',\n",
              "                                                     [key], {});\n",
              "          if (!dataTable) return;\n",
              "\n",
              "          const docLinkHtml = 'Like what you see? Visit the ' +\n",
              "            '<a target=\"_blank\" href=https://colab.research.google.com/notebooks/data_table.ipynb>data table notebook</a>'\n",
              "            + ' to learn more about interactive tables.';\n",
              "          element.innerHTML = '';\n",
              "          dataTable['output_type'] = 'display_data';\n",
              "          await google.colab.output.renderOutput(dataTable, element);\n",
              "          const docLink = document.createElement('div');\n",
              "          docLink.innerHTML = docLinkHtml;\n",
              "          element.appendChild(docLink);\n",
              "        }\n",
              "      </script>\n",
              "    </div>\n",
              "  </div>\n",
              "  "
            ],
            "text/plain": [
              "     Person  Smoking  Obesity  Exercise  Diabetic\n",
              "0  Person 1        0        1         0         1\n",
              "1  Person 2        0        0         1         0\n",
              "2  Person 3        1        0         0         0\n",
              "3  Person 4        1        1         0         1\n",
              "4  Person 5        1        1         1         1"
            ]
          },
          "metadata": {},
          "execution_count": 4
        }
      ]
    },
    {
      "cell_type": "markdown",
      "source": [
        "In the above table, we have five columns: Person, Smoking, Obesity, Exercise, and Diabetic. Here 1 refers to true and 0 refers to false. For instance, the first person has values of 0, 1, 0 which means that the person doesn't smoke, is obese, and doesn't exercise. The person is also diabetic.\n",
        "\n",
        "It is clearly evident from the dataset that a person's obesity is indicative of him being diabetic. Our task is to create a neural network that is able to predict whether an unknown person is diabetic or not from the given data about his exercise habits, obesity, and smoking habits. This is a type of supervised learning problem where we are given inputs and corresponding correct outputs and our task is to find the mapping between the inputs and the outputs.\n",
        "\n",
        "**Note**: This is just a fictional dataset, in real life, obese people are not necessarily always diabetic."
      ],
      "metadata": {
        "id": "3iJEu5IQZFsx"
      }
    },
    {
      "cell_type": "markdown",
      "source": [
        "# The Solution\n",
        "We will create a very simple neural network with one input layer, one hidden layer (that will contain two hidden units) and one output layer. Before writing any actual code, let's first let's see how our neural network will execute, in theory. For simplicity, we are not considering the bias term.<br>\n",
        "![nn.JPG](data:image/jpeg;base64,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)\n",
        "\n"
      ],
      "metadata": {
        "id": "xiq8T7AsVOBi"
      }
    },
    {
      "cell_type": "markdown",
      "source": [
        "### Separating feature values from labels"
      ],
      "metadata": {
        "id": "eDhseI6GbSVu"
      }
    },
    {
      "cell_type": "code",
      "execution_count": null,
      "metadata": {
        "colab": {
          "base_uri": "https://localhost:8080/"
        },
        "id": "GFlEMtARUD78",
        "outputId": "bb76cc16-61bf-481b-dece-a9c927d8cb44"
      },
      "outputs": [
        {
          "output_type": "stream",
          "name": "stdout",
          "text": [
            "X:\n",
            " [[0 1 0]\n",
            " [0 0 1]\n",
            " [1 0 0]\n",
            " [1 1 0]\n",
            " [1 1 1]]\n",
            "y:\n",
            " [[1]\n",
            " [0]\n",
            " [0]\n",
            " [1]\n",
            " [1]]\n"
          ]
        }
      ],
      "source": [
        "data_np = data.to_numpy()\n",
        "X = data_np[:,[1,2,3]]\n",
        "y = data_np[:,4]\n",
        "y = np.atleast_2d(y).T\n",
        "\n",
        "print(f'X:\\n {X}')\n",
        "print(f'y:\\n {y}')"
      ]
    },
    {
      "cell_type": "markdown",
      "source": [
        "### Weight Initialization\n",
        "At first, we will consider random weights. We will store the weights values for input layer and hidden layer in matrix `w1`. Weight values for hidden layer and output layer will be stored in matrix `w2`.<br>\n",
        "Since, there are 3 input units and 2 hidden units, the dimension of matrix `w1` will be 3 × 2. For the same reason, dimension of matrix `w2` will be 2 × 1."
      ],
      "metadata": {
        "id": "9IvSyAhobcjn"
      }
    },
    {
      "cell_type": "code",
      "source": [
        "number_of_neurons_in_input_layer = len(X[0])\n",
        "number_of_neurons_in_hidden_layer = 2\n",
        "number_of_neurons_in_output_layer = 1\n",
        "\n",
        "w1 = np.random.random((number_of_neurons_in_input_layer, number_of_neurons_in_hidden_layer))\n",
        "w2 = np.random.random((number_of_neurons_in_hidden_layer, number_of_neurons_in_output_layer))\n",
        "\n",
        "print(f'w1:\\n {w1}')\n",
        "print(f'w2:\\n {w2}')"
      ],
      "metadata": {
        "colab": {
          "base_uri": "https://localhost:8080/"
        },
        "id": "1nhmu5s_aHUV",
        "outputId": "bee9a0fe-d9c4-425d-d54e-caa2879ae9b9"
      },
      "execution_count": null,
      "outputs": [
        {
          "output_type": "stream",
          "name": "stdout",
          "text": [
            "w1:\n",
            " [[0.23666368 0.76642668]\n",
            " [0.90267111 0.1719453 ]\n",
            " [0.53160396 0.60352853]]\n",
            "w2:\n",
            " [[0.26824902]\n",
            " [0.16316142]]\n"
          ]
        }
      ]
    },
    {
      "cell_type": "markdown",
      "source": [
        "## Forward Propagation\n",
        "At first, we will calculate the weighted sum by multiplying `X` with `w1`. Let this result be $z_{h}$.<br>\n",
        "$$z_h = \\sum_{i=1}^{X} x_iw_{1_i}$$"
      ],
      "metadata": {
        "id": "4PkeffiRdqZn"
      }
    },
    {
      "cell_type": "code",
      "source": [
        "z_h=np.matmul(X,w1)\n",
        "print(f'z_h:\\n {z_h}')"
      ],
      "metadata": {
        "colab": {
          "base_uri": "https://localhost:8080/"
        },
        "id": "HIfNY230bnFN",
        "outputId": "ce9aec33-9674-4efd-e8d9-73753dc5210e"
      },
      "execution_count": null,
      "outputs": [
        {
          "output_type": "stream",
          "name": "stdout",
          "text": [
            "z_h:\n",
            " [[0.9026711102642083 0.17194530280490283]\n",
            " [0.5316039595187925 0.6035285268568544]\n",
            " [0.2366636800652585 0.7664266780156214]\n",
            " [1.1393347903294668 0.9383719808205242]\n",
            " [1.6709387498482593 1.5419005076773786]]\n"
          ]
        }
      ]
    },
    {
      "cell_type": "markdown",
      "source": [
        "$z_{h}$ is the value of hidden layer. To keep this value between 0 and 1, we will pass it through a `sigmoid` function and calculate `a_h`.<br>\n",
        "$$sigmoid = \\frac{1}{1+_e{-x}}$$"
      ],
      "metadata": {
        "id": "hZ1ebmhkg-oD"
      }
    },
    {
      "cell_type": "code",
      "source": [
        "def sigmoid(x):\n",
        "    return (1/(1+np.exp(-x.astype(float))))"
      ],
      "metadata": {
        "id": "liZOIhKfbnH0"
      },
      "execution_count": null,
      "outputs": []
    },
    {
      "cell_type": "code",
      "source": [
        "a_h = sigmoid(z_h)\n",
        "print(f'a_h:\\n {a_h}')"
      ],
      "metadata": {
        "colab": {
          "base_uri": "https://localhost:8080/"
        },
        "id": "zwCg2aR2bnKW",
        "outputId": "874d7f51-12b4-41be-a0ff-4962875764f2"
      },
      "execution_count": null,
      "outputs": [
        {
          "output_type": "stream",
          "name": "stdout",
          "text": [
            "a_h:\n",
            " [[0.71149811 0.54288073]\n",
            " [0.62985713 0.64646316]\n",
            " [0.5588913  0.68274741]\n",
            " [0.75755748 0.71877069]\n",
            " [0.84170094 0.82374083]]\n"
          ]
        }
      ]
    },
    {
      "cell_type": "markdown",
      "source": [
        "Now we'll calculate the value of output layer by multiplying the value of hidden layer `a_h` with `w2`. Then, we'll pass the resultant value through a sigmoid function which in turn will return us the final value `a_o`.<br>\n",
        "$$z_o = \\sum_{i=1}^{} a_{h_i}w_{2_i}$$<br>\n",
        "$$a_o = sigmoid(z_o)$$\n"
      ],
      "metadata": {
        "id": "QXlcVF1npemb"
      }
    },
    {
      "cell_type": "code",
      "source": [
        "z_o=np.matmul(a_h,w2)\n",
        "a_o=sigmoid(z_o)\n",
        "print(f'a_o:\\n {a_o}')"
      ],
      "metadata": {
        "colab": {
          "base_uri": "https://localhost:8080/"
        },
        "id": "XgYT7GbBtN03",
        "outputId": "c47aa926-e6d5-49be-8f30-9f5b63b23a20"
      },
      "execution_count": null,
      "outputs": [
        {
          "output_type": "stream",
          "name": "stdout",
          "text": [
            "a_o:\n",
            " [[0.56940791]\n",
            " [0.56818171]\n",
            " [0.56496077]\n",
            " [0.57944359]\n",
            " [0.58908599]]\n"
          ]
        }
      ]
    },
    {
      "cell_type": "markdown",
      "source": [
        "But, this is not our final output. We'll calculate the `error` from the difference between our ground truth `y` and `a_o`.<br>\n",
        "$$error, E_{a_o} = \\frac{1}{2} (a_o-y)^2$$"
      ],
      "metadata": {
        "id": "4YXskI5Ptm8K"
      }
    },
    {
      "cell_type": "code",
      "source": [
        "error = (0.5*(np.power((a_o-y),2)))\n",
        "print(f'error:\\n {error}')"
      ],
      "metadata": {
        "colab": {
          "base_uri": "https://localhost:8080/"
        },
        "id": "FnXsQI2zva_s",
        "outputId": "a8cde82d-382d-4556-915d-68e90675b0c1"
      },
      "execution_count": null,
      "outputs": [
        {
          "output_type": "stream",
          "name": "stdout",
          "text": [
            "error:\n",
            " [[0.09270477280929054]\n",
            " [0.16141522819787554]\n",
            " [0.15959033552001528]\n",
            " [0.08843384640384774]\n",
            " [0.08442516341250714]]\n"
          ]
        }
      ]
    },
    {
      "cell_type": "markdown",
      "source": [
        "## Back Propagation"
      ],
      "metadata": {
        "id": "oXEm4xtpsTfX"
      }
    },
    {
      "cell_type": "markdown",
      "source": [
        "### Updating `w2`\n",
        "Back Propagation will start now. This means that in order to minimize the error that we have received, we will repeatedly update the weights of the `w1` and `w2` matrix back from the output layer and calculate the error. In this way we can reduce the error a lot at a time and predict the value which will be closer to the actual output.<br>\n",
        "\n",
        "So first we will find out how much change in the weights of `w2` will reduce our error. We will deduct the value of $\\frac {dE_{a_o}}{dw_2}$ from $w_2$.<br>\n",
        "$$w_2 = w_2 - learningRate×\\frac{dEa_o}{dw_2}$$.<br>\n",
        "From the chain rule of calculus, we can calculate the value of $\\frac {dE_{a_o}}{dw_2}$ as follows,<br>\n",
        "\n",
        "$$\\frac {dE_{a_o}}{dw_2} = \\frac {dE_{a_o}}{dz_o} × \\frac {d_{z_o}}{dw_2}$$<br>\n",
        "$$\\frac {dE_{a_o}}{dw_2} = \\frac {dE_{a_o}}{da_o} × \\frac {d{a_o}}{dz_o} × \\frac {d_{z_o}}{dw_2}$$<br>\n",
        "$$\\frac {dE_{a_o}}{da_o} = \\frac{d}{da_o}(\\frac{1}{2} (a_o-y)^2)=a_o-y$$<br>\n"
      ],
      "metadata": {
        "id": "bQQq5wTOvoZL"
      }
    },
    {
      "cell_type": "code",
      "source": [
        "dEdao = a_o-y\n",
        "print(f'dEdao:\\n {dEdao}')"
      ],
      "metadata": {
        "colab": {
          "base_uri": "https://localhost:8080/"
        },
        "id": "rYCaVqiU2iIF",
        "outputId": "668dafcb-839b-4d36-c466-bef9b90cf6de"
      },
      "execution_count": null,
      "outputs": [
        {
          "output_type": "stream",
          "name": "stdout",
          "text": [
            "dEdao:\n",
            " [[-0.430592087268892]\n",
            " [0.5681817107191599]\n",
            " [0.564960769469908]\n",
            " [-0.42055640859187426]\n",
            " [-0.41091401390682003]]\n"
          ]
        }
      ]
    },
    {
      "cell_type": "markdown",
      "source": [
        "Now, the second therm which is needed to calculate $\\frac {dE_{a_o}}{dw_2}$ is basically the derivative of the `sigmoid` function.<br>\n",
        "$\\frac{da_o}{dz_o} = \\frac{d}{dz_o}(\\frac{1}{1+_e{-z_o}})$<br>\n",
        "$\\frac{da_o}{dz_o} = \\frac{d}{dz_o}({1+_e{-z_o}})^{-1}$<br>\n",
        "$\\frac{da_o}{dz_o} = (-1)({1+_e{-z_o}})^{-2}(-e^{-z_o})$<br>\n",
        "....<br>....<br>\n",
        "$\\frac{da_o}{dz_o} =\\frac{1}{1+_e{-z_o}}×(1-\\frac{1}{1+_e{-z_o}}) = sigmoid(z_o)×(1-sigmoid(z_o))=a_o×(1-a_o)$"
      ],
      "metadata": {
        "id": "KmvyjNvc4EpE"
      }
    },
    {
      "cell_type": "code",
      "source": [
        "def sigmoid_derivative(x):\n",
        "    return x*(1-x)\n",
        "daozo = sigmoid_derivative(a_o)\n",
        "print(f'daozo:\\n {daozo}')"
      ],
      "metadata": {
        "colab": {
          "base_uri": "https://localhost:8080/"
        },
        "id": "px92HzlCaa9W",
        "outputId": "39822256-271f-4022-8ad0-23c884c7c2c7"
      },
      "execution_count": null,
      "outputs": [
        {
          "output_type": "stream",
          "name": "stdout",
          "text": [
            "daozo:\n",
            " [[0.24518254]\n",
            " [0.24535125]\n",
            " [0.2457801 ]\n",
            " [0.24368872]\n",
            " [0.24206369]]\n"
          ]
        }
      ]
    },
    {
      "cell_type": "markdown",
      "source": [
        "The last term,<br>\n",
        "$$\\frac{dz_o}{dw_2} = \\frac{d}{dw_2}(a_h×w_2) = a_h$$<br>\n",
        "Now, we have all the necessary information to calculate $\\frac {dE_{a_o}}{dw_2}$"
      ],
      "metadata": {
        "id": "zx9kODXbb9en"
      }
    },
    {
      "cell_type": "code",
      "source": [
        "dEdw2 = np.matmul(a_h.T, (dEdao*daozo))\n",
        "print(f'dEdw2:\\n {dEdw2}')"
      ],
      "metadata": {
        "colab": {
          "base_uri": "https://localhost:8080/"
        },
        "id": "erfBf0zXc3b4",
        "outputId": "356eb27e-c62b-4bd0-dddd-c4412f9a048e"
      },
      "execution_count": null,
      "outputs": [
        {
          "output_type": "stream",
          "name": "stdout",
          "text": [
            "dEdw2:\n",
            " [[-0.0710652606219097]\n",
            " [-0.02798907722284588]]\n"
          ]
        }
      ]
    },
    {
      "cell_type": "markdown",
      "source": [
        "Now, we'll update the weight values of `w2` by subtracting $\\frac{dEa_o}{dw_2}$ from `w2`. But, for faster convergence, we'll multiply $\\frac{dEa_o}{dw_2}$ by `learning_rate = 3`."
      ],
      "metadata": {
        "id": "NtI8tqmdg1AT"
      }
    },
    {
      "cell_type": "code",
      "source": [
        "learning_rate = 3\n",
        "w2 = w2 - learning_rate*dEdw2\n",
        "print(f'w2:\\n {w2}')"
      ],
      "metadata": {
        "colab": {
          "base_uri": "https://localhost:8080/"
        },
        "id": "AmwBH3Y_hfGE",
        "outputId": "b4c7e2b6-e362-447a-aea1-af007b1d8fba"
      },
      "execution_count": null,
      "outputs": [
        {
          "output_type": "stream",
          "name": "stdout",
          "text": [
            "w2:\n",
            " [[0.48144480452866745]\n",
            " [0.24712865175099102]]\n"
          ]
        }
      ]
    },
    {
      "cell_type": "markdown",
      "source": [
        "### Updating `w1`\n",
        "Now we will go one more step backward. The updated value of `w1` will be, $$w_1 = w_1 - learningRate×\\frac{dEa_o}{dw_1}$$.<br>\n",
        "Now, using chain rule as before, we will calculate the value of $\\frac{dEa_o}{dw_1}$.<br>\n"
      ],
      "metadata": {
        "id": "ilbzTThZiWhp"
      }
    },
    {
      "cell_type": "markdown",
      "source": [
        "$$\\frac{dEa_o}{dw_1} = \\frac{dEa_o}{dz_h}×\\frac{dz_h}{dw_1}$$\n",
        "$$\\frac{dEa_o}{dw_1} = \\frac{dEa_o}{da_h}×\\frac{da_h}{dz_h}×\\frac{dz_h}{dw_1}$$\n",
        "Since, there is no direct relationship between $dEa_o$ and $da_h$, we have to break them again using chain rule as follows.\n",
        "$$\\frac{dEa_o}{da_h} = \\frac{dEa_o}{dz_o}×\\frac{dz_o}{da_h} = \\frac{dEa_o}{da_o}×\\frac{da_o}{dz_o}×\\frac{dz_o}{da_h}$$\n",
        "But, we have already calculated the value of $\\frac{dEa_o}{da_o}×\\frac{da_o}{dz_o}$ while updating `w2`. So,\n",
        "$$\\frac{dz_o}{da_h} = \\frac{d}{da_h}(a_h×w_2) = w_2$$"
      ],
      "metadata": {
        "id": "WBKUIrkujPxr"
      }
    },
    {
      "cell_type": "code",
      "source": [
        "dEdzo = dEdao*daozo\n",
        "dEdah = np.matmul(dEdzo, w2.T)\n",
        "print(f'dEdah:\\n {dEdah}')"
      ],
      "metadata": {
        "colab": {
          "base_uri": "https://localhost:8080/"
        },
        "id": "ASx8-jW-mPkl",
        "outputId": "8518b1ee-3e93-4e64-f812-edb4974607cd"
      },
      "execution_count": null,
      "outputs": [
        {
          "output_type": "stream",
          "name": "stdout",
          "text": [
            "dEdah:\n",
            " [[-0.05082789124362949 -0.026090276842184134]\n",
            " [0.0671153774644728 0.03445074614688545]\n",
            " [0.06685155443574033 0.03431532412388668]\n",
            " [-0.04934079911681347 -0.0253269430833136]\n",
            " [-0.047888044308369 -0.024581234886322818]]\n"
          ]
        }
      ]
    },
    {
      "cell_type": "markdown",
      "source": [
        "We have successfully calculated the value of $\\frac{dEa_o}{da_h}$. As it is the derivative of sigmoid, $$\\frac{da_h}{dz_h} = a_h\\times(1-a_h)$$"
      ],
      "metadata": {
        "id": "DKosFkQInCIp"
      }
    },
    {
      "cell_type": "code",
      "source": [
        "dahdzh = sigmoid_derivative(a_h)\n",
        "print(f'dahdzh:\\n {dahdzh}')"
      ],
      "metadata": {
        "colab": {
          "base_uri": "https://localhost:8080/"
        },
        "id": "tTSB98qynnzD",
        "outputId": "2f9c5376-df7b-41c9-9b1f-4310b74db93c"
      },
      "execution_count": null,
      "outputs": [
        {
          "output_type": "stream",
          "name": "stdout",
          "text": [
            "dahdzh:\n",
            " [[0.20526855 0.24816124]\n",
            " [0.23313713 0.22854854]\n",
            " [0.24653181 0.21660339]\n",
            " [0.18366414 0.20213939]\n",
            " [0.13324047 0.14519187]]\n"
          ]
        }
      ]
    },
    {
      "cell_type": "markdown",
      "source": [
        "Now, for the last term to calculate $\\frac{dEa_o}{dw_1}$,$$\\frac{dz_h}{dw_1} = \\frac{d}{dw_1}(X×w_1) = X$$"
      ],
      "metadata": {
        "id": "26bA2etbj7x-"
      }
    },
    {
      "cell_type": "code",
      "source": [
        "dEdw1 = np.matmul(X.T, dEdah*dahdzh)\n",
        "print(f'dEdw1:\\n {dEdw1}')"
      ],
      "metadata": {
        "colab": {
          "base_uri": "https://localhost:8080/"
        },
        "id": "Jn761PWHotVC",
        "outputId": "9bc59e88-155f-4190-e0d8-99eccfa050b2"
      },
      "execution_count": null,
      "outputs": [
        {
          "output_type": "stream",
          "name": "stdout",
          "text": [
            "dEdw1:\n",
            " [[0.0010382740867878734 -0.001255752874946575]\n",
            " [-0.025876128498090754 -0.015163163789912079]\n",
            " [0.009266460766404534 0.0043046722779739]]\n"
          ]
        }
      ]
    },
    {
      "cell_type": "markdown",
      "source": [
        "Now, we'll update the weight values of `w1` by subtracting $\\frac{dEa_o}{dw_1}$ from `w1`."
      ],
      "metadata": {
        "id": "OGdMLx2ppu1l"
      }
    },
    {
      "cell_type": "code",
      "source": [
        "w1 = w1-learning_rate*dEdw1\n",
        "print(f'w1:\\n {w1}')"
      ],
      "metadata": {
        "colab": {
          "base_uri": "https://localhost:8080/"
        },
        "id": "tiX97IrUp3W6",
        "outputId": "b6a0b240-e189-4d2a-de1f-85df81c30dec"
      },
      "execution_count": null,
      "outputs": [
        {
          "output_type": "stream",
          "name": "stdout",
          "text": [
            "w1:\n",
            " [[0.2335488578048949 0.7701939366404611]\n",
            " [0.9802994957584805 0.21743479417463907]\n",
            " [0.5038045772195788 0.5906145100229327]]\n"
          ]
        }
      ]
    },
    {
      "cell_type": "markdown",
      "source": [
        "# Prediction"
      ],
      "metadata": {
        "id": "davy_VOCqR23"
      }
    },
    {
      "cell_type": "code",
      "source": [
        "def predict(X,w1,w2):\n",
        "    return sigmoid(np.matmul(sigmoid(np.matmul(X,w1)),w2))"
      ],
      "metadata": {
        "id": "a45S17lptzxm"
      },
      "execution_count": null,
      "outputs": []
    },
    {
      "cell_type": "code",
      "source": [
        "prediction = predict(X, w1,w2)\n",
        "\n",
        "print(f'prediction probabilities:\\n {prediction}')\n",
        "print(f'prediction:\\n {np.round(prediction)}')"
      ],
      "metadata": {
        "colab": {
          "base_uri": "https://localhost:8080/"
        },
        "id": "qq38OHjbqXkw",
        "outputId": "f4922cd1-0c7b-4871-b86d-ef8d7cd71821"
      },
      "execution_count": null,
      "outputs": [
        {
          "output_type": "stream",
          "name": "stdout",
          "text": [
            "prediction probabilities:\n",
            " [[0.61940802]\n",
            " [0.61280987]\n",
            " [0.607695  ]\n",
            " [0.63442477]\n",
            " [0.64863401]]\n",
            "prediction:\n",
            " [[1.]\n",
            " [1.]\n",
            " [1.]\n",
            " [1.]\n",
            " [1.]]\n"
          ]
        }
      ]
    },
    {
      "cell_type": "markdown",
      "source": [
        "# Training\n",
        "Let's run for 500 epochs and check whether the loss decreases or not. In the mean time, the prediction should get better."
      ],
      "metadata": {
        "id": "nD8La09qqwd9"
      }
    },
    {
      "cell_type": "code",
      "source": [
        "data_np = data.to_numpy()\n",
        "X = data_np[:,[1,2,3]]\n",
        "y = data_np[:,4]\n",
        "y = np.atleast_2d(y).T\n",
        "\n",
        "w1 = np.random.random((3,2))\n",
        "w2 = np.random.random((2,1))\n",
        "\n",
        "epochs = 50\n",
        "learning_rate = 3\n",
        "\n",
        "for i in range(0, epochs):\n",
        "    z_h=np.matmul(X,w1)\n",
        "    a_h = sigmoid(z_h)\n",
        "    z_o=np.matmul(a_h,w2)\n",
        "    a_o=sigmoid(z_o)\n",
        "    error = (0.5*(np.power((a_o-y),2)))\n",
        "    print(f'error in epoch {i+1}: {np.sum(error)}')\n",
        "\n",
        "\n",
        "    dEdao = a_o-y\n",
        "    daozo = sigmoid_derivative(a_o)\n",
        "    dEdw2 = np.matmul(a_h.T, (dEdao*daozo))\n",
        "    learning_rate = 3\n",
        "    w2 = w2 - learning_rate*dEdw2\n",
        "\n",
        "    dEdzo = dEdao*daozo\n",
        "    dEdah = np.matmul(dEdzo, w2.T)\n",
        "    dahdzh = sigmoid_derivative(a_h)\n",
        "    dEdw1 = np.matmul(X.T, dEdah*dahdzh)\n",
        "    w1 = w1-learning_rate*dEdw1\n",
        "\n",
        "prediction = predict(X, w1, w2)\n",
        "\n",
        "print(f'prediction probabilities:\\n {prediction}')\n",
        "print(f'prediction:\\n {np.round(prediction)}')"
      ],
      "metadata": {
        "colab": {
          "base_uri": "https://localhost:8080/"
        },
        "id": "QUbD7hcxrFhI",
        "outputId": "3cf49bd8-be28-4ae3-a739-9f8e54857bbc"
      },
      "execution_count": null,
      "outputs": [
        {
          "output_type": "stream",
          "name": "stdout",
          "text": [
            "error in epoch 1: 0.5797383466220697\n",
            "error in epoch 2: 0.5707010229538079\n",
            "error in epoch 3: 0.5647613598237415\n",
            "error in epoch 4: 0.5583721490095633\n",
            "error in epoch 5: 0.5511495042928337\n",
            "error in epoch 6: 0.5429051666102428\n",
            "error in epoch 7: 0.5333965253599031\n",
            "error in epoch 8: 0.5223315466905648\n",
            "error in epoch 9: 0.5093801300106651\n",
            "error in epoch 10: 0.49419112023329115\n",
            "error in epoch 11: 0.4764221052141663\n",
            "error in epoch 12: 0.45578624709638255\n",
            "error in epoch 13: 0.43211608768422805\n",
            "error in epoch 14: 0.405436218500684\n",
            "error in epoch 15: 0.3760256365892017\n",
            "error in epoch 16: 0.3444430552819851\n",
            "error in epoch 17: 0.3114951635342913\n",
            "error in epoch 18: 0.2781521628112898\n",
            "error in epoch 19: 0.2454398660007863\n",
            "error in epoch 20: 0.21433743526913726\n",
            "error in epoch 21: 0.185684906235823\n",
            "error in epoch 22: 0.1600911321103385\n",
            "error in epoch 23: 0.1378582604600843\n",
            "error in epoch 24: 0.11896898986671359\n",
            "error in epoch 25: 0.10315691327018425\n",
            "error in epoch 26: 0.0900207834342045\n",
            "error in epoch 27: 0.07912637846142528\n",
            "error in epoch 28: 0.0700692668028238\n",
            "error in epoch 29: 0.06250180702493555\n",
            "error in epoch 30: 0.05613804323283358\n",
            "error in epoch 31: 0.050748170712827056\n",
            "error in epoch 32: 0.04614951843145072\n",
            "error in epoch 33: 0.04219738808980063\n",
            "error in epoch 34: 0.03877704523418546\n",
            "error in epoch 35: 0.035797177187163194\n",
            "error in epoch 36: 0.033184727539564265\n",
            "error in epoch 37: 0.030880886004704487\n",
            "error in epoch 38: 0.028837998415987533\n",
            "error in epoch 39: 0.027017190336322824\n",
            "error in epoch 40: 0.025386536869552584\n",
            "error in epoch 41: 0.023919648213416588\n",
            "error in epoch 42: 0.02259457132493529\n",
            "error in epoch 43: 0.02139293236619515\n",
            "error in epoch 44: 0.020299263193189813\n",
            "error in epoch 45: 0.019300469165804357\n",
            "error in epoch 46: 0.018385406043929436\n",
            "error in epoch 47: 0.017544541561359803\n",
            "error in epoch 48: 0.016769683112849796\n",
            "error in epoch 49: 0.01605375736304217\n",
            "error in epoch 50: 0.015390630870618791\n",
            "prediction probabilities:\n",
            " [[0.97237642]\n",
            " [0.09364877]\n",
            " [0.09757311]\n",
            " [0.95970478]\n",
            " [0.90580575]]\n",
            "prediction:\n",
            " [[1.]\n",
            " [0.]\n",
            " [0.]\n",
            " [1.]\n",
            " [1.]]\n"
          ]
        }
      ]
    },
    {
      "cell_type": "markdown",
      "source": [
        "### Tasks\n",
        "1. Implement a neural network model to categorize three species of Iris. The dataset can be found [here](https://www.kaggle.com/uciml/iris). Your neural network model should contain **two** hidden layers with as many neurons as you want. For this task, use of any libraries other than `numpy` and `pandas` is prohibited. Your training, validation and test set should have a ratio of 60:20:20. Finally, show the `accuracy` score along with two graphs - training & validation accuracy vs epoch, training & validation loss vs epoch.\n",
        "\n",
        "1. Implement a neural network model to categorize three species of Iris using **Keras** library from python. The dataset can be found [here](https://www.kaggle.com/uciml/iris). Your neural network model should contain **two** hidden layers with as many neurons as you want. For this task, use of any library is permissible. Your training, validation and test set should have a ratio of 60:20:20. Finally, show the `accuracy` score along with two graphs - training & validation accuracy vs epoch, training & validation loss vs epoch. This [link](https://machinelearningmastery.com/tutorial-first-neural-network-python-keras/) might help you implementing a neural network with **Keras**.\n",
        "\n",
        "1. For the task `2`, experiment with different number of hidden layers (*2, 4, 6*) to increase the accuracy score. Also show the effect of followings on overall performance: **different activation function (*relu, sigmoid, tanh*) for layers**, **different optimizers (*Adam, Adagrad, Adadelta*)**, and **various learning rates (*1, 0.1, 0.01*)**.\n",
        "<br>\n",
        "<br>\n",
        "*N.B.: Any additional experiment (such as, Early Stopping) with justification or training insights will contain bonus points.*\n",
        "    "
      ],
      "metadata": {
        "id": "IVlm_ftn9xXB"
      }
    },
    {
      "cell_type": "markdown",
      "source": [
        "### Solution: Task - 1"
      ],
      "metadata": {
        "id": "M-GWRdXfEADs"
      }
    },
    {
      "cell_type": "code",
      "source": [
        "# Codes for Task 1\n",
        "!unzip -q archive.zip\n"
      ],
      "metadata": {
        "id": "vJcurzeEi8ww",
        "outputId": "2db8e0ea-046d-46f7-d1e8-ddb1459b539c",
        "colab": {
          "base_uri": "https://localhost:8080/"
        }
      },
      "execution_count": null,
      "outputs": [
        {
          "output_type": "stream",
          "name": "stdout",
          "text": [
            "replace Iris.csv? [y]es, [n]o, [A]ll, [N]one, [r]ename: "
          ]
        }
      ]
    },
    {
      "cell_type": "code",
      "source": [
        "df=pd.read_csv(\"Iris.csv\")\n",
        "df.info() \n"
      ],
      "metadata": {
        "id": "vTzQyNaVjo9r",
        "outputId": "300c559a-db72-4483-e93d-379a301eecee",
        "colab": {
          "base_uri": "https://localhost:8080/"
        }
      },
      "execution_count": null,
      "outputs": [
        {
          "output_type": "stream",
          "name": "stdout",
          "text": [
            "<class 'pandas.core.frame.DataFrame'>\n",
            "RangeIndex: 150 entries, 0 to 149\n",
            "Data columns (total 6 columns):\n",
            " #   Column         Non-Null Count  Dtype  \n",
            "---  ------         --------------  -----  \n",
            " 0   Id             150 non-null    int64  \n",
            " 1   SepalLengthCm  150 non-null    float64\n",
            " 2   SepalWidthCm   150 non-null    float64\n",
            " 3   PetalLengthCm  150 non-null    float64\n",
            " 4   PetalWidthCm   150 non-null    float64\n",
            " 5   Species        150 non-null    object \n",
            "dtypes: float64(4), int64(1), object(1)\n",
            "memory usage: 7.2+ KB\n"
          ]
        }
      ]
    },
    {
      "cell_type": "code",
      "source": [
        "df.tail()"
      ],
      "metadata": {
        "id": "lRsCc1b2k0Oo",
        "outputId": "dc36942c-a901-4277-fb04-8db49496fe49",
        "colab": {
          "base_uri": "https://localhost:8080/",
          "height": 206
        }
      },
      "execution_count": null,
      "outputs": [
        {
          "output_type": "execute_result",
          "data": {
            "text/html": [
              "\n",
              "  <div id=\"df-5a1a7cb9-cfdb-4575-8b3f-560df4a13bd2\">\n",
              "    <div class=\"colab-df-container\">\n",
              "      <div>\n",
              "<style scoped>\n",
              "    .dataframe tbody tr th:only-of-type {\n",
              "        vertical-align: middle;\n",
              "    }\n",
              "\n",
              "    .dataframe tbody tr th {\n",
              "        vertical-align: top;\n",
              "    }\n",
              "\n",
              "    .dataframe thead th {\n",
              "        text-align: right;\n",
              "    }\n",
              "</style>\n",
              "<table border=\"1\" class=\"dataframe\">\n",
              "  <thead>\n",
              "    <tr style=\"text-align: right;\">\n",
              "      <th></th>\n",
              "      <th>Id</th>\n",
              "      <th>SepalLengthCm</th>\n",
              "      <th>SepalWidthCm</th>\n",
              "      <th>PetalLengthCm</th>\n",
              "      <th>PetalWidthCm</th>\n",
              "      <th>Species</th>\n",
              "    </tr>\n",
              "  </thead>\n",
              "  <tbody>\n",
              "    <tr>\n",
              "      <th>145</th>\n",
              "      <td>146</td>\n",
              "      <td>6.7</td>\n",
              "      <td>3.0</td>\n",
              "      <td>5.2</td>\n",
              "      <td>2.3</td>\n",
              "      <td>Iris-virginica</td>\n",
              "    </tr>\n",
              "    <tr>\n",
              "      <th>146</th>\n",
              "      <td>147</td>\n",
              "      <td>6.3</td>\n",
              "      <td>2.5</td>\n",
              "      <td>5.0</td>\n",
              "      <td>1.9</td>\n",
              "      <td>Iris-virginica</td>\n",
              "    </tr>\n",
              "    <tr>\n",
              "      <th>147</th>\n",
              "      <td>148</td>\n",
              "      <td>6.5</td>\n",
              "      <td>3.0</td>\n",
              "      <td>5.2</td>\n",
              "      <td>2.0</td>\n",
              "      <td>Iris-virginica</td>\n",
              "    </tr>\n",
              "    <tr>\n",
              "      <th>148</th>\n",
              "      <td>149</td>\n",
              "      <td>6.2</td>\n",
              "      <td>3.4</td>\n",
              "      <td>5.4</td>\n",
              "      <td>2.3</td>\n",
              "      <td>Iris-virginica</td>\n",
              "    </tr>\n",
              "    <tr>\n",
              "      <th>149</th>\n",
              "      <td>150</td>\n",
              "      <td>5.9</td>\n",
              "      <td>3.0</td>\n",
              "      <td>5.1</td>\n",
              "      <td>1.8</td>\n",
              "      <td>Iris-virginica</td>\n",
              "    </tr>\n",
              "  </tbody>\n",
              "</table>\n",
              "</div>\n",
              "      <button class=\"colab-df-convert\" onclick=\"convertToInteractive('df-5a1a7cb9-cfdb-4575-8b3f-560df4a13bd2')\"\n",
              "              title=\"Convert this dataframe to an interactive table.\"\n",
              "              style=\"display:none;\">\n",
              "        \n",
              "  <svg xmlns=\"http://www.w3.org/2000/svg\" height=\"24px\"viewBox=\"0 0 24 24\"\n",
              "       width=\"24px\">\n",
              "    <path d=\"M0 0h24v24H0V0z\" fill=\"none\"/>\n",
              "    <path d=\"M18.56 5.44l.94 2.06.94-2.06 2.06-.94-2.06-.94-.94-2.06-.94 2.06-2.06.94zm-11 1L8.5 8.5l.94-2.06 2.06-.94-2.06-.94L8.5 2.5l-.94 2.06-2.06.94zm10 10l.94 2.06.94-2.06 2.06-.94-2.06-.94-.94-2.06-.94 2.06-2.06.94z\"/><path d=\"M17.41 7.96l-1.37-1.37c-.4-.4-.92-.59-1.43-.59-.52 0-1.04.2-1.43.59L10.3 9.45l-7.72 7.72c-.78.78-.78 2.05 0 2.83L4 21.41c.39.39.9.59 1.41.59.51 0 1.02-.2 1.41-.59l7.78-7.78 2.81-2.81c.8-.78.8-2.07 0-2.86zM5.41 20L4 18.59l7.72-7.72 1.47 1.35L5.41 20z\"/>\n",
              "  </svg>\n",
              "      </button>\n",
              "      \n",
              "  <style>\n",
              "    .colab-df-container {\n",
              "      display:flex;\n",
              "      flex-wrap:wrap;\n",
              "      gap: 12px;\n",
              "    }\n",
              "\n",
              "    .colab-df-convert {\n",
              "      background-color: #E8F0FE;\n",
              "      border: none;\n",
              "      border-radius: 50%;\n",
              "      cursor: pointer;\n",
              "      display: none;\n",
              "      fill: #1967D2;\n",
              "      height: 32px;\n",
              "      padding: 0 0 0 0;\n",
              "      width: 32px;\n",
              "    }\n",
              "\n",
              "    .colab-df-convert:hover {\n",
              "      background-color: #E2EBFA;\n",
              "      box-shadow: 0px 1px 2px rgba(60, 64, 67, 0.3), 0px 1px 3px 1px rgba(60, 64, 67, 0.15);\n",
              "      fill: #174EA6;\n",
              "    }\n",
              "\n",
              "    [theme=dark] .colab-df-convert {\n",
              "      background-color: #3B4455;\n",
              "      fill: #D2E3FC;\n",
              "    }\n",
              "\n",
              "    [theme=dark] .colab-df-convert:hover {\n",
              "      background-color: #434B5C;\n",
              "      box-shadow: 0px 1px 3px 1px rgba(0, 0, 0, 0.15);\n",
              "      filter: drop-shadow(0px 1px 2px rgba(0, 0, 0, 0.3));\n",
              "      fill: #FFFFFF;\n",
              "    }\n",
              "  </style>\n",
              "\n",
              "      <script>\n",
              "        const buttonEl =\n",
              "          document.querySelector('#df-5a1a7cb9-cfdb-4575-8b3f-560df4a13bd2 button.colab-df-convert');\n",
              "        buttonEl.style.display =\n",
              "          google.colab.kernel.accessAllowed ? 'block' : 'none';\n",
              "\n",
              "        async function convertToInteractive(key) {\n",
              "          const element = document.querySelector('#df-5a1a7cb9-cfdb-4575-8b3f-560df4a13bd2');\n",
              "          const dataTable =\n",
              "            await google.colab.kernel.invokeFunction('convertToInteractive',\n",
              "                                                     [key], {});\n",
              "          if (!dataTable) return;\n",
              "\n",
              "          const docLinkHtml = 'Like what you see? Visit the ' +\n",
              "            '<a target=\"_blank\" href=https://colab.research.google.com/notebooks/data_table.ipynb>data table notebook</a>'\n",
              "            + ' to learn more about interactive tables.';\n",
              "          element.innerHTML = '';\n",
              "          dataTable['output_type'] = 'display_data';\n",
              "          await google.colab.output.renderOutput(dataTable, element);\n",
              "          const docLink = document.createElement('div');\n",
              "          docLink.innerHTML = docLinkHtml;\n",
              "          element.appendChild(docLink);\n",
              "        }\n",
              "      </script>\n",
              "    </div>\n",
              "  </div>\n",
              "  "
            ],
            "text/plain": [
              "      Id  SepalLengthCm  ...  PetalWidthCm         Species\n",
              "145  146            6.7  ...           2.3  Iris-virginica\n",
              "146  147            6.3  ...           1.9  Iris-virginica\n",
              "147  148            6.5  ...           2.0  Iris-virginica\n",
              "148  149            6.2  ...           2.3  Iris-virginica\n",
              "149  150            5.9  ...           1.8  Iris-virginica\n",
              "\n",
              "[5 rows x 6 columns]"
            ]
          },
          "metadata": {},
          "execution_count": 86
        }
      ]
    },
    {
      "cell_type": "code",
      "source": [
        "df[\"Species\"].value_counts()"
      ],
      "metadata": {
        "id": "Cpc7yM1UlWqX",
        "outputId": "d183acff-b453-4154-db88-cd2691b84e0c",
        "colab": {
          "base_uri": "https://localhost:8080/"
        }
      },
      "execution_count": null,
      "outputs": [
        {
          "output_type": "execute_result",
          "data": {
            "text/plain": [
              "Iris-setosa        50\n",
              "Iris-virginica     50\n",
              "Iris-versicolor    50\n",
              "Name: Species, dtype: int64"
            ]
          },
          "metadata": {},
          "execution_count": 87
        }
      ]
    },
    {
      "cell_type": "code",
      "source": [
        "df.drop(\"Id\",axis=1,inplace=True)"
      ],
      "metadata": {
        "id": "v_tpRyAClwBm"
      },
      "execution_count": null,
      "outputs": []
    },
    {
      "cell_type": "code",
      "source": [
        "df[\"Iris-virginica\"]=df['Species'].apply(lambda x: 1 if x==\"Iris-virginica\" else 0)\n",
        "df[\"Iris-versicolor\"]=df['Species'].apply(lambda x: 1 if x==\"Iris-versicolor\" else 0)\n",
        "df[\"Iris-setosa\"]=df['Species'].apply(lambda x: 1 if x==\"Iris-setosa\" else 0)\n",
        "df.drop(\"Species\",axis=1,inplace=True)\n",
        "\n"
      ],
      "metadata": {
        "id": "qHSWPJUNma2W"
      },
      "execution_count": null,
      "outputs": []
    },
    {
      "cell_type": "code",
      "source": [
        "X=df.iloc[:,:4]\n",
        "Y=df.iloc[:,4:]"
      ],
      "metadata": {
        "id": "heYpT-SG1hAY"
      },
      "execution_count": null,
      "outputs": []
    },
    {
      "cell_type": "code",
      "source": [
        "Y.tail()"
      ],
      "metadata": {
        "id": "EYQJb39g3cg3",
        "outputId": "7e74aa8e-be3a-466c-ce21-86454c5a8598",
        "colab": {
          "base_uri": "https://localhost:8080/",
          "height": 206
        }
      },
      "execution_count": null,
      "outputs": [
        {
          "output_type": "execute_result",
          "data": {
            "text/html": [
              "\n",
              "  <div id=\"df-f5c387bb-4d8e-41d2-ba9c-3f2581c64237\">\n",
              "    <div class=\"colab-df-container\">\n",
              "      <div>\n",
              "<style scoped>\n",
              "    .dataframe tbody tr th:only-of-type {\n",
              "        vertical-align: middle;\n",
              "    }\n",
              "\n",
              "    .dataframe tbody tr th {\n",
              "        vertical-align: top;\n",
              "    }\n",
              "\n",
              "    .dataframe thead th {\n",
              "        text-align: right;\n",
              "    }\n",
              "</style>\n",
              "<table border=\"1\" class=\"dataframe\">\n",
              "  <thead>\n",
              "    <tr style=\"text-align: right;\">\n",
              "      <th></th>\n",
              "      <th>Iris-virginica</th>\n",
              "      <th>Iris-versicolor</th>\n",
              "      <th>Iris-setosa</th>\n",
              "    </tr>\n",
              "  </thead>\n",
              "  <tbody>\n",
              "    <tr>\n",
              "      <th>145</th>\n",
              "      <td>1</td>\n",
              "      <td>0</td>\n",
              "      <td>0</td>\n",
              "    </tr>\n",
              "    <tr>\n",
              "      <th>146</th>\n",
              "      <td>1</td>\n",
              "      <td>0</td>\n",
              "      <td>0</td>\n",
              "    </tr>\n",
              "    <tr>\n",
              "      <th>147</th>\n",
              "      <td>1</td>\n",
              "      <td>0</td>\n",
              "      <td>0</td>\n",
              "    </tr>\n",
              "    <tr>\n",
              "      <th>148</th>\n",
              "      <td>1</td>\n",
              "      <td>0</td>\n",
              "      <td>0</td>\n",
              "    </tr>\n",
              "    <tr>\n",
              "      <th>149</th>\n",
              "      <td>1</td>\n",
              "      <td>0</td>\n",
              "      <td>0</td>\n",
              "    </tr>\n",
              "  </tbody>\n",
              "</table>\n",
              "</div>\n",
              "      <button class=\"colab-df-convert\" onclick=\"convertToInteractive('df-f5c387bb-4d8e-41d2-ba9c-3f2581c64237')\"\n",
              "              title=\"Convert this dataframe to an interactive table.\"\n",
              "              style=\"display:none;\">\n",
              "        \n",
              "  <svg xmlns=\"http://www.w3.org/2000/svg\" height=\"24px\"viewBox=\"0 0 24 24\"\n",
              "       width=\"24px\">\n",
              "    <path d=\"M0 0h24v24H0V0z\" fill=\"none\"/>\n",
              "    <path d=\"M18.56 5.44l.94 2.06.94-2.06 2.06-.94-2.06-.94-.94-2.06-.94 2.06-2.06.94zm-11 1L8.5 8.5l.94-2.06 2.06-.94-2.06-.94L8.5 2.5l-.94 2.06-2.06.94zm10 10l.94 2.06.94-2.06 2.06-.94-2.06-.94-.94-2.06-.94 2.06-2.06.94z\"/><path d=\"M17.41 7.96l-1.37-1.37c-.4-.4-.92-.59-1.43-.59-.52 0-1.04.2-1.43.59L10.3 9.45l-7.72 7.72c-.78.78-.78 2.05 0 2.83L4 21.41c.39.39.9.59 1.41.59.51 0 1.02-.2 1.41-.59l7.78-7.78 2.81-2.81c.8-.78.8-2.07 0-2.86zM5.41 20L4 18.59l7.72-7.72 1.47 1.35L5.41 20z\"/>\n",
              "  </svg>\n",
              "      </button>\n",
              "      \n",
              "  <style>\n",
              "    .colab-df-container {\n",
              "      display:flex;\n",
              "      flex-wrap:wrap;\n",
              "      gap: 12px;\n",
              "    }\n",
              "\n",
              "    .colab-df-convert {\n",
              "      background-color: #E8F0FE;\n",
              "      border: none;\n",
              "      border-radius: 50%;\n",
              "      cursor: pointer;\n",
              "      display: none;\n",
              "      fill: #1967D2;\n",
              "      height: 32px;\n",
              "      padding: 0 0 0 0;\n",
              "      width: 32px;\n",
              "    }\n",
              "\n",
              "    .colab-df-convert:hover {\n",
              "      background-color: #E2EBFA;\n",
              "      box-shadow: 0px 1px 2px rgba(60, 64, 67, 0.3), 0px 1px 3px 1px rgba(60, 64, 67, 0.15);\n",
              "      fill: #174EA6;\n",
              "    }\n",
              "\n",
              "    [theme=dark] .colab-df-convert {\n",
              "      background-color: #3B4455;\n",
              "      fill: #D2E3FC;\n",
              "    }\n",
              "\n",
              "    [theme=dark] .colab-df-convert:hover {\n",
              "      background-color: #434B5C;\n",
              "      box-shadow: 0px 1px 3px 1px rgba(0, 0, 0, 0.15);\n",
              "      filter: drop-shadow(0px 1px 2px rgba(0, 0, 0, 0.3));\n",
              "      fill: #FFFFFF;\n",
              "    }\n",
              "  </style>\n",
              "\n",
              "      <script>\n",
              "        const buttonEl =\n",
              "          document.querySelector('#df-f5c387bb-4d8e-41d2-ba9c-3f2581c64237 button.colab-df-convert');\n",
              "        buttonEl.style.display =\n",
              "          google.colab.kernel.accessAllowed ? 'block' : 'none';\n",
              "\n",
              "        async function convertToInteractive(key) {\n",
              "          const element = document.querySelector('#df-f5c387bb-4d8e-41d2-ba9c-3f2581c64237');\n",
              "          const dataTable =\n",
              "            await google.colab.kernel.invokeFunction('convertToInteractive',\n",
              "                                                     [key], {});\n",
              "          if (!dataTable) return;\n",
              "\n",
              "          const docLinkHtml = 'Like what you see? Visit the ' +\n",
              "            '<a target=\"_blank\" href=https://colab.research.google.com/notebooks/data_table.ipynb>data table notebook</a>'\n",
              "            + ' to learn more about interactive tables.';\n",
              "          element.innerHTML = '';\n",
              "          dataTable['output_type'] = 'display_data';\n",
              "          await google.colab.output.renderOutput(dataTable, element);\n",
              "          const docLink = document.createElement('div');\n",
              "          docLink.innerHTML = docLinkHtml;\n",
              "          element.appendChild(docLink);\n",
              "        }\n",
              "      </script>\n",
              "    </div>\n",
              "  </div>\n",
              "  "
            ],
            "text/plain": [
              "     Iris-virginica  Iris-versicolor  Iris-setosa\n",
              "145               1                0            0\n",
              "146               1                0            0\n",
              "147               1                0            0\n",
              "148               1                0            0\n",
              "149               1                0            0"
            ]
          },
          "metadata": {},
          "execution_count": 91
        }
      ]
    },
    {
      "cell_type": "code",
      "source": [
        "from sklearn.model_selection import train_test_split\n",
        "X_train,X_test,Y_train,Y_test=train_test_split(X,Y,test_size=0.2,random_state=42)\n",
        "X_train,X_validation,Y_train,Y_validation=train_test_split(X_train,Y_train,test_size=0.2,random_state=42)"
      ],
      "metadata": {
        "id": "-nQUVF0BrLgo"
      },
      "execution_count": null,
      "outputs": []
    },
    {
      "cell_type": "code",
      "source": [
        "print(X_train.shape)\n",
        "print(X_test.shape)\n",
        "print(X_validation.shape)"
      ],
      "metadata": {
        "id": "qEkM7HKTo08d",
        "outputId": "e8ca7758-5c5b-467f-fc60-2cb08358048d",
        "colab": {
          "base_uri": "https://localhost:8080/"
        }
      },
      "execution_count": null,
      "outputs": [
        {
          "output_type": "stream",
          "name": "stdout",
          "text": [
            "(96, 4)\n",
            "(30, 4)\n",
            "(24, 4)\n"
          ]
        }
      ]
    },
    {
      "cell_type": "code",
      "source": [
        "Y_test.head()"
      ],
      "metadata": {
        "id": "KqQXLx3Iu9fs",
        "outputId": "cd8d5b85-83f3-4883-8fe6-44cb2518db36",
        "colab": {
          "base_uri": "https://localhost:8080/",
          "height": 206
        }
      },
      "execution_count": null,
      "outputs": [
        {
          "output_type": "execute_result",
          "data": {
            "text/html": [
              "\n",
              "  <div id=\"df-5322f5eb-6ae9-4aa6-9192-1503df21e5df\">\n",
              "    <div class=\"colab-df-container\">\n",
              "      <div>\n",
              "<style scoped>\n",
              "    .dataframe tbody tr th:only-of-type {\n",
              "        vertical-align: middle;\n",
              "    }\n",
              "\n",
              "    .dataframe tbody tr th {\n",
              "        vertical-align: top;\n",
              "    }\n",
              "\n",
              "    .dataframe thead th {\n",
              "        text-align: right;\n",
              "    }\n",
              "</style>\n",
              "<table border=\"1\" class=\"dataframe\">\n",
              "  <thead>\n",
              "    <tr style=\"text-align: right;\">\n",
              "      <th></th>\n",
              "      <th>Iris-virginica</th>\n",
              "      <th>Iris-versicolor</th>\n",
              "      <th>Iris-setosa</th>\n",
              "    </tr>\n",
              "  </thead>\n",
              "  <tbody>\n",
              "    <tr>\n",
              "      <th>73</th>\n",
              "      <td>0</td>\n",
              "      <td>1</td>\n",
              "      <td>0</td>\n",
              "    </tr>\n",
              "    <tr>\n",
              "      <th>18</th>\n",
              "      <td>0</td>\n",
              "      <td>0</td>\n",
              "      <td>1</td>\n",
              "    </tr>\n",
              "    <tr>\n",
              "      <th>118</th>\n",
              "      <td>1</td>\n",
              "      <td>0</td>\n",
              "      <td>0</td>\n",
              "    </tr>\n",
              "    <tr>\n",
              "      <th>78</th>\n",
              "      <td>0</td>\n",
              "      <td>1</td>\n",
              "      <td>0</td>\n",
              "    </tr>\n",
              "    <tr>\n",
              "      <th>76</th>\n",
              "      <td>0</td>\n",
              "      <td>1</td>\n",
              "      <td>0</td>\n",
              "    </tr>\n",
              "  </tbody>\n",
              "</table>\n",
              "</div>\n",
              "      <button class=\"colab-df-convert\" onclick=\"convertToInteractive('df-5322f5eb-6ae9-4aa6-9192-1503df21e5df')\"\n",
              "              title=\"Convert this dataframe to an interactive table.\"\n",
              "              style=\"display:none;\">\n",
              "        \n",
              "  <svg xmlns=\"http://www.w3.org/2000/svg\" height=\"24px\"viewBox=\"0 0 24 24\"\n",
              "       width=\"24px\">\n",
              "    <path d=\"M0 0h24v24H0V0z\" fill=\"none\"/>\n",
              "    <path d=\"M18.56 5.44l.94 2.06.94-2.06 2.06-.94-2.06-.94-.94-2.06-.94 2.06-2.06.94zm-11 1L8.5 8.5l.94-2.06 2.06-.94-2.06-.94L8.5 2.5l-.94 2.06-2.06.94zm10 10l.94 2.06.94-2.06 2.06-.94-2.06-.94-.94-2.06-.94 2.06-2.06.94z\"/><path d=\"M17.41 7.96l-1.37-1.37c-.4-.4-.92-.59-1.43-.59-.52 0-1.04.2-1.43.59L10.3 9.45l-7.72 7.72c-.78.78-.78 2.05 0 2.83L4 21.41c.39.39.9.59 1.41.59.51 0 1.02-.2 1.41-.59l7.78-7.78 2.81-2.81c.8-.78.8-2.07 0-2.86zM5.41 20L4 18.59l7.72-7.72 1.47 1.35L5.41 20z\"/>\n",
              "  </svg>\n",
              "      </button>\n",
              "      \n",
              "  <style>\n",
              "    .colab-df-container {\n",
              "      display:flex;\n",
              "      flex-wrap:wrap;\n",
              "      gap: 12px;\n",
              "    }\n",
              "\n",
              "    .colab-df-convert {\n",
              "      background-color: #E8F0FE;\n",
              "      border: none;\n",
              "      border-radius: 50%;\n",
              "      cursor: pointer;\n",
              "      display: none;\n",
              "      fill: #1967D2;\n",
              "      height: 32px;\n",
              "      padding: 0 0 0 0;\n",
              "      width: 32px;\n",
              "    }\n",
              "\n",
              "    .colab-df-convert:hover {\n",
              "      background-color: #E2EBFA;\n",
              "      box-shadow: 0px 1px 2px rgba(60, 64, 67, 0.3), 0px 1px 3px 1px rgba(60, 64, 67, 0.15);\n",
              "      fill: #174EA6;\n",
              "    }\n",
              "\n",
              "    [theme=dark] .colab-df-convert {\n",
              "      background-color: #3B4455;\n",
              "      fill: #D2E3FC;\n",
              "    }\n",
              "\n",
              "    [theme=dark] .colab-df-convert:hover {\n",
              "      background-color: #434B5C;\n",
              "      box-shadow: 0px 1px 3px 1px rgba(0, 0, 0, 0.15);\n",
              "      filter: drop-shadow(0px 1px 2px rgba(0, 0, 0, 0.3));\n",
              "      fill: #FFFFFF;\n",
              "    }\n",
              "  </style>\n",
              "\n",
              "      <script>\n",
              "        const buttonEl =\n",
              "          document.querySelector('#df-5322f5eb-6ae9-4aa6-9192-1503df21e5df button.colab-df-convert');\n",
              "        buttonEl.style.display =\n",
              "          google.colab.kernel.accessAllowed ? 'block' : 'none';\n",
              "\n",
              "        async function convertToInteractive(key) {\n",
              "          const element = document.querySelector('#df-5322f5eb-6ae9-4aa6-9192-1503df21e5df');\n",
              "          const dataTable =\n",
              "            await google.colab.kernel.invokeFunction('convertToInteractive',\n",
              "                                                     [key], {});\n",
              "          if (!dataTable) return;\n",
              "\n",
              "          const docLinkHtml = 'Like what you see? Visit the ' +\n",
              "            '<a target=\"_blank\" href=https://colab.research.google.com/notebooks/data_table.ipynb>data table notebook</a>'\n",
              "            + ' to learn more about interactive tables.';\n",
              "          element.innerHTML = '';\n",
              "          dataTable['output_type'] = 'display_data';\n",
              "          await google.colab.output.renderOutput(dataTable, element);\n",
              "          const docLink = document.createElement('div');\n",
              "          docLink.innerHTML = docLinkHtml;\n",
              "          element.appendChild(docLink);\n",
              "        }\n",
              "      </script>\n",
              "    </div>\n",
              "  </div>\n",
              "  "
            ],
            "text/plain": [
              "     Iris-virginica  Iris-versicolor  Iris-setosa\n",
              "73                0                1            0\n",
              "18                0                0            1\n",
              "118               1                0            0\n",
              "78                0                1            0\n",
              "76                0                1            0"
            ]
          },
          "metadata": {},
          "execution_count": 94
        }
      ]
    },
    {
      "cell_type": "markdown",
      "source": [
        "### Solution: Task - 2"
      ],
      "metadata": {
        "id": "8Hk4oDAQEGgh"
      }
    },
    {
      "cell_type": "code",
      "source": [
        "# Codes for Task 2\n",
        "\n",
        "import tensorflow as ten_f\n",
        "import tensorflow.keras as keras\n",
        "mod = keras.models.Sequential([\n",
        "keras.layers.InputLayer(input_shape=4, dtype='float64'),\n",
        "keras.layers.Dense(10, activation=\"relu\"),\n",
        "keras.layers.Dense(5, activation=\"relu\"),\n",
        "keras.layers.Dense(3, activation=\"softmax\")                 \n",
        "])\n",
        "mod.summary()\n"
      ],
      "metadata": {
        "id": "pVHnDoDVBRod",
        "outputId": "2b57c88e-d24a-49ee-892b-a9e86cf008e7",
        "colab": {
          "base_uri": "https://localhost:8080/"
        }
      },
      "execution_count": null,
      "outputs": [
        {
          "output_type": "stream",
          "name": "stdout",
          "text": [
            "Model: \"sequential_2\"\n",
            "_________________________________________________________________\n",
            " Layer (type)                Output Shape              Param #   \n",
            "=================================================================\n",
            " dense_6 (Dense)             (None, 10)                50        \n",
            "                                                                 \n",
            " dense_7 (Dense)             (None, 5)                 55        \n",
            "                                                                 \n",
            " dense_8 (Dense)             (None, 3)                 18        \n",
            "                                                                 \n",
            "=================================================================\n",
            "Total params: 123\n",
            "Trainable params: 123\n",
            "Non-trainable params: 0\n",
            "_________________________________________________________________\n"
          ]
        }
      ]
    },
    {
      "cell_type": "code",
      "source": [
        "from sklearn.utils import validation\n",
        "early_stopping_cb = keras.callbacks.EarlyStopping(patience=10,restore_best_weights=True)\n",
        "mod.compile(loss='binary_crossentropy',optimizer=\"adam\",metrics=['accuracy'])\n",
        "history=mod.fit(X_train,Y_train, epochs=300, batch_size=7,validation_data=(X_validation,Y_validation),callbacks=[early_stopping_cb])\n",
        "_, accuracy = mod.evaluate(X, Y)\n",
        "print('Accuracy: %2f' %(accuracy*100))"
      ],
      "metadata": {
        "id": "sUzNqyej23ZK",
        "outputId": "096c50dc-c99a-438c-9ff7-b1810e9c478a",
        "colab": {
          "base_uri": "https://localhost:8080/"
        }
      },
      "execution_count": null,
      "outputs": [
        {
          "output_type": "stream",
          "name": "stdout",
          "text": [
            "Epoch 1/300\n",
            "14/14 [==============================] - 2s 24ms/step - loss: 0.2917 - accuracy: 0.7396 - val_loss: 0.3459 - val_accuracy: 0.6250\n",
            "Epoch 2/300\n",
            "14/14 [==============================] - 0s 7ms/step - loss: 0.2889 - accuracy: 0.7708 - val_loss: 0.3423 - val_accuracy: 0.6250\n",
            "Epoch 3/300\n",
            "14/14 [==============================] - 0s 9ms/step - loss: 0.2856 - accuracy: 0.7812 - val_loss: 0.3386 - val_accuracy: 0.6667\n",
            "Epoch 4/300\n",
            "14/14 [==============================] - 0s 12ms/step - loss: 0.2830 - accuracy: 0.8125 - val_loss: 0.3345 - val_accuracy: 0.6667\n",
            "Epoch 5/300\n",
            "14/14 [==============================] - 0s 10ms/step - loss: 0.2804 - accuracy: 0.8125 - val_loss: 0.3338 - val_accuracy: 0.6667\n",
            "Epoch 6/300\n",
            "14/14 [==============================] - 0s 7ms/step - loss: 0.2782 - accuracy: 0.8125 - val_loss: 0.3311 - val_accuracy: 0.6667\n",
            "Epoch 7/300\n",
            "14/14 [==============================] - 0s 8ms/step - loss: 0.2760 - accuracy: 0.8542 - val_loss: 0.3270 - val_accuracy: 0.7083\n",
            "Epoch 8/300\n",
            "14/14 [==============================] - 0s 15ms/step - loss: 0.2736 - accuracy: 0.8542 - val_loss: 0.3268 - val_accuracy: 0.7083\n",
            "Epoch 9/300\n",
            "14/14 [==============================] - 0s 11ms/step - loss: 0.2718 - accuracy: 0.8646 - val_loss: 0.3224 - val_accuracy: 0.7083\n",
            "Epoch 10/300\n",
            "14/14 [==============================] - 0s 8ms/step - loss: 0.2695 - accuracy: 0.8646 - val_loss: 0.3227 - val_accuracy: 0.7083\n",
            "Epoch 11/300\n",
            "14/14 [==============================] - 0s 6ms/step - loss: 0.2672 - accuracy: 0.8646 - val_loss: 0.3187 - val_accuracy: 0.7083\n",
            "Epoch 12/300\n",
            "14/14 [==============================] - 0s 6ms/step - loss: 0.2658 - accuracy: 0.8958 - val_loss: 0.3133 - val_accuracy: 0.7500\n",
            "Epoch 13/300\n",
            "14/14 [==============================] - 0s 10ms/step - loss: 0.2634 - accuracy: 0.8958 - val_loss: 0.3136 - val_accuracy: 0.7083\n",
            "Epoch 14/300\n",
            "14/14 [==============================] - 0s 6ms/step - loss: 0.2612 - accuracy: 0.8750 - val_loss: 0.3161 - val_accuracy: 0.7083\n",
            "Epoch 15/300\n",
            "14/14 [==============================] - 0s 8ms/step - loss: 0.2588 - accuracy: 0.8646 - val_loss: 0.3136 - val_accuracy: 0.7083\n",
            "Epoch 16/300\n",
            "14/14 [==============================] - 0s 8ms/step - loss: 0.2559 - accuracy: 0.8958 - val_loss: 0.3079 - val_accuracy: 0.7083\n",
            "Epoch 17/300\n",
            "14/14 [==============================] - 0s 7ms/step - loss: 0.2527 - accuracy: 0.9062 - val_loss: 0.3039 - val_accuracy: 0.7500\n",
            "Epoch 18/300\n",
            "14/14 [==============================] - 0s 11ms/step - loss: 0.2505 - accuracy: 0.9167 - val_loss: 0.2987 - val_accuracy: 0.7500\n",
            "Epoch 19/300\n",
            "14/14 [==============================] - 0s 8ms/step - loss: 0.2471 - accuracy: 0.8958 - val_loss: 0.3035 - val_accuracy: 0.7083\n",
            "Epoch 20/300\n",
            "14/14 [==============================] - 0s 10ms/step - loss: 0.2441 - accuracy: 0.8958 - val_loss: 0.2992 - val_accuracy: 0.7083\n",
            "Epoch 21/300\n",
            "14/14 [==============================] - 0s 13ms/step - loss: 0.2409 - accuracy: 0.9062 - val_loss: 0.2911 - val_accuracy: 0.8333\n",
            "Epoch 22/300\n",
            "14/14 [==============================] - 0s 7ms/step - loss: 0.2384 - accuracy: 0.9375 - val_loss: 0.2880 - val_accuracy: 0.8750\n",
            "Epoch 23/300\n",
            "14/14 [==============================] - 0s 8ms/step - loss: 0.2355 - accuracy: 0.9375 - val_loss: 0.2837 - val_accuracy: 0.8750\n",
            "Epoch 24/300\n",
            "14/14 [==============================] - 0s 9ms/step - loss: 0.2328 - accuracy: 0.9479 - val_loss: 0.2829 - val_accuracy: 0.8750\n",
            "Epoch 25/300\n",
            "14/14 [==============================] - 0s 10ms/step - loss: 0.2307 - accuracy: 0.9479 - val_loss: 0.2789 - val_accuracy: 0.8750\n",
            "Epoch 26/300\n",
            "14/14 [==============================] - 0s 8ms/step - loss: 0.2292 - accuracy: 0.9167 - val_loss: 0.2856 - val_accuracy: 0.7500\n",
            "Epoch 27/300\n",
            "14/14 [==============================] - 0s 8ms/step - loss: 0.2251 - accuracy: 0.9375 - val_loss: 0.2768 - val_accuracy: 0.8750\n",
            "Epoch 28/300\n",
            "14/14 [==============================] - 0s 12ms/step - loss: 0.2230 - accuracy: 0.9375 - val_loss: 0.2776 - val_accuracy: 0.8750\n",
            "Epoch 29/300\n",
            "14/14 [==============================] - 0s 8ms/step - loss: 0.2195 - accuracy: 0.9479 - val_loss: 0.2674 - val_accuracy: 0.8750\n",
            "Epoch 30/300\n",
            "14/14 [==============================] - 0s 8ms/step - loss: 0.2173 - accuracy: 0.9479 - val_loss: 0.2660 - val_accuracy: 0.8750\n",
            "Epoch 31/300\n",
            "14/14 [==============================] - 0s 8ms/step - loss: 0.2145 - accuracy: 0.9479 - val_loss: 0.2642 - val_accuracy: 0.8750\n",
            "Epoch 32/300\n",
            "14/14 [==============================] - 0s 6ms/step - loss: 0.2125 - accuracy: 0.9479 - val_loss: 0.2626 - val_accuracy: 0.8750\n",
            "Epoch 33/300\n",
            "14/14 [==============================] - 0s 8ms/step - loss: 0.2104 - accuracy: 0.9479 - val_loss: 0.2543 - val_accuracy: 0.8750\n",
            "Epoch 34/300\n",
            "14/14 [==============================] - 0s 7ms/step - loss: 0.2069 - accuracy: 0.9583 - val_loss: 0.2561 - val_accuracy: 0.8750\n",
            "Epoch 35/300\n",
            "14/14 [==============================] - 0s 6ms/step - loss: 0.2054 - accuracy: 0.9479 - val_loss: 0.2639 - val_accuracy: 0.8750\n",
            "Epoch 36/300\n",
            "14/14 [==============================] - 0s 9ms/step - loss: 0.2030 - accuracy: 0.9479 - val_loss: 0.2561 - val_accuracy: 0.8750\n",
            "Epoch 37/300\n",
            "14/14 [==============================] - 0s 9ms/step - loss: 0.2003 - accuracy: 0.9479 - val_loss: 0.2474 - val_accuracy: 0.8750\n",
            "Epoch 38/300\n",
            "14/14 [==============================] - 0s 9ms/step - loss: 0.1976 - accuracy: 0.9583 - val_loss: 0.2490 - val_accuracy: 0.8750\n",
            "Epoch 39/300\n",
            "14/14 [==============================] - 0s 12ms/step - loss: 0.1960 - accuracy: 0.9688 - val_loss: 0.2448 - val_accuracy: 0.8750\n",
            "Epoch 40/300\n",
            "14/14 [==============================] - 0s 7ms/step - loss: 0.1929 - accuracy: 0.9688 - val_loss: 0.2444 - val_accuracy: 0.8750\n",
            "Epoch 41/300\n",
            "14/14 [==============================] - 0s 4ms/step - loss: 0.1918 - accuracy: 0.9479 - val_loss: 0.2412 - val_accuracy: 0.8750\n",
            "Epoch 42/300\n",
            "14/14 [==============================] - 0s 6ms/step - loss: 0.1885 - accuracy: 0.9479 - val_loss: 0.2435 - val_accuracy: 0.8750\n",
            "Epoch 43/300\n",
            "14/14 [==============================] - 0s 8ms/step - loss: 0.1877 - accuracy: 0.9479 - val_loss: 0.2428 - val_accuracy: 0.8750\n",
            "Epoch 44/300\n",
            "14/14 [==============================] - 0s 7ms/step - loss: 0.1830 - accuracy: 0.9583 - val_loss: 0.2269 - val_accuracy: 0.8750\n",
            "Epoch 45/300\n",
            "14/14 [==============================] - 0s 6ms/step - loss: 0.1817 - accuracy: 0.9688 - val_loss: 0.2294 - val_accuracy: 0.8750\n",
            "Epoch 46/300\n",
            "14/14 [==============================] - 0s 6ms/step - loss: 0.1790 - accuracy: 0.9688 - val_loss: 0.2324 - val_accuracy: 0.8750\n",
            "Epoch 47/300\n",
            "14/14 [==============================] - 0s 7ms/step - loss: 0.1776 - accuracy: 0.9688 - val_loss: 0.2237 - val_accuracy: 0.8750\n",
            "Epoch 48/300\n",
            "14/14 [==============================] - 0s 7ms/step - loss: 0.1743 - accuracy: 0.9688 - val_loss: 0.2271 - val_accuracy: 0.8750\n",
            "Epoch 49/300\n",
            "14/14 [==============================] - 0s 6ms/step - loss: 0.1721 - accuracy: 0.9688 - val_loss: 0.2249 - val_accuracy: 0.8750\n",
            "Epoch 50/300\n",
            "14/14 [==============================] - 0s 6ms/step - loss: 0.1706 - accuracy: 0.9792 - val_loss: 0.2193 - val_accuracy: 0.8750\n",
            "Epoch 51/300\n",
            "14/14 [==============================] - 0s 7ms/step - loss: 0.1678 - accuracy: 0.9688 - val_loss: 0.2224 - val_accuracy: 0.8750\n",
            "Epoch 52/300\n",
            "14/14 [==============================] - 0s 9ms/step - loss: 0.1679 - accuracy: 0.9479 - val_loss: 0.2277 - val_accuracy: 0.8750\n",
            "Epoch 53/300\n",
            "14/14 [==============================] - 0s 7ms/step - loss: 0.1632 - accuracy: 0.9688 - val_loss: 0.2099 - val_accuracy: 0.8750\n",
            "Epoch 54/300\n",
            "14/14 [==============================] - 0s 6ms/step - loss: 0.1610 - accuracy: 0.9896 - val_loss: 0.2086 - val_accuracy: 0.8750\n",
            "Epoch 55/300\n",
            "14/14 [==============================] - 0s 6ms/step - loss: 0.1618 - accuracy: 0.9583 - val_loss: 0.2229 - val_accuracy: 0.8750\n",
            "Epoch 56/300\n",
            "14/14 [==============================] - 0s 6ms/step - loss: 0.1558 - accuracy: 0.9688 - val_loss: 0.2041 - val_accuracy: 0.8750\n",
            "Epoch 57/300\n",
            "14/14 [==============================] - 0s 5ms/step - loss: 0.1547 - accuracy: 0.9896 - val_loss: 0.1997 - val_accuracy: 0.8750\n",
            "Epoch 58/300\n",
            "14/14 [==============================] - 0s 8ms/step - loss: 0.1530 - accuracy: 0.9792 - val_loss: 0.2113 - val_accuracy: 0.8750\n",
            "Epoch 59/300\n",
            "14/14 [==============================] - 0s 7ms/step - loss: 0.1510 - accuracy: 0.9688 - val_loss: 0.2003 - val_accuracy: 0.8750\n",
            "Epoch 60/300\n",
            "14/14 [==============================] - 0s 7ms/step - loss: 0.1482 - accuracy: 0.9792 - val_loss: 0.2062 - val_accuracy: 0.8750\n",
            "Epoch 61/300\n",
            "14/14 [==============================] - 0s 8ms/step - loss: 0.1460 - accuracy: 0.9688 - val_loss: 0.2013 - val_accuracy: 0.8750\n",
            "Epoch 62/300\n",
            "14/14 [==============================] - 0s 7ms/step - loss: 0.1444 - accuracy: 0.9688 - val_loss: 0.2039 - val_accuracy: 0.8750\n",
            "Epoch 63/300\n",
            "14/14 [==============================] - 0s 7ms/step - loss: 0.1427 - accuracy: 0.9896 - val_loss: 0.1889 - val_accuracy: 0.8750\n",
            "Epoch 64/300\n",
            "14/14 [==============================] - 0s 7ms/step - loss: 0.1395 - accuracy: 0.9896 - val_loss: 0.1966 - val_accuracy: 0.8750\n",
            "Epoch 65/300\n",
            "14/14 [==============================] - 0s 6ms/step - loss: 0.1388 - accuracy: 0.9688 - val_loss: 0.1988 - val_accuracy: 0.8750\n",
            "Epoch 66/300\n",
            "14/14 [==============================] - 0s 6ms/step - loss: 0.1364 - accuracy: 0.9896 - val_loss: 0.1856 - val_accuracy: 0.8750\n",
            "Epoch 67/300\n",
            "14/14 [==============================] - 0s 6ms/step - loss: 0.1337 - accuracy: 0.9896 - val_loss: 0.1893 - val_accuracy: 0.8750\n",
            "Epoch 68/300\n",
            "14/14 [==============================] - 0s 8ms/step - loss: 0.1319 - accuracy: 0.9688 - val_loss: 0.1920 - val_accuracy: 0.8750\n",
            "Epoch 69/300\n",
            "14/14 [==============================] - 0s 10ms/step - loss: 0.1294 - accuracy: 0.9896 - val_loss: 0.1861 - val_accuracy: 0.8750\n",
            "Epoch 70/300\n",
            "14/14 [==============================] - 0s 10ms/step - loss: 0.1280 - accuracy: 0.9896 - val_loss: 0.1829 - val_accuracy: 0.8750\n",
            "Epoch 71/300\n",
            "14/14 [==============================] - 0s 15ms/step - loss: 0.1261 - accuracy: 0.9896 - val_loss: 0.1811 - val_accuracy: 0.8750\n",
            "Epoch 72/300\n",
            "14/14 [==============================] - 0s 12ms/step - loss: 0.1242 - accuracy: 0.9896 - val_loss: 0.1785 - val_accuracy: 0.8750\n",
            "Epoch 73/300\n",
            "14/14 [==============================] - 0s 11ms/step - loss: 0.1218 - accuracy: 0.9896 - val_loss: 0.1856 - val_accuracy: 0.8750\n",
            "Epoch 74/300\n",
            "14/14 [==============================] - 0s 11ms/step - loss: 0.1203 - accuracy: 0.9896 - val_loss: 0.1804 - val_accuracy: 0.8750\n",
            "Epoch 75/300\n",
            "14/14 [==============================] - 0s 11ms/step - loss: 0.1194 - accuracy: 0.9896 - val_loss: 0.1674 - val_accuracy: 0.8750\n",
            "Epoch 76/300\n",
            "14/14 [==============================] - 0s 11ms/step - loss: 0.1166 - accuracy: 0.9896 - val_loss: 0.1767 - val_accuracy: 0.8750\n",
            "Epoch 77/300\n",
            "14/14 [==============================] - 0s 5ms/step - loss: 0.1165 - accuracy: 0.9792 - val_loss: 0.1858 - val_accuracy: 0.8750\n",
            "Epoch 78/300\n",
            "14/14 [==============================] - 0s 3ms/step - loss: 0.1133 - accuracy: 0.9896 - val_loss: 0.1687 - val_accuracy: 0.8750\n",
            "Epoch 79/300\n",
            "14/14 [==============================] - 0s 5ms/step - loss: 0.1119 - accuracy: 0.9896 - val_loss: 0.1649 - val_accuracy: 0.8750\n",
            "Epoch 80/300\n",
            "14/14 [==============================] - 0s 5ms/step - loss: 0.1100 - accuracy: 0.9896 - val_loss: 0.1714 - val_accuracy: 0.8750\n",
            "Epoch 81/300\n",
            "14/14 [==============================] - 0s 3ms/step - loss: 0.1097 - accuracy: 0.9792 - val_loss: 0.1753 - val_accuracy: 0.8750\n",
            "Epoch 82/300\n",
            "14/14 [==============================] - 0s 4ms/step - loss: 0.1083 - accuracy: 0.9896 - val_loss: 0.1564 - val_accuracy: 0.9167\n",
            "Epoch 83/300\n",
            "14/14 [==============================] - 0s 4ms/step - loss: 0.1047 - accuracy: 0.9896 - val_loss: 0.1645 - val_accuracy: 0.8750\n",
            "Epoch 84/300\n",
            "14/14 [==============================] - 0s 5ms/step - loss: 0.1036 - accuracy: 0.9896 - val_loss: 0.1734 - val_accuracy: 0.8750\n",
            "Epoch 85/300\n",
            "14/14 [==============================] - 0s 4ms/step - loss: 0.1029 - accuracy: 0.9896 - val_loss: 0.1644 - val_accuracy: 0.8750\n",
            "Epoch 86/300\n",
            "14/14 [==============================] - 0s 5ms/step - loss: 0.1005 - accuracy: 0.9896 - val_loss: 0.1578 - val_accuracy: 0.8750\n",
            "Epoch 87/300\n",
            "14/14 [==============================] - 0s 4ms/step - loss: 0.1001 - accuracy: 0.9896 - val_loss: 0.1595 - val_accuracy: 0.8750\n",
            "Epoch 88/300\n",
            "14/14 [==============================] - 0s 4ms/step - loss: 0.0980 - accuracy: 0.9896 - val_loss: 0.1612 - val_accuracy: 0.8750\n",
            "Epoch 89/300\n",
            "14/14 [==============================] - 0s 5ms/step - loss: 0.0967 - accuracy: 0.9896 - val_loss: 0.1531 - val_accuracy: 0.8750\n",
            "Epoch 90/300\n",
            "14/14 [==============================] - 0s 5ms/step - loss: 0.0954 - accuracy: 0.9896 - val_loss: 0.1628 - val_accuracy: 0.8750\n",
            "Epoch 91/300\n",
            "14/14 [==============================] - 0s 4ms/step - loss: 0.0938 - accuracy: 0.9896 - val_loss: 0.1548 - val_accuracy: 0.8750\n",
            "Epoch 92/300\n",
            "14/14 [==============================] - 0s 4ms/step - loss: 0.0924 - accuracy: 0.9896 - val_loss: 0.1557 - val_accuracy: 0.8750\n",
            "Epoch 93/300\n",
            "14/14 [==============================] - 0s 3ms/step - loss: 0.0916 - accuracy: 0.9896 - val_loss: 0.1516 - val_accuracy: 0.8750\n",
            "Epoch 94/300\n",
            "14/14 [==============================] - 0s 3ms/step - loss: 0.0905 - accuracy: 0.9896 - val_loss: 0.1546 - val_accuracy: 0.8750\n",
            "Epoch 95/300\n",
            "14/14 [==============================] - 0s 4ms/step - loss: 0.0888 - accuracy: 0.9896 - val_loss: 0.1559 - val_accuracy: 0.8750\n",
            "Epoch 96/300\n",
            "14/14 [==============================] - 0s 4ms/step - loss: 0.0872 - accuracy: 0.9896 - val_loss: 0.1477 - val_accuracy: 0.8750\n",
            "Epoch 97/300\n",
            "14/14 [==============================] - 0s 4ms/step - loss: 0.0866 - accuracy: 0.9896 - val_loss: 0.1497 - val_accuracy: 0.8750\n",
            "Epoch 98/300\n",
            "14/14 [==============================] - 0s 3ms/step - loss: 0.0865 - accuracy: 0.9896 - val_loss: 0.1435 - val_accuracy: 0.9167\n",
            "Epoch 99/300\n",
            "14/14 [==============================] - 0s 3ms/step - loss: 0.0855 - accuracy: 0.9896 - val_loss: 0.1594 - val_accuracy: 0.8750\n",
            "Epoch 100/300\n",
            "14/14 [==============================] - 0s 3ms/step - loss: 0.0838 - accuracy: 0.9896 - val_loss: 0.1438 - val_accuracy: 0.8750\n",
            "Epoch 101/300\n",
            "14/14 [==============================] - 0s 3ms/step - loss: 0.0821 - accuracy: 0.9896 - val_loss: 0.1453 - val_accuracy: 0.8750\n",
            "Epoch 102/300\n",
            "14/14 [==============================] - 0s 4ms/step - loss: 0.0810 - accuracy: 0.9896 - val_loss: 0.1520 - val_accuracy: 0.8750\n",
            "Epoch 103/300\n",
            "14/14 [==============================] - 0s 4ms/step - loss: 0.0800 - accuracy: 0.9896 - val_loss: 0.1432 - val_accuracy: 0.8750\n",
            "Epoch 104/300\n",
            "14/14 [==============================] - 0s 3ms/step - loss: 0.0790 - accuracy: 0.9896 - val_loss: 0.1453 - val_accuracy: 0.8750\n",
            "Epoch 105/300\n",
            "14/14 [==============================] - 0s 3ms/step - loss: 0.0776 - accuracy: 0.9896 - val_loss: 0.1489 - val_accuracy: 0.8750\n",
            "Epoch 106/300\n",
            "14/14 [==============================] - 0s 3ms/step - loss: 0.0774 - accuracy: 0.9896 - val_loss: 0.1469 - val_accuracy: 0.8750\n",
            "Epoch 107/300\n",
            "14/14 [==============================] - 0s 4ms/step - loss: 0.0801 - accuracy: 0.9896 - val_loss: 0.1331 - val_accuracy: 0.9167\n",
            "Epoch 108/300\n",
            "14/14 [==============================] - 0s 4ms/step - loss: 0.0773 - accuracy: 0.9896 - val_loss: 0.1544 - val_accuracy: 0.8750\n",
            "Epoch 109/300\n",
            "14/14 [==============================] - 0s 4ms/step - loss: 0.0735 - accuracy: 0.9896 - val_loss: 0.1354 - val_accuracy: 0.9167\n",
            "Epoch 110/300\n",
            "14/14 [==============================] - 0s 3ms/step - loss: 0.0741 - accuracy: 0.9896 - val_loss: 0.1429 - val_accuracy: 0.8750\n",
            "Epoch 111/300\n",
            "14/14 [==============================] - 0s 5ms/step - loss: 0.0745 - accuracy: 0.9896 - val_loss: 0.1367 - val_accuracy: 0.9167\n",
            "Epoch 112/300\n",
            "14/14 [==============================] - 0s 4ms/step - loss: 0.0719 - accuracy: 0.9896 - val_loss: 0.1496 - val_accuracy: 0.8750\n",
            "Epoch 113/300\n",
            "14/14 [==============================] - 0s 5ms/step - loss: 0.0736 - accuracy: 0.9896 - val_loss: 0.1325 - val_accuracy: 0.9167\n",
            "Epoch 114/300\n",
            "14/14 [==============================] - 0s 4ms/step - loss: 0.0703 - accuracy: 0.9896 - val_loss: 0.1474 - val_accuracy: 0.8750\n",
            "Epoch 115/300\n",
            "14/14 [==============================] - 0s 4ms/step - loss: 0.0697 - accuracy: 0.9896 - val_loss: 0.1429 - val_accuracy: 0.8750\n",
            "Epoch 116/300\n",
            "14/14 [==============================] - 0s 3ms/step - loss: 0.0691 - accuracy: 0.9896 - val_loss: 0.1330 - val_accuracy: 0.9167\n",
            "Epoch 117/300\n",
            "14/14 [==============================] - 0s 4ms/step - loss: 0.0686 - accuracy: 0.9896 - val_loss: 0.1324 - val_accuracy: 0.9167\n",
            "Epoch 118/300\n",
            "14/14 [==============================] - 0s 4ms/step - loss: 0.0672 - accuracy: 0.9896 - val_loss: 0.1476 - val_accuracy: 0.8750\n",
            "Epoch 119/300\n",
            "14/14 [==============================] - 0s 3ms/step - loss: 0.0663 - accuracy: 0.9896 - val_loss: 0.1336 - val_accuracy: 0.9167\n",
            "Epoch 120/300\n",
            "14/14 [==============================] - 0s 4ms/step - loss: 0.0653 - accuracy: 0.9896 - val_loss: 0.1358 - val_accuracy: 0.8750\n",
            "Epoch 121/300\n",
            "14/14 [==============================] - 0s 3ms/step - loss: 0.0647 - accuracy: 0.9896 - val_loss: 0.1336 - val_accuracy: 0.9167\n",
            "Epoch 122/300\n",
            "14/14 [==============================] - 0s 4ms/step - loss: 0.0645 - accuracy: 0.9896 - val_loss: 0.1424 - val_accuracy: 0.8750\n",
            "Epoch 123/300\n",
            "14/14 [==============================] - 0s 3ms/step - loss: 0.0638 - accuracy: 0.9896 - val_loss: 0.1338 - val_accuracy: 0.9167\n",
            "Epoch 124/300\n",
            "14/14 [==============================] - 0s 4ms/step - loss: 0.0640 - accuracy: 0.9896 - val_loss: 0.1252 - val_accuracy: 0.9167\n",
            "Epoch 125/300\n",
            "14/14 [==============================] - 0s 5ms/step - loss: 0.0651 - accuracy: 0.9896 - val_loss: 0.1459 - val_accuracy: 0.8750\n",
            "Epoch 126/300\n",
            "14/14 [==============================] - 0s 4ms/step - loss: 0.0609 - accuracy: 0.9896 - val_loss: 0.1305 - val_accuracy: 0.9167\n",
            "Epoch 127/300\n",
            "14/14 [==============================] - 0s 4ms/step - loss: 0.0611 - accuracy: 0.9896 - val_loss: 0.1288 - val_accuracy: 0.9167\n",
            "Epoch 128/300\n",
            "14/14 [==============================] - 0s 3ms/step - loss: 0.0604 - accuracy: 0.9896 - val_loss: 0.1286 - val_accuracy: 0.9167\n",
            "Epoch 129/300\n",
            "14/14 [==============================] - 0s 3ms/step - loss: 0.0596 - accuracy: 0.9896 - val_loss: 0.1304 - val_accuracy: 0.9167\n",
            "Epoch 130/300\n",
            "14/14 [==============================] - 0s 4ms/step - loss: 0.0592 - accuracy: 0.9896 - val_loss: 0.1269 - val_accuracy: 0.9167\n",
            "Epoch 131/300\n",
            "14/14 [==============================] - 0s 4ms/step - loss: 0.0585 - accuracy: 0.9896 - val_loss: 0.1397 - val_accuracy: 0.8750\n",
            "Epoch 132/300\n",
            "14/14 [==============================] - 0s 3ms/step - loss: 0.0582 - accuracy: 0.9896 - val_loss: 0.1378 - val_accuracy: 0.8750\n",
            "Epoch 133/300\n",
            "14/14 [==============================] - 0s 5ms/step - loss: 0.0568 - accuracy: 0.9896 - val_loss: 0.1269 - val_accuracy: 0.9167\n",
            "Epoch 134/300\n",
            "14/14 [==============================] - 0s 4ms/step - loss: 0.0574 - accuracy: 0.9896 - val_loss: 0.1301 - val_accuracy: 0.9167\n",
            "5/5 [==============================] - 0s 3ms/step - loss: 0.0745 - accuracy: 0.9800\n",
            "Accuracy: 98.000002\n"
          ]
        }
      ]
    },
    {
      "cell_type": "code",
      "source": [
        "mod.evaluate(X_test.to_numpy(),Y_test.to_numpy())"
      ],
      "metadata": {
        "id": "CvbaJxNG77-g",
        "outputId": "e2127c82-817c-4f70-bfc7-335807529f02",
        "colab": {
          "base_uri": "https://localhost:8080/"
        }
      },
      "execution_count": null,
      "outputs": [
        {
          "output_type": "stream",
          "name": "stdout",
          "text": [
            "1/1 [==============================] - 0s 18ms/step - loss: 0.0732 - accuracy: 1.0000\n"
          ]
        },
        {
          "output_type": "execute_result",
          "data": {
            "text/plain": [
              "[0.07318907231092453, 1.0]"
            ]
          },
          "metadata": {},
          "execution_count": 108
        }
      ]
    },
    {
      "cell_type": "code",
      "source": [
        "import matplotlib.pyplot as plt\n",
        "pd.DataFrame(history.history).plot(figsize=(8,5))\n",
        "plt.grid(True)\n",
        "plt.gca().set_ylim(0,1)\n",
        "plt.show()"
      ],
      "metadata": {
        "id": "Sij2OO9X85c6",
        "outputId": "31bad73b-9310-418c-aa99-0798a9e6290f",
        "colab": {
          "base_uri": "https://localhost:8080/",
          "height": 324
        }
      },
      "execution_count": null,
      "outputs": [
        {
          "output_type": "display_data",
          "data": {
            "image/png": "[encoded data removed]",
            "text/plain": [
              "<Figure size 576x360 with 1 Axes>"
            ]
          },
          "metadata": {
            "needs_background": "light"
          }
        }
      ]
    },
    {
      "cell_type": "markdown",
      "source": [
        "### Solution: Task - 3"
      ],
      "metadata": {
        "id": "BqiUZc6tEISw"
      }
    },
    {
      "cell_type": "code",
      "source": [
        "# Codes for Task 3"
      ],
      "metadata": {
        "id": "WLFoe8xNBS4x"
      },
      "execution_count": null,
      "outputs": []
    }
  ]
}