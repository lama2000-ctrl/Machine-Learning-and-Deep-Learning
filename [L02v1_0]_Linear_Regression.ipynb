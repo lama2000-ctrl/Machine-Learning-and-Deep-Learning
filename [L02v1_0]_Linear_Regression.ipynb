{
  "nbformat": 4,
  "nbformat_minor": 0,
  "metadata": {
    "colab": {
      "provenance": [],
      "collapsed_sections": [
        "-3-VKYKCtHxt",
        "k83tAOYnv59r"
      ]
    },
    "kernelspec": {
      "name": "python3",
      "display_name": "Python 3"
    },
    "language_info": {
      "name": "python"
    }
  },
  "cells": [
    {
      "cell_type": "markdown",
      "metadata": {
        "id": "zzRLPdpGj636"
      },
      "source": [
        "This is a very simple tutorial intended for the beginners to understand and implement Simple Linear Regression from the scratch. \n",
        "\n",
        "\n",
        "\n",
        "<font color='skyblue'> Simple Linear Regression </font> is a great first machine learning algorithm to implement as it requires you to estimate properties from your training dataset, but is simple enough for beginners to understand. Linear regression is a prediction method that is more than 200 years old. In this tutorial, you will discover how to implement the simple linear regression algorithm from scratch in Python.\n",
        "\n",
        "After completing this tutorial you will know:<br>\n",
        "&#9632; How to estimate statistical quantities from training data.<br>\n",
        "&#9632; How to estimate linear regression coefficients from data.<br>\n",
        "&#9632; How to make predictions using linear regression for new data.<br>\n",
        "\n",
        "\n",
        "Linear regression assumes a **linear or straight line relationship between the input variables (X) and the single output variable (y).** More specifically, that output (y) can be calculated from a linear combination of the input variables (X). When there is a single input variable, the method is referred to as a simple linear regression.\n",
        "\n",
        "In simple linear regression we can use statistics on the training data to estimate the coefficients required by the model to make predictions on new data.\n",
        "\n",
        "The line for a simple linear regression model can be written as:\n",
        "\n",
        "$$ y = b_0 + b_1 \\times x $$\n",
        "where $b_0$ and $b_1$ are the coefficients we must estimate from the training data. Once the coefficients are known, we can use this equation to estimate \n",
        "output values for $y$ given new input examples of $x$. It requires that you calculate statistical properties from the data such as **mean, variance** and **covariance.**"
      ]
    },
    {
      "cell_type": "markdown",
      "metadata": {
        "id": "yMWmRb56kaiI"
      },
      "source": [
        "We will use a dataset to understand the relationship between the numbers of hours a student studies and the percentage of marks that student scores in an exam which demonstrate simple linear regression. The dataset involves **<font color='skyblue'> predicting the obtained percentage score of a student (y) given the total number of hourse s/he has studied (x). </font>**\n",
        "\n",
        "**[Dataset can be found here.](https://drive.google.com/file/d/1HChTis2Kwhk-1EZC6yvJHx6vHBO_94Aq/view?usp=sharing)**"
      ]
    },
    {
      "cell_type": "markdown",
      "metadata": {
        "id": "V-OZq8cvkcku"
      },
      "source": [
        "Let's load some basic python libraries that we will need over the course of this tutorial. "
      ]
    },
    {
      "cell_type": "code",
      "metadata": {
        "id": "jfpjHvdoiaQq"
      },
      "source": [
        "# library for manipulating the csv data\n",
        "import pandas as pd\n",
        "\n",
        "# library for scientific calculations on numbers + linear algebra\n",
        "import numpy as np\n",
        "import math\n",
        "\n",
        "# library for regular plot visualizations\n",
        "import matplotlib.pyplot as plt\n",
        "\n",
        "#library for responsive visualizations\n",
        "import plotly.express as px\n",
        "import plotly.graph_objects as go"
      ],
      "execution_count": null,
      "outputs": []
    },
    {
      "cell_type": "markdown",
      "metadata": {
        "id": "nC9OGX2TnZjJ"
      },
      "source": [
        "**Downloading the Dataset**<br>\n",
        "Full Dataset Link: [https://drive.google.com/file/d/1HChTis2Kwhk-1EZC6yvJHx6vHBO_94Aq/view?usp=sharing](https://drive.google.com/file/d/1HChTis2Kwhk-1EZC6yvJHx6vHBO_94Aq/view?usp=sharing)"
      ]
    },
    {
      "cell_type": "code",
      "metadata": {
        "colab": {
          "base_uri": "https://localhost:8080/"
        },
        "id": "Z4xuPIY4ncuP",
        "outputId": "194e46ab-3214-4523-d5fc-df6a3886da96"
      },
      "source": [
        "!gdown --id 1HChTis2Kwhk-1EZC6yvJHx6vHBO_94Aq"
      ],
      "execution_count": null,
      "outputs": [
        {
          "output_type": "stream",
          "name": "stdout",
          "text": [
            "Downloading...\n",
            "From: https://drive.google.com/uc?id=1HChTis2Kwhk-1EZC6yvJHx6vHBO_94Aq\n",
            "To: /content/student_scores.csv\n",
            "\r  0% 0.00/214 [00:00<?, ?B/s]\r100% 214/214 [00:00<00:00, 426kB/s]\n"
          ]
        }
      ]
    },
    {
      "cell_type": "markdown",
      "metadata": {
        "id": "W92-IYiJn63t"
      },
      "source": [
        "Reading the data"
      ]
    },
    {
      "cell_type": "code",
      "metadata": {
        "colab": {
          "base_uri": "https://localhost:8080/",
          "height": 397
        },
        "id": "nKnVTBTnn-H1",
        "outputId": "c9afd3ab-37bb-4c7c-d80f-a28fc931f05e"
      },
      "source": [
        "data = pd.read_csv('/content/student_scores.csv')\n",
        "\n",
        "print(\"---Data Info---\")\n",
        "data.info()\n",
        "print(\"---Data Head---\")\n",
        "data.head()"
      ],
      "execution_count": null,
      "outputs": [
        {
          "output_type": "stream",
          "name": "stdout",
          "text": [
            "---Data Info---\n",
            "<class 'pandas.core.frame.DataFrame'>\n",
            "RangeIndex: 25 entries, 0 to 24\n",
            "Data columns (total 2 columns):\n",
            " #   Column  Non-Null Count  Dtype  \n",
            "---  ------  --------------  -----  \n",
            " 0   Hours   25 non-null     float64\n",
            " 1   Scores  25 non-null     int64  \n",
            "dtypes: float64(1), int64(1)\n",
            "memory usage: 528.0 bytes\n",
            "---Data Head---\n"
          ]
        },
        {
          "output_type": "execute_result",
          "data": {
            "text/html": [
              "<div>\n",
              "<style scoped>\n",
              "    .dataframe tbody tr th:only-of-type {\n",
              "        vertical-align: middle;\n",
              "    }\n",
              "\n",
              "    .dataframe tbody tr th {\n",
              "        vertical-align: top;\n",
              "    }\n",
              "\n",
              "    .dataframe thead th {\n",
              "        text-align: right;\n",
              "    }\n",
              "</style>\n",
              "<table border=\"1\" class=\"dataframe\">\n",
              "  <thead>\n",
              "    <tr style=\"text-align: right;\">\n",
              "      <th></th>\n",
              "      <th>Hours</th>\n",
              "      <th>Scores</th>\n",
              "    </tr>\n",
              "  </thead>\n",
              "  <tbody>\n",
              "    <tr>\n",
              "      <th>0</th>\n",
              "      <td>2.5</td>\n",
              "      <td>21</td>\n",
              "    </tr>\n",
              "    <tr>\n",
              "      <th>1</th>\n",
              "      <td>5.1</td>\n",
              "      <td>47</td>\n",
              "    </tr>\n",
              "    <tr>\n",
              "      <th>2</th>\n",
              "      <td>3.2</td>\n",
              "      <td>27</td>\n",
              "    </tr>\n",
              "    <tr>\n",
              "      <th>3</th>\n",
              "      <td>8.5</td>\n",
              "      <td>75</td>\n",
              "    </tr>\n",
              "    <tr>\n",
              "      <th>4</th>\n",
              "      <td>3.5</td>\n",
              "      <td>30</td>\n",
              "    </tr>\n",
              "  </tbody>\n",
              "</table>\n",
              "</div>"
            ],
            "text/plain": [
              "   Hours  Scores\n",
              "0    2.5      21\n",
              "1    5.1      47\n",
              "2    3.2      27\n",
              "3    8.5      75\n",
              "4    3.5      30"
            ]
          },
          "metadata": {},
          "execution_count": 3
        }
      ]
    },
    {
      "cell_type": "markdown",
      "metadata": {
        "id": "5fjGxqRxdBlU"
      },
      "source": [
        "Dataset Description"
      ]
    },
    {
      "cell_type": "code",
      "metadata": {
        "colab": {
          "base_uri": "https://localhost:8080/",
          "height": 300
        },
        "id": "f321_NZ5dDPq",
        "outputId": "dbfe67b8-3b11-4e97-e91a-c96833c71ad5"
      },
      "source": [
        "data.describe()"
      ],
      "execution_count": null,
      "outputs": [
        {
          "output_type": "execute_result",
          "data": {
            "text/html": [
              "<div>\n",
              "<style scoped>\n",
              "    .dataframe tbody tr th:only-of-type {\n",
              "        vertical-align: middle;\n",
              "    }\n",
              "\n",
              "    .dataframe tbody tr th {\n",
              "        vertical-align: top;\n",
              "    }\n",
              "\n",
              "    .dataframe thead th {\n",
              "        text-align: right;\n",
              "    }\n",
              "</style>\n",
              "<table border=\"1\" class=\"dataframe\">\n",
              "  <thead>\n",
              "    <tr style=\"text-align: right;\">\n",
              "      <th></th>\n",
              "      <th>Hours</th>\n",
              "      <th>Scores</th>\n",
              "    </tr>\n",
              "  </thead>\n",
              "  <tbody>\n",
              "    <tr>\n",
              "      <th>count</th>\n",
              "      <td>25.000000</td>\n",
              "      <td>25.000000</td>\n",
              "    </tr>\n",
              "    <tr>\n",
              "      <th>mean</th>\n",
              "      <td>5.012000</td>\n",
              "      <td>51.480000</td>\n",
              "    </tr>\n",
              "    <tr>\n",
              "      <th>std</th>\n",
              "      <td>2.525094</td>\n",
              "      <td>25.286887</td>\n",
              "    </tr>\n",
              "    <tr>\n",
              "      <th>min</th>\n",
              "      <td>1.100000</td>\n",
              "      <td>17.000000</td>\n",
              "    </tr>\n",
              "    <tr>\n",
              "      <th>25%</th>\n",
              "      <td>2.700000</td>\n",
              "      <td>30.000000</td>\n",
              "    </tr>\n",
              "    <tr>\n",
              "      <th>50%</th>\n",
              "      <td>4.800000</td>\n",
              "      <td>47.000000</td>\n",
              "    </tr>\n",
              "    <tr>\n",
              "      <th>75%</th>\n",
              "      <td>7.400000</td>\n",
              "      <td>75.000000</td>\n",
              "    </tr>\n",
              "    <tr>\n",
              "      <th>max</th>\n",
              "      <td>9.200000</td>\n",
              "      <td>95.000000</td>\n",
              "    </tr>\n",
              "  </tbody>\n",
              "</table>\n",
              "</div>"
            ],
            "text/plain": [
              "           Hours     Scores\n",
              "count  25.000000  25.000000\n",
              "mean    5.012000  51.480000\n",
              "std     2.525094  25.286887\n",
              "min     1.100000  17.000000\n",
              "25%     2.700000  30.000000\n",
              "50%     4.800000  47.000000\n",
              "75%     7.400000  75.000000\n",
              "max     9.200000  95.000000"
            ]
          },
          "metadata": {},
          "execution_count": 4
        }
      ]
    },
    {
      "cell_type": "markdown",
      "metadata": {
        "id": "bqGL_TYRpZji"
      },
      "source": [
        "Let's have a look at the data itself. You can either use `matplotlib.pyplot` or `plotly` for visualization. The latter one produces responsive visualizations. Try hovering over the points on the graph to see the actual values."
      ]
    },
    {
      "cell_type": "code",
      "metadata": {
        "colab": {
          "base_uri": "https://localhost:8080/",
          "height": 517
        },
        "id": "HM6jHJyMqkfF",
        "outputId": "27dae25f-3612-4519-8070-9a0b6c0a5a68"
      },
      "source": [
        "fig = px.scatter(x = data['Hours'], y=data['Scores'])\n",
        "fig.update_layout(title = 'Obtained Score Percentage vs Hours-Studied', title_x=0.5, \n",
        "                  xaxis_title= \"Number of Hours Studied\", yaxis_title=\"Obtained Percentage Score\", \n",
        "                  height = 500, width = 700)\n",
        "fig.update_xaxes(showline=True, linewidth=2, linecolor='black', mirror=True)\n",
        "fig.update_yaxes(showline=True, linewidth=2, linecolor='black', mirror=True)\n",
        "fig.show()"
      ],
      "execution_count": null,
      "outputs": [
        {
          "output_type": "display_data",
          "data": {
            "text/html": [
              "<html>\n",
              "<head><meta charset=\"utf-8\" /></head>\n",
              "<body>\n",
              "    <div>\n",
              "            <script src=\"https://cdnjs.cloudflare.com/ajax/libs/mathjax/2.7.5/MathJax.js?config=TeX-AMS-MML_SVG\"></script><script type=\"text/javascript\">if (window.MathJax) {MathJax.Hub.Config({SVG: {font: \"STIX-Web\"}});}</script>\n",
              "                <script type=\"text/javascript\">window.PlotlyConfig = {MathJaxConfig: 'local'};</script>\n",
              "        <script src=\"https://cdn.plot.ly/plotly-latest.min.js\"></script>    \n",
              "            <div id=\"f8ff42b5-008b-463f-9a19-0ec6c08621b0\" class=\"plotly-graph-div\" style=\"height:500px; width:700px;\"></div>\n",
              "            <script type=\"text/javascript\">\n",
              "                \n",
              "                    window.PLOTLYENV=window.PLOTLYENV || {};\n",
              "                    \n",
              "                if (document.getElementById(\"f8ff42b5-008b-463f-9a19-0ec6c08621b0\")) {\n",
              "                    Plotly.newPlot(\n",
              "                        'f8ff42b5-008b-463f-9a19-0ec6c08621b0',\n",
              "                        [{\"hoverlabel\": {\"namelength\": 0}, \"hovertemplate\": \"x=%{x}<br>y=%{y}\", \"legendgroup\": \"\", \"marker\": {\"color\": \"#636efa\", \"symbol\": \"circle\"}, \"mode\": \"markers\", \"name\": \"\", \"showlegend\": false, \"type\": \"scatter\", \"x\": [2.5, 5.1, 3.2, 8.5, 3.5, 1.5, 9.2, 5.5, 8.3, 2.7, 7.7, 5.9, 4.5, 3.3, 1.1, 8.9, 2.5, 1.9, 6.1, 7.4, 2.7, 4.8, 3.8, 6.9, 7.8], \"xaxis\": \"x\", \"y\": [21, 47, 27, 75, 30, 20, 88, 60, 81, 25, 85, 62, 41, 42, 17, 95, 30, 24, 67, 69, 30, 54, 35, 76, 86], \"yaxis\": \"y\"}],\n",
              "                        {\"height\": 500, \"legend\": {\"tracegroupgap\": 0}, \"margin\": {\"t\": 60}, \"template\": {\"data\": {\"bar\": [{\"error_x\": {\"color\": \"#2a3f5f\"}, \"error_y\": {\"color\": \"#2a3f5f\"}, \"marker\": {\"line\": {\"color\": \"#E5ECF6\", \"width\": 0.5}}, \"type\": \"bar\"}], \"barpolar\": [{\"marker\": {\"line\": {\"color\": \"#E5ECF6\", \"width\": 0.5}}, \"type\": \"barpolar\"}], \"carpet\": [{\"aaxis\": {\"endlinecolor\": \"#2a3f5f\", \"gridcolor\": \"white\", \"linecolor\": \"white\", \"minorgridcolor\": \"white\", \"startlinecolor\": \"#2a3f5f\"}, \"baxis\": {\"endlinecolor\": \"#2a3f5f\", \"gridcolor\": \"white\", \"linecolor\": \"white\", \"minorgridcolor\": \"white\", \"startlinecolor\": \"#2a3f5f\"}, \"type\": \"carpet\"}], \"choropleth\": [{\"colorbar\": {\"outlinewidth\": 0, \"ticks\": \"\"}, \"type\": \"choropleth\"}], \"contour\": [{\"colorbar\": {\"outlinewidth\": 0, \"ticks\": \"\"}, \"colorscale\": [[0.0, \"#0d0887\"], [0.1111111111111111, \"#46039f\"], [0.2222222222222222, \"#7201a8\"], [0.3333333333333333, \"#9c179e\"], [0.4444444444444444, \"#bd3786\"], [0.5555555555555556, \"#d8576b\"], [0.6666666666666666, \"#ed7953\"], [0.7777777777777778, \"#fb9f3a\"], [0.8888888888888888, \"#fdca26\"], [1.0, \"#f0f921\"]], \"type\": \"contour\"}], \"contourcarpet\": [{\"colorbar\": {\"outlinewidth\": 0, \"ticks\": \"\"}, \"type\": \"contourcarpet\"}], \"heatmap\": [{\"colorbar\": {\"outlinewidth\": 0, \"ticks\": \"\"}, \"colorscale\": [[0.0, \"#0d0887\"], [0.1111111111111111, \"#46039f\"], [0.2222222222222222, \"#7201a8\"], [0.3333333333333333, \"#9c179e\"], [0.4444444444444444, \"#bd3786\"], [0.5555555555555556, \"#d8576b\"], [0.6666666666666666, \"#ed7953\"], [0.7777777777777778, \"#fb9f3a\"], [0.8888888888888888, \"#fdca26\"], [1.0, \"#f0f921\"]], \"type\": \"heatmap\"}], \"heatmapgl\": [{\"colorbar\": {\"outlinewidth\": 0, \"ticks\": \"\"}, \"colorscale\": [[0.0, \"#0d0887\"], [0.1111111111111111, \"#46039f\"], [0.2222222222222222, \"#7201a8\"], [0.3333333333333333, \"#9c179e\"], [0.4444444444444444, \"#bd3786\"], [0.5555555555555556, \"#d8576b\"], [0.6666666666666666, \"#ed7953\"], [0.7777777777777778, \"#fb9f3a\"], [0.8888888888888888, \"#fdca26\"], [1.0, \"#f0f921\"]], \"type\": \"heatmapgl\"}], \"histogram\": [{\"marker\": {\"colorbar\": {\"outlinewidth\": 0, \"ticks\": \"\"}}, \"type\": \"histogram\"}], \"histogram2d\": [{\"colorbar\": {\"outlinewidth\": 0, \"ticks\": \"\"}, \"colorscale\": [[0.0, \"#0d0887\"], [0.1111111111111111, \"#46039f\"], [0.2222222222222222, \"#7201a8\"], [0.3333333333333333, \"#9c179e\"], [0.4444444444444444, \"#bd3786\"], [0.5555555555555556, \"#d8576b\"], [0.6666666666666666, \"#ed7953\"], [0.7777777777777778, \"#fb9f3a\"], [0.8888888888888888, \"#fdca26\"], [1.0, \"#f0f921\"]], \"type\": \"histogram2d\"}], \"histogram2dcontour\": [{\"colorbar\": {\"outlinewidth\": 0, \"ticks\": \"\"}, \"colorscale\": [[0.0, \"#0d0887\"], [0.1111111111111111, \"#46039f\"], [0.2222222222222222, \"#7201a8\"], [0.3333333333333333, \"#9c179e\"], [0.4444444444444444, \"#bd3786\"], [0.5555555555555556, \"#d8576b\"], [0.6666666666666666, \"#ed7953\"], [0.7777777777777778, \"#fb9f3a\"], [0.8888888888888888, \"#fdca26\"], [1.0, \"#f0f921\"]], \"type\": \"histogram2dcontour\"}], \"mesh3d\": [{\"colorbar\": {\"outlinewidth\": 0, \"ticks\": \"\"}, \"type\": \"mesh3d\"}], \"parcoords\": [{\"line\": {\"colorbar\": {\"outlinewidth\": 0, \"ticks\": \"\"}}, \"type\": \"parcoords\"}], \"pie\": [{\"automargin\": true, \"type\": \"pie\"}], \"scatter\": [{\"marker\": {\"colorbar\": {\"outlinewidth\": 0, \"ticks\": \"\"}}, \"type\": \"scatter\"}], \"scatter3d\": [{\"line\": {\"colorbar\": {\"outlinewidth\": 0, \"ticks\": \"\"}}, \"marker\": {\"colorbar\": {\"outlinewidth\": 0, \"ticks\": \"\"}}, \"type\": \"scatter3d\"}], \"scattercarpet\": [{\"marker\": {\"colorbar\": {\"outlinewidth\": 0, \"ticks\": \"\"}}, \"type\": \"scattercarpet\"}], \"scattergeo\": [{\"marker\": {\"colorbar\": {\"outlinewidth\": 0, \"ticks\": \"\"}}, \"type\": \"scattergeo\"}], \"scattergl\": [{\"marker\": {\"colorbar\": {\"outlinewidth\": 0, \"ticks\": \"\"}}, \"type\": \"scattergl\"}], \"scattermapbox\": [{\"marker\": {\"colorbar\": {\"outlinewidth\": 0, \"ticks\": \"\"}}, \"type\": \"scattermapbox\"}], \"scatterpolar\": [{\"marker\": {\"colorbar\": {\"outlinewidth\": 0, \"ticks\": \"\"}}, \"type\": \"scatterpolar\"}], \"scatterpolargl\": [{\"marker\": {\"colorbar\": {\"outlinewidth\": 0, \"ticks\": \"\"}}, \"type\": \"scatterpolargl\"}], \"scatterternary\": [{\"marker\": {\"colorbar\": {\"outlinewidth\": 0, \"ticks\": \"\"}}, \"type\": \"scatterternary\"}], \"surface\": [{\"colorbar\": {\"outlinewidth\": 0, \"ticks\": \"\"}, \"colorscale\": [[0.0, \"#0d0887\"], [0.1111111111111111, \"#46039f\"], [0.2222222222222222, \"#7201a8\"], [0.3333333333333333, \"#9c179e\"], [0.4444444444444444, \"#bd3786\"], [0.5555555555555556, \"#d8576b\"], [0.6666666666666666, \"#ed7953\"], [0.7777777777777778, \"#fb9f3a\"], [0.8888888888888888, \"#fdca26\"], [1.0, \"#f0f921\"]], \"type\": \"surface\"}], \"table\": [{\"cells\": {\"fill\": {\"color\": \"#EBF0F8\"}, \"line\": {\"color\": \"white\"}}, \"header\": {\"fill\": {\"color\": \"#C8D4E3\"}, \"line\": {\"color\": \"white\"}}, \"type\": \"table\"}]}, \"layout\": {\"annotationdefaults\": {\"arrowcolor\": \"#2a3f5f\", \"arrowhead\": 0, \"arrowwidth\": 1}, \"coloraxis\": {\"colorbar\": {\"outlinewidth\": 0, \"ticks\": \"\"}}, \"colorscale\": {\"diverging\": [[0, \"#8e0152\"], [0.1, \"#c51b7d\"], [0.2, \"#de77ae\"], [0.3, \"#f1b6da\"], [0.4, \"#fde0ef\"], [0.5, \"#f7f7f7\"], [0.6, \"#e6f5d0\"], [0.7, \"#b8e186\"], [0.8, \"#7fbc41\"], [0.9, \"#4d9221\"], [1, \"#276419\"]], \"sequential\": [[0.0, \"#0d0887\"], [0.1111111111111111, \"#46039f\"], [0.2222222222222222, \"#7201a8\"], [0.3333333333333333, \"#9c179e\"], [0.4444444444444444, \"#bd3786\"], [0.5555555555555556, \"#d8576b\"], [0.6666666666666666, \"#ed7953\"], [0.7777777777777778, \"#fb9f3a\"], [0.8888888888888888, \"#fdca26\"], [1.0, \"#f0f921\"]], \"sequentialminus\": [[0.0, \"#0d0887\"], [0.1111111111111111, \"#46039f\"], [0.2222222222222222, \"#7201a8\"], [0.3333333333333333, \"#9c179e\"], [0.4444444444444444, \"#bd3786\"], [0.5555555555555556, \"#d8576b\"], [0.6666666666666666, \"#ed7953\"], [0.7777777777777778, \"#fb9f3a\"], [0.8888888888888888, \"#fdca26\"], [1.0, \"#f0f921\"]]}, \"colorway\": [\"#636efa\", \"#EF553B\", \"#00cc96\", \"#ab63fa\", \"#FFA15A\", \"#19d3f3\", \"#FF6692\", \"#B6E880\", \"#FF97FF\", \"#FECB52\"], \"font\": {\"color\": \"#2a3f5f\"}, \"geo\": {\"bgcolor\": \"white\", \"lakecolor\": \"white\", \"landcolor\": \"#E5ECF6\", \"showlakes\": true, \"showland\": true, \"subunitcolor\": \"white\"}, \"hoverlabel\": {\"align\": \"left\"}, \"hovermode\": \"closest\", \"mapbox\": {\"style\": \"light\"}, \"paper_bgcolor\": \"white\", \"plot_bgcolor\": \"#E5ECF6\", \"polar\": {\"angularaxis\": {\"gridcolor\": \"white\", \"linecolor\": \"white\", \"ticks\": \"\"}, \"bgcolor\": \"#E5ECF6\", \"radialaxis\": {\"gridcolor\": \"white\", \"linecolor\": \"white\", \"ticks\": \"\"}}, \"scene\": {\"xaxis\": {\"backgroundcolor\": \"#E5ECF6\", \"gridcolor\": \"white\", \"gridwidth\": 2, \"linecolor\": \"white\", \"showbackground\": true, \"ticks\": \"\", \"zerolinecolor\": \"white\"}, \"yaxis\": {\"backgroundcolor\": \"#E5ECF6\", \"gridcolor\": \"white\", \"gridwidth\": 2, \"linecolor\": \"white\", \"showbackground\": true, \"ticks\": \"\", \"zerolinecolor\": \"white\"}, \"zaxis\": {\"backgroundcolor\": \"#E5ECF6\", \"gridcolor\": \"white\", \"gridwidth\": 2, \"linecolor\": \"white\", \"showbackground\": true, \"ticks\": \"\", \"zerolinecolor\": \"white\"}}, \"shapedefaults\": {\"line\": {\"color\": \"#2a3f5f\"}}, \"ternary\": {\"aaxis\": {\"gridcolor\": \"white\", \"linecolor\": \"white\", \"ticks\": \"\"}, \"baxis\": {\"gridcolor\": \"white\", \"linecolor\": \"white\", \"ticks\": \"\"}, \"bgcolor\": \"#E5ECF6\", \"caxis\": {\"gridcolor\": \"white\", \"linecolor\": \"white\", \"ticks\": \"\"}}, \"title\": {\"x\": 0.05}, \"xaxis\": {\"automargin\": true, \"gridcolor\": \"white\", \"linecolor\": \"white\", \"ticks\": \"\", \"title\": {\"standoff\": 15}, \"zerolinecolor\": \"white\", \"zerolinewidth\": 2}, \"yaxis\": {\"automargin\": true, \"gridcolor\": \"white\", \"linecolor\": \"white\", \"ticks\": \"\", \"title\": {\"standoff\": 15}, \"zerolinecolor\": \"white\", \"zerolinewidth\": 2}}}, \"title\": {\"text\": \"Obtained Score Percentage vs Hours-Studied\", \"x\": 0.5}, \"width\": 700, \"xaxis\": {\"anchor\": \"y\", \"domain\": [0.0, 1.0], \"linecolor\": \"black\", \"linewidth\": 2, \"mirror\": true, \"showline\": true, \"title\": {\"text\": \"Number of Hours Studied\"}}, \"yaxis\": {\"anchor\": \"x\", \"domain\": [0.0, 1.0], \"linecolor\": \"black\", \"linewidth\": 2, \"mirror\": true, \"showline\": true, \"title\": {\"text\": \"Obtained Percentage Score\"}}},\n",
              "                        {\"responsive\": true}\n",
              "                    ).then(function(){\n",
              "                            \n",
              "var gd = document.getElementById('f8ff42b5-008b-463f-9a19-0ec6c08621b0');\n",
              "var x = new MutationObserver(function (mutations, observer) {{\n",
              "        var display = window.getComputedStyle(gd).display;\n",
              "        if (!display || display === 'none') {{\n",
              "            console.log([gd, 'removed!']);\n",
              "            Plotly.purge(gd);\n",
              "            observer.disconnect();\n",
              "        }}\n",
              "}});\n",
              "\n",
              "// Listen for the removal of the full notebook cells\n",
              "var notebookContainer = gd.closest('#notebook-container');\n",
              "if (notebookContainer) {{\n",
              "    x.observe(notebookContainer, {childList: true});\n",
              "}}\n",
              "\n",
              "// Listen for the clearing of the current output cell\n",
              "var outputEl = gd.closest('.output');\n",
              "if (outputEl) {{\n",
              "    x.observe(outputEl, {childList: true});\n",
              "}}\n",
              "\n",
              "                        })\n",
              "                };\n",
              "                \n",
              "            </script>\n",
              "        </div>\n",
              "</body>\n",
              "</html>"
            ]
          },
          "metadata": {}
        }
      ]
    },
    {
      "cell_type": "markdown",
      "metadata": {
        "id": "uTzrjAOTsTp8"
      },
      "source": [
        "**This tutorial is broken down into five parts:<br>**\n",
        "&#9832; Calculate Mean and Variance.<br>\n",
        "&#9832; Calculate Covariance (X,Y).<br>\n",
        "&#9832; Estimate Coefficients.<br>\n",
        "&#9832; Make Predictions.<br>\n",
        "&#9832; Visual Comparison for Correctness.<br>\n",
        "These steps will give you the foundation you need to implement and train simple linear regression models for your own prediction problems."
      ]
    },
    {
      "cell_type": "markdown",
      "metadata": {
        "id": "c8qZiFevsiYP"
      },
      "source": [
        "### 1. Calculate Mean and Variance.\n",
        "As said earlier, simple linear regression uses mean and variance of the given data. We will use `numpy` builtin functions to calculate them. "
      ]
    },
    {
      "cell_type": "code",
      "metadata": {
        "colab": {
          "base_uri": "https://localhost:8080/"
        },
        "id": "AtFJzgnqsaSg",
        "outputId": "282ae6f7-f446-430c-d1d1-7fab56013a4c"
      },
      "source": [
        "print(data[\"Hours\"])\n",
        "print(data[\"Scores\"])"
      ],
      "execution_count": null,
      "outputs": [
        {
          "output_type": "stream",
          "name": "stdout",
          "text": [
            "0     2.5\n",
            "1     5.1\n",
            "2     3.2\n",
            "3     8.5\n",
            "4     3.5\n",
            "5     1.5\n",
            "6     9.2\n",
            "7     5.5\n",
            "8     8.3\n",
            "9     2.7\n",
            "10    7.7\n",
            "11    5.9\n",
            "12    4.5\n",
            "13    3.3\n",
            "14    1.1\n",
            "15    8.9\n",
            "16    2.5\n",
            "17    1.9\n",
            "18    6.1\n",
            "19    7.4\n",
            "20    2.7\n",
            "21    4.8\n",
            "22    3.8\n",
            "23    6.9\n",
            "24    7.8\n",
            "Name: Hours, dtype: float64\n",
            "0     21\n",
            "1     47\n",
            "2     27\n",
            "3     75\n",
            "4     30\n",
            "5     20\n",
            "6     88\n",
            "7     60\n",
            "8     81\n",
            "9     25\n",
            "10    85\n",
            "11    62\n",
            "12    41\n",
            "13    42\n",
            "14    17\n",
            "15    95\n",
            "16    30\n",
            "17    24\n",
            "18    67\n",
            "19    69\n",
            "20    30\n",
            "21    54\n",
            "22    35\n",
            "23    76\n",
            "24    86\n",
            "Name: Scores, dtype: int64\n"
          ]
        }
      ]
    },
    {
      "cell_type": "code",
      "metadata": {
        "colab": {
          "base_uri": "https://localhost:8080/"
        },
        "id": "PpMqVZKUsuM4",
        "outputId": "76a1b146-0f36-43ba-b98e-26475fa946d4"
      },
      "source": [
        "mean_x = np.mean(data[\"Hours\"])\n",
        "mean_y = np.mean(data[\"Scores\"])\n",
        "\n",
        "var_x = np.var(data[\"Hours\"])\n",
        "var_y = np.var(data[\"Scores\"])\n",
        "\n",
        "print('x stats: mean= %.3f   variance= %.3f' % (mean_x, var_x))\n",
        "print('y stats: mean= %.3f   variance= %.3f' % (mean_y, var_y))"
      ],
      "execution_count": null,
      "outputs": [
        {
          "output_type": "stream",
          "name": "stdout",
          "text": [
            "x stats: mean= 5.012   variance= 6.121\n",
            "y stats: mean= 51.480   variance= 613.850\n"
          ]
        }
      ]
    },
    {
      "cell_type": "markdown",
      "metadata": {
        "id": "-3-VKYKCtHxt"
      },
      "source": [
        "### 2. Calculate Covariance.\n",
        "The covariance of two groups of numbers describes how those numbers change together. Covariance is a generalization of correlation. Correlation describes the relationship between two groups of numbers, whereas covariance can describe the relationship between two or more groups of numbers. It is calculated by the following formula. \n",
        "$$ Cov(X,Y) = \\frac{\\sum{(X_i - \\overline{X})}{(Y_j - \\overline{Y})}}{n-1} $$\n",
        "\n",
        "You can simply implement it by yourself or use builtin function `numpy.cov()`"
      ]
    },
    {
      "cell_type": "code",
      "metadata": {
        "colab": {
          "base_uri": "https://localhost:8080/"
        },
        "id": "Y0rEab14tPic",
        "outputId": "e74fb0d0-a5c7-4c70-922b-a92d2ab2c6fd"
      },
      "source": [
        "# Calculate covariance between x and y\n",
        "def covariance(x, y):\n",
        "    mean_x = np.mean(x)\n",
        "    mean_y = np.mean(y)\n",
        "    covar = 0.0\n",
        "    for i in range(len(x)):\n",
        "        covar += (x[i] - mean_x) * (y[i] - mean_y)\n",
        "    return covar/(len(x)-1)\n",
        "\n",
        "cov_xy = covariance(data['Hours'], data['Scores'])\n",
        "\n",
        "print(f'Cov(X,Y): {cov_xy}')\n",
        "print(f'Covariance Using Built-In Function: {np.cov(data[\"Hours\"], data[\"Scores\"])}')"
      ],
      "execution_count": null,
      "outputs": [
        {
          "output_type": "stream",
          "name": "stdout",
          "text": [
            "Cov(X,Y): 62.33150000000001\n",
            "Covariance Using Built-In Function: [[  6.3761      62.3315    ]\n",
            " [ 62.3315     639.42666667]]\n"
          ]
        }
      ]
    },
    {
      "cell_type": "markdown",
      "metadata": {
        "id": "k83tAOYnv59r"
      },
      "source": [
        "### 3. Estimate Coefficients\n",
        "We must estimate the values for two coefficients (<font color='skyblue'>b0 & b1</font>) in simple linear regression."
      ]
    },
    {
      "cell_type": "code",
      "metadata": {
        "colab": {
          "base_uri": "https://localhost:8080/"
        },
        "id": "mRNY-EOgv7Lq",
        "outputId": "3caea18b-c1f4-47ae-e24c-57628d9073bb"
      },
      "source": [
        "b1 = cov_xy / var_x\n",
        "b0 = mean_y - b1 * mean_x\n",
        "\n",
        "print(f'Coefficents:\\n b0: {b0}  b1: {b1} ')"
      ],
      "execution_count": null,
      "outputs": [
        {
          "output_type": "stream",
          "name": "stdout",
          "text": [
            "Coefficents:\n",
            " b0: 0.44215979726372723  b1: 10.183128532070286 \n"
          ]
        }
      ]
    },
    {
      "cell_type": "markdown",
      "metadata": {
        "id": "hqhYPJ21wtgd"
      },
      "source": [
        "### 4. Make Predictions\n",
        "The simple linear regression model is a line defined by coefficients estimated from training data. Once the coefficients are estimated, we can use them to make predictions. The equation to make predictions with a simple linear regression model is as follows:\n",
        "$$ \\hat{y} = b_0 + b_1 * x $$"
      ]
    },
    {
      "cell_type": "code",
      "metadata": {
        "colab": {
          "base_uri": "https://localhost:8080/"
        },
        "id": "3jGUL1ROwxYq",
        "outputId": "14feb289-c091-4fcc-b7f9-e048db44fc58"
      },
      "source": [
        "# Taking the values from the dataframe\n",
        "x = data['Hours'].values.copy()\n",
        "\n",
        "print(f'x: {x}')\n",
        "\n",
        "# Predicting the new data based on calculated coeffiecents. \n",
        "y_pred = b0 + b1 * x\n",
        "print(f'\\n\\ny_pred: {y_pred}')\n",
        "\n",
        "y = data['Scores'].values.copy()\n",
        "print(f'\\n\\ny: {y}')"
      ],
      "execution_count": null,
      "outputs": [
        {
          "output_type": "stream",
          "name": "stdout",
          "text": [
            "x: [2.5 5.1 3.2 8.5 3.5 1.5 9.2 5.5 8.3 2.7 7.7 5.9 4.5 3.3 1.1 8.9 2.5 1.9\n",
            " 6.1 7.4 2.7 4.8 3.8 6.9 7.8]\n",
            "\n",
            "\n",
            "y_pred: [25.89998113 52.37611531 33.0281711  86.99875232 36.08310966 15.7168526\n",
            " 94.12694229 56.44936672 84.96212661 27.93660683 78.85224949 60.52261814\n",
            " 46.26623819 34.04648395 11.64360118 91.07200373 25.89998113 19.79010401\n",
            " 62.55924384 75.79731093 27.93660683 49.32117675 39.13804822 70.70574667\n",
            " 79.87056235]\n",
            "\n",
            "\n",
            "y: [21 47 27 75 30 20 88 60 81 25 85 62 41 42 17 95 30 24 67 69 30 54 35 76\n",
            " 86]\n"
          ]
        }
      ]
    },
    {
      "cell_type": "markdown",
      "metadata": {
        "id": "i3jpOlnnxmFn"
      },
      "source": [
        "### 5. Visual Comparison for Correctness \n"
      ]
    },
    {
      "cell_type": "code",
      "metadata": {
        "colab": {
          "base_uri": "https://localhost:8080/",
          "height": 542
        },
        "id": "2dh67Dwaxnil",
        "outputId": "4a69eb2a-7f5d-4778-e51b-9020324e962f"
      },
      "source": [
        "fig = go.Figure()\n",
        "\n",
        "fig.add_trace(go.Scatter(x=data[\"Hours\"], y=data[\"Scores\"], name='train', mode='markers', marker_color='rgba(152, 0, 0, .8)'))\n",
        "fig.add_trace(go.Scatter(x=data[\"Hours\"], y=y_pred, name='prediction', mode='lines+markers', marker_color='rgba(0, 152, 0, .8)'))\n",
        "\n",
        "fig.update_layout(title = f'Obtained Score Percentage vs Hours-Studied\\n (visual comparison for correctness)',title_x=0.5, xaxis_title= \"Number of Hours Studied\", yaxis_title=\"Obtained Percentage Score\")\n",
        "fig.update_xaxes(showline=True, linewidth=2, linecolor='black', mirror=True)\n",
        "fig.update_yaxes(showline=True, linewidth=2, linecolor='black', mirror=True)\n",
        "fig.show()"
      ],
      "execution_count": null,
      "outputs": [
        {
          "output_type": "display_data",
          "data": {
            "text/html": [
              "<html>\n",
              "<head><meta charset=\"utf-8\" /></head>\n",
              "<body>\n",
              "    <div>\n",
              "            <script src=\"https://cdnjs.cloudflare.com/ajax/libs/mathjax/2.7.5/MathJax.js?config=TeX-AMS-MML_SVG\"></script><script type=\"text/javascript\">if (window.MathJax) {MathJax.Hub.Config({SVG: {font: \"STIX-Web\"}});}</script>\n",
              "                <script type=\"text/javascript\">window.PlotlyConfig = {MathJaxConfig: 'local'};</script>\n",
              "        <script src=\"https://cdn.plot.ly/plotly-latest.min.js\"></script>    \n",
              "            <div id=\"0673cd50-79f7-4d69-a3d0-918c7402253f\" class=\"plotly-graph-div\" style=\"height:525px; width:100%;\"></div>\n",
              "            <script type=\"text/javascript\">\n",
              "                \n",
              "                    window.PLOTLYENV=window.PLOTLYENV || {};\n",
              "                    \n",
              "                if (document.getElementById(\"0673cd50-79f7-4d69-a3d0-918c7402253f\")) {\n",
              "                    Plotly.newPlot(\n",
              "                        '0673cd50-79f7-4d69-a3d0-918c7402253f',\n",
              "                        [{\"marker\": {\"color\": \"rgba(152, 0, 0, .8)\"}, \"mode\": \"markers\", \"name\": \"train\", \"type\": \"scatter\", \"x\": [2.5, 5.1, 3.2, 8.5, 3.5, 1.5, 9.2, 5.5, 8.3, 2.7, 7.7, 5.9, 4.5, 3.3, 1.1, 8.9, 2.5, 1.9, 6.1, 7.4, 2.7, 4.8, 3.8, 6.9, 7.8], \"y\": [21, 47, 27, 75, 30, 20, 88, 60, 81, 25, 85, 62, 41, 42, 17, 95, 30, 24, 67, 69, 30, 54, 35, 76, 86]}, {\"marker\": {\"color\": \"rgba(0, 152, 0, .8)\"}, \"mode\": \"lines+markers\", \"name\": \"prediction\", \"type\": \"scatter\", \"x\": [2.5, 5.1, 3.2, 8.5, 3.5, 1.5, 9.2, 5.5, 8.3, 2.7, 7.7, 5.9, 4.5, 3.3, 1.1, 8.9, 2.5, 1.9, 6.1, 7.4, 2.7, 4.8, 3.8, 6.9, 7.8], \"y\": [25.899981127439442, 52.376115310822186, 33.028171099888645, 86.99875231986117, 36.08310965950973, 15.716852595369158, 94.12694229231036, 56.4493667236503, 84.96212661344711, 27.936606833853503, 78.85224949420494, 60.52261813647842, 46.266238191580015, 34.046483953095674, 11.643601182541044, 91.07200373268928, 25.899981127439442, 19.79010400819727, 62.55924384289247, 75.79731093458385, 27.936606833853503, 49.3211767512011, 39.138048219130816, 70.70574666854871, 79.87056234741196]}],\n",
              "                        {\"template\": {\"data\": {\"bar\": [{\"error_x\": {\"color\": \"#2a3f5f\"}, \"error_y\": {\"color\": \"#2a3f5f\"}, \"marker\": {\"line\": {\"color\": \"#E5ECF6\", \"width\": 0.5}}, \"type\": \"bar\"}], \"barpolar\": [{\"marker\": {\"line\": {\"color\": \"#E5ECF6\", \"width\": 0.5}}, \"type\": \"barpolar\"}], \"carpet\": [{\"aaxis\": {\"endlinecolor\": \"#2a3f5f\", \"gridcolor\": \"white\", \"linecolor\": \"white\", \"minorgridcolor\": \"white\", \"startlinecolor\": \"#2a3f5f\"}, \"baxis\": {\"endlinecolor\": \"#2a3f5f\", \"gridcolor\": \"white\", \"linecolor\": \"white\", \"minorgridcolor\": \"white\", \"startlinecolor\": \"#2a3f5f\"}, \"type\": \"carpet\"}], \"choropleth\": [{\"colorbar\": {\"outlinewidth\": 0, \"ticks\": \"\"}, \"type\": \"choropleth\"}], \"contour\": [{\"colorbar\": {\"outlinewidth\": 0, \"ticks\": \"\"}, \"colorscale\": [[0.0, \"#0d0887\"], [0.1111111111111111, \"#46039f\"], [0.2222222222222222, \"#7201a8\"], [0.3333333333333333, \"#9c179e\"], [0.4444444444444444, \"#bd3786\"], [0.5555555555555556, \"#d8576b\"], [0.6666666666666666, \"#ed7953\"], [0.7777777777777778, \"#fb9f3a\"], [0.8888888888888888, \"#fdca26\"], [1.0, \"#f0f921\"]], \"type\": \"contour\"}], \"contourcarpet\": [{\"colorbar\": {\"outlinewidth\": 0, \"ticks\": \"\"}, \"type\": \"contourcarpet\"}], \"heatmap\": [{\"colorbar\": {\"outlinewidth\": 0, \"ticks\": \"\"}, \"colorscale\": [[0.0, \"#0d0887\"], [0.1111111111111111, \"#46039f\"], [0.2222222222222222, \"#7201a8\"], [0.3333333333333333, \"#9c179e\"], [0.4444444444444444, \"#bd3786\"], [0.5555555555555556, \"#d8576b\"], [0.6666666666666666, \"#ed7953\"], [0.7777777777777778, \"#fb9f3a\"], [0.8888888888888888, \"#fdca26\"], [1.0, \"#f0f921\"]], \"type\": \"heatmap\"}], \"heatmapgl\": [{\"colorbar\": {\"outlinewidth\": 0, \"ticks\": \"\"}, \"colorscale\": [[0.0, \"#0d0887\"], [0.1111111111111111, \"#46039f\"], [0.2222222222222222, \"#7201a8\"], [0.3333333333333333, \"#9c179e\"], [0.4444444444444444, \"#bd3786\"], [0.5555555555555556, \"#d8576b\"], [0.6666666666666666, \"#ed7953\"], [0.7777777777777778, \"#fb9f3a\"], [0.8888888888888888, \"#fdca26\"], [1.0, \"#f0f921\"]], \"type\": \"heatmapgl\"}], \"histogram\": [{\"marker\": {\"colorbar\": {\"outlinewidth\": 0, \"ticks\": \"\"}}, \"type\": \"histogram\"}], \"histogram2d\": [{\"colorbar\": {\"outlinewidth\": 0, \"ticks\": \"\"}, \"colorscale\": [[0.0, \"#0d0887\"], [0.1111111111111111, \"#46039f\"], [0.2222222222222222, \"#7201a8\"], [0.3333333333333333, \"#9c179e\"], [0.4444444444444444, \"#bd3786\"], [0.5555555555555556, \"#d8576b\"], [0.6666666666666666, \"#ed7953\"], [0.7777777777777778, \"#fb9f3a\"], [0.8888888888888888, \"#fdca26\"], [1.0, \"#f0f921\"]], \"type\": \"histogram2d\"}], \"histogram2dcontour\": [{\"colorbar\": {\"outlinewidth\": 0, \"ticks\": \"\"}, \"colorscale\": [[0.0, \"#0d0887\"], [0.1111111111111111, \"#46039f\"], [0.2222222222222222, \"#7201a8\"], [0.3333333333333333, \"#9c179e\"], [0.4444444444444444, \"#bd3786\"], [0.5555555555555556, \"#d8576b\"], [0.6666666666666666, \"#ed7953\"], [0.7777777777777778, \"#fb9f3a\"], [0.8888888888888888, \"#fdca26\"], [1.0, \"#f0f921\"]], \"type\": \"histogram2dcontour\"}], \"mesh3d\": [{\"colorbar\": {\"outlinewidth\": 0, \"ticks\": \"\"}, \"type\": \"mesh3d\"}], \"parcoords\": [{\"line\": {\"colorbar\": {\"outlinewidth\": 0, \"ticks\": \"\"}}, \"type\": \"parcoords\"}], \"pie\": [{\"automargin\": true, \"type\": \"pie\"}], \"scatter\": [{\"marker\": {\"colorbar\": {\"outlinewidth\": 0, \"ticks\": \"\"}}, \"type\": \"scatter\"}], \"scatter3d\": [{\"line\": {\"colorbar\": {\"outlinewidth\": 0, \"ticks\": \"\"}}, \"marker\": {\"colorbar\": {\"outlinewidth\": 0, \"ticks\": \"\"}}, \"type\": \"scatter3d\"}], \"scattercarpet\": [{\"marker\": {\"colorbar\": {\"outlinewidth\": 0, \"ticks\": \"\"}}, \"type\": \"scattercarpet\"}], \"scattergeo\": [{\"marker\": {\"colorbar\": {\"outlinewidth\": 0, \"ticks\": \"\"}}, \"type\": \"scattergeo\"}], \"scattergl\": [{\"marker\": {\"colorbar\": {\"outlinewidth\": 0, \"ticks\": \"\"}}, \"type\": \"scattergl\"}], \"scattermapbox\": [{\"marker\": {\"colorbar\": {\"outlinewidth\": 0, \"ticks\": \"\"}}, \"type\": \"scattermapbox\"}], \"scatterpolar\": [{\"marker\": {\"colorbar\": {\"outlinewidth\": 0, \"ticks\": \"\"}}, \"type\": \"scatterpolar\"}], \"scatterpolargl\": [{\"marker\": {\"colorbar\": {\"outlinewidth\": 0, \"ticks\": \"\"}}, \"type\": \"scatterpolargl\"}], \"scatterternary\": [{\"marker\": {\"colorbar\": {\"outlinewidth\": 0, \"ticks\": \"\"}}, \"type\": \"scatterternary\"}], \"surface\": [{\"colorbar\": {\"outlinewidth\": 0, \"ticks\": \"\"}, \"colorscale\": [[0.0, \"#0d0887\"], [0.1111111111111111, \"#46039f\"], [0.2222222222222222, \"#7201a8\"], [0.3333333333333333, \"#9c179e\"], [0.4444444444444444, \"#bd3786\"], [0.5555555555555556, \"#d8576b\"], [0.6666666666666666, \"#ed7953\"], [0.7777777777777778, \"#fb9f3a\"], [0.8888888888888888, \"#fdca26\"], [1.0, \"#f0f921\"]], \"type\": \"surface\"}], \"table\": [{\"cells\": {\"fill\": {\"color\": \"#EBF0F8\"}, \"line\": {\"color\": \"white\"}}, \"header\": {\"fill\": {\"color\": \"#C8D4E3\"}, \"line\": {\"color\": \"white\"}}, \"type\": \"table\"}]}, \"layout\": {\"annotationdefaults\": {\"arrowcolor\": \"#2a3f5f\", \"arrowhead\": 0, \"arrowwidth\": 1}, \"coloraxis\": {\"colorbar\": {\"outlinewidth\": 0, \"ticks\": \"\"}}, \"colorscale\": {\"diverging\": [[0, \"#8e0152\"], [0.1, \"#c51b7d\"], [0.2, \"#de77ae\"], [0.3, \"#f1b6da\"], [0.4, \"#fde0ef\"], [0.5, \"#f7f7f7\"], [0.6, \"#e6f5d0\"], [0.7, \"#b8e186\"], [0.8, \"#7fbc41\"], [0.9, \"#4d9221\"], [1, \"#276419\"]], \"sequential\": [[0.0, \"#0d0887\"], [0.1111111111111111, \"#46039f\"], [0.2222222222222222, \"#7201a8\"], [0.3333333333333333, \"#9c179e\"], [0.4444444444444444, \"#bd3786\"], [0.5555555555555556, \"#d8576b\"], [0.6666666666666666, \"#ed7953\"], [0.7777777777777778, \"#fb9f3a\"], [0.8888888888888888, \"#fdca26\"], [1.0, \"#f0f921\"]], \"sequentialminus\": [[0.0, \"#0d0887\"], [0.1111111111111111, \"#46039f\"], [0.2222222222222222, \"#7201a8\"], [0.3333333333333333, \"#9c179e\"], [0.4444444444444444, \"#bd3786\"], [0.5555555555555556, \"#d8576b\"], [0.6666666666666666, \"#ed7953\"], [0.7777777777777778, \"#fb9f3a\"], [0.8888888888888888, \"#fdca26\"], [1.0, \"#f0f921\"]]}, \"colorway\": [\"#636efa\", \"#EF553B\", \"#00cc96\", \"#ab63fa\", \"#FFA15A\", \"#19d3f3\", \"#FF6692\", \"#B6E880\", \"#FF97FF\", \"#FECB52\"], \"font\": {\"color\": \"#2a3f5f\"}, \"geo\": {\"bgcolor\": \"white\", \"lakecolor\": \"white\", \"landcolor\": \"#E5ECF6\", \"showlakes\": true, \"showland\": true, \"subunitcolor\": \"white\"}, \"hoverlabel\": {\"align\": \"left\"}, \"hovermode\": \"closest\", \"mapbox\": {\"style\": \"light\"}, \"paper_bgcolor\": \"white\", \"plot_bgcolor\": \"#E5ECF6\", \"polar\": {\"angularaxis\": {\"gridcolor\": \"white\", \"linecolor\": \"white\", \"ticks\": \"\"}, \"bgcolor\": \"#E5ECF6\", \"radialaxis\": {\"gridcolor\": \"white\", \"linecolor\": \"white\", \"ticks\": \"\"}}, \"scene\": {\"xaxis\": {\"backgroundcolor\": \"#E5ECF6\", \"gridcolor\": \"white\", \"gridwidth\": 2, \"linecolor\": \"white\", \"showbackground\": true, \"ticks\": \"\", \"zerolinecolor\": \"white\"}, \"yaxis\": {\"backgroundcolor\": \"#E5ECF6\", \"gridcolor\": \"white\", \"gridwidth\": 2, \"linecolor\": \"white\", \"showbackground\": true, \"ticks\": \"\", \"zerolinecolor\": \"white\"}, \"zaxis\": {\"backgroundcolor\": \"#E5ECF6\", \"gridcolor\": \"white\", \"gridwidth\": 2, \"linecolor\": \"white\", \"showbackground\": true, \"ticks\": \"\", \"zerolinecolor\": \"white\"}}, \"shapedefaults\": {\"line\": {\"color\": \"#2a3f5f\"}}, \"ternary\": {\"aaxis\": {\"gridcolor\": \"white\", \"linecolor\": \"white\", \"ticks\": \"\"}, \"baxis\": {\"gridcolor\": \"white\", \"linecolor\": \"white\", \"ticks\": \"\"}, \"bgcolor\": \"#E5ECF6\", \"caxis\": {\"gridcolor\": \"white\", \"linecolor\": \"white\", \"ticks\": \"\"}}, \"title\": {\"x\": 0.05}, \"xaxis\": {\"automargin\": true, \"gridcolor\": \"white\", \"linecolor\": \"white\", \"ticks\": \"\", \"title\": {\"standoff\": 15}, \"zerolinecolor\": \"white\", \"zerolinewidth\": 2}, \"yaxis\": {\"automargin\": true, \"gridcolor\": \"white\", \"linecolor\": \"white\", \"ticks\": \"\", \"title\": {\"standoff\": 15}, \"zerolinecolor\": \"white\", \"zerolinewidth\": 2}}}, \"title\": {\"text\": \"Obtained Score Percentage vs Hours-Studied\\n (visual comparison for correctness)\", \"x\": 0.5}, \"xaxis\": {\"linecolor\": \"black\", \"linewidth\": 2, \"mirror\": true, \"showline\": true, \"title\": {\"text\": \"Number of Hours Studied\"}}, \"yaxis\": {\"linecolor\": \"black\", \"linewidth\": 2, \"mirror\": true, \"showline\": true, \"title\": {\"text\": \"Obtained Percentage Score\"}}},\n",
              "                        {\"responsive\": true}\n",
              "                    ).then(function(){\n",
              "                            \n",
              "var gd = document.getElementById('0673cd50-79f7-4d69-a3d0-918c7402253f');\n",
              "var x = new MutationObserver(function (mutations, observer) {{\n",
              "        var display = window.getComputedStyle(gd).display;\n",
              "        if (!display || display === 'none') {{\n",
              "            console.log([gd, 'removed!']);\n",
              "            Plotly.purge(gd);\n",
              "            observer.disconnect();\n",
              "        }}\n",
              "}});\n",
              "\n",
              "// Listen for the removal of the full notebook cells\n",
              "var notebookContainer = gd.closest('#notebook-container');\n",
              "if (notebookContainer) {{\n",
              "    x.observe(notebookContainer, {childList: true});\n",
              "}}\n",
              "\n",
              "// Listen for the clearing of the current output cell\n",
              "var outputEl = gd.closest('.output');\n",
              "if (outputEl) {{\n",
              "    x.observe(outputEl, {childList: true});\n",
              "}}\n",
              "\n",
              "                        })\n",
              "                };\n",
              "                \n",
              "            </script>\n",
              "        </div>\n",
              "</body>\n",
              "</html>"
            ]
          },
          "metadata": {}
        }
      ]
    },
    {
      "cell_type": "markdown",
      "metadata": {
        "id": "A5OdT8NrPbH4"
      },
      "source": [
        "**<font color='red'>Wait, this is not the right way to do it!</font>**<br>\n"
      ]
    },
    {
      "cell_type": "markdown",
      "metadata": {
        "id": "pzsqUE7XPuzf"
      },
      "source": [
        "Preparing the data"
      ]
    },
    {
      "cell_type": "code",
      "metadata": {
        "id": "Il-WZeeKPxpE"
      },
      "source": [
        "X = data.iloc[:,0].values\n",
        "Y = data.iloc[:,1].values"
      ],
      "execution_count": null,
      "outputs": []
    },
    {
      "cell_type": "markdown",
      "metadata": {
        "id": "0PRGXgPyQhs4"
      },
      "source": [
        "Splitting Training and Test Set"
      ]
    },
    {
      "cell_type": "code",
      "metadata": {
        "id": "el3IfW-SQk7S"
      },
      "source": [
        "from sklearn.model_selection import train_test_split\n",
        "X_train, X_test, Y_train, Y_test = train_test_split(X, Y, test_size=0.2, shuffle=True)"
      ],
      "execution_count": null,
      "outputs": []
    },
    {
      "cell_type": "markdown",
      "metadata": {
        "id": "HqYEkyWfSIPb"
      },
      "source": [
        "Calculating co-efficients again! But this time only using the training data."
      ]
    },
    {
      "cell_type": "code",
      "metadata": {
        "colab": {
          "base_uri": "https://localhost:8080/",
          "height": 872
        },
        "id": "SJJ_9VuoSQG5",
        "outputId": "f292420f-76af-49dd-9e31-0c06ee75891d"
      },
      "source": [
        "mean_x = np.mean(X_train)\n",
        "mean_y = np.mean(Y_train)\n",
        "\n",
        "var_x = np.var(X_train)\n",
        "var_y = np.var(Y_train)\n",
        "\n",
        "print('x stats: mean= %.3f   variance= %.3f' % (mean_x, var_x))\n",
        "print('y stats: mean= %.3f   variance= %.3f' % (mean_y, var_y))\n",
        "\n",
        "cov_xy = covariance(X_train, Y_train)\n",
        "b1 = cov_xy / var_x\n",
        "b0 = mean_y - b1 * mean_x\n",
        "\n",
        "print(f'Coefficents:\\n b0: {b0}  b1: {b1} ')\n",
        "\n",
        "print(f'\\n\\ny: {X}')\n",
        "\n",
        "# Predicting the new data based on calculated coeffiecents. \n",
        "y_pred = b0 + b1 * X\n",
        "print(f'\\n\\ny_pred: {y_pred}')\n",
        "\n",
        "print(f'\\n\\ny: {Y}')\n",
        "\n",
        "fig = go.Figure()\n",
        "\n",
        "fig.add_trace(go.Scatter(x=X, y=Y, name='train', mode='markers', marker_color='rgba(152, 0, 0, .8)'))\n",
        "fig.add_trace(go.Scatter(x=X, y=y_pred, name='prediction', mode='lines+markers', marker_color='rgba(0, 152, 0, .8)'))\n",
        "\n",
        "fig.update_layout(title = f'Obtained Score Percentage vs Hours-Studied\\n (visual comparison for correctness after Train-Test Split)',title_x=0.5, xaxis_title= \"Number of Hours Studied\", yaxis_title=\"Obtained Percentage Score\")\n",
        "fig.update_xaxes(showline=True, linewidth=2, linecolor='black', mirror=True)\n",
        "fig.update_yaxes(showline=True, linewidth=2, linecolor='black', mirror=True)\n",
        "fig.show()"
      ],
      "execution_count": null,
      "outputs": [
        {
          "output_type": "stream",
          "name": "stdout",
          "text": [
            "x stats: mean= 4.685   variance= 5.349\n",
            "y stats: mean= 48.350   variance= 551.027\n",
            "Coefficents:\n",
            " b0: -0.2950960275236554  b1: 10.383158170229168 \n",
            "\n",
            "\n",
            "y: [2.5 5.1 3.2 8.5 3.5 1.5 9.2 5.5 8.3 2.7 7.7 5.9 4.5 3.3 1.1 8.9 2.5 1.9\n",
            " 6.1 7.4 2.7 4.8 3.8 6.9 7.8]\n",
            "\n",
            "\n",
            "y_pred: [25.6627994  52.65901064 32.93101012 87.96174842 36.04595757 15.27964123\n",
            " 95.22995914 56.81227391 85.88511679 27.73943103 79.65522188 60.96553718\n",
            " 46.42911574 33.96932593 11.12637796 92.11501169 25.6627994  19.4329045\n",
            " 63.04216881 76.54027443 27.73943103 49.54406319 39.16090502 71.34869535\n",
            " 80.6935377 ]\n",
            "\n",
            "\n",
            "y: [21 47 27 75 30 20 88 60 81 25 85 62 41 42 17 95 30 24 67 69 30 54 35 76\n",
            " 86]\n"
          ]
        },
        {
          "output_type": "display_data",
          "data": {
            "text/html": [
              "<html>\n",
              "<head><meta charset=\"utf-8\" /></head>\n",
              "<body>\n",
              "    <div>\n",
              "            <script src=\"https://cdnjs.cloudflare.com/ajax/libs/mathjax/2.7.5/MathJax.js?config=TeX-AMS-MML_SVG\"></script><script type=\"text/javascript\">if (window.MathJax) {MathJax.Hub.Config({SVG: {font: \"STIX-Web\"}});}</script>\n",
              "                <script type=\"text/javascript\">window.PlotlyConfig = {MathJaxConfig: 'local'};</script>\n",
              "        <script src=\"https://cdn.plot.ly/plotly-latest.min.js\"></script>    \n",
              "            <div id=\"e6d3db0c-2a04-4a39-bd67-0a0f4b9d1c59\" class=\"plotly-graph-div\" style=\"height:525px; width:100%;\"></div>\n",
              "            <script type=\"text/javascript\">\n",
              "                \n",
              "                    window.PLOTLYENV=window.PLOTLYENV || {};\n",
              "                    \n",
              "                if (document.getElementById(\"e6d3db0c-2a04-4a39-bd67-0a0f4b9d1c59\")) {\n",
              "                    Plotly.newPlot(\n",
              "                        'e6d3db0c-2a04-4a39-bd67-0a0f4b9d1c59',\n",
              "                        [{\"marker\": {\"color\": \"rgba(152, 0, 0, .8)\"}, \"mode\": \"markers\", \"name\": \"train\", \"type\": \"scatter\", \"x\": [2.5, 5.1, 3.2, 8.5, 3.5, 1.5, 9.2, 5.5, 8.3, 2.7, 7.7, 5.9, 4.5, 3.3, 1.1, 8.9, 2.5, 1.9, 6.1, 7.4, 2.7, 4.8, 3.8, 6.9, 7.8], \"y\": [21, 47, 27, 75, 30, 20, 88, 60, 81, 25, 85, 62, 41, 42, 17, 95, 30, 24, 67, 69, 30, 54, 35, 76, 86]}, {\"marker\": {\"color\": \"rgba(0, 152, 0, .8)\"}, \"mode\": \"lines+markers\", \"name\": \"prediction\", \"type\": \"scatter\", \"x\": [2.5, 5.1, 3.2, 8.5, 3.5, 1.5, 9.2, 5.5, 8.3, 2.7, 7.7, 5.9, 4.5, 3.3, 1.1, 8.9, 2.5, 1.9, 6.1, 7.4, 2.7, 4.8, 3.8, 6.9, 7.8], \"y\": [25.662799398049263, 52.65901064064509, 32.93101011720968, 87.96174841942427, 36.04595756827843, 15.279641227820097, 95.22995913858468, 56.81227390873676, 85.88511678537844, 27.739431032095098, 79.65522188324094, 60.965537176828434, 46.4291157385076, 33.96932593423259, 11.12637795972843, 92.11501168751595, 25.662799398049263, 19.43290449591176, 63.042168810874266, 76.54027443217218, 27.739431032095098, 49.54406318957635, 39.160905019347176, 71.3486953470576, 80.69353770026385]}],\n",
              "                        {\"template\": {\"data\": {\"bar\": [{\"error_x\": {\"color\": \"#2a3f5f\"}, \"error_y\": {\"color\": \"#2a3f5f\"}, \"marker\": {\"line\": {\"color\": \"#E5ECF6\", \"width\": 0.5}}, \"type\": \"bar\"}], \"barpolar\": [{\"marker\": {\"line\": {\"color\": \"#E5ECF6\", \"width\": 0.5}}, \"type\": \"barpolar\"}], \"carpet\": [{\"aaxis\": {\"endlinecolor\": \"#2a3f5f\", \"gridcolor\": \"white\", \"linecolor\": \"white\", \"minorgridcolor\": \"white\", \"startlinecolor\": \"#2a3f5f\"}, \"baxis\": {\"endlinecolor\": \"#2a3f5f\", \"gridcolor\": \"white\", \"linecolor\": \"white\", \"minorgridcolor\": \"white\", \"startlinecolor\": \"#2a3f5f\"}, \"type\": \"carpet\"}], \"choropleth\": [{\"colorbar\": {\"outlinewidth\": 0, \"ticks\": \"\"}, \"type\": \"choropleth\"}], \"contour\": [{\"colorbar\": {\"outlinewidth\": 0, \"ticks\": \"\"}, \"colorscale\": [[0.0, \"#0d0887\"], [0.1111111111111111, \"#46039f\"], [0.2222222222222222, \"#7201a8\"], [0.3333333333333333, \"#9c179e\"], [0.4444444444444444, \"#bd3786\"], [0.5555555555555556, \"#d8576b\"], [0.6666666666666666, \"#ed7953\"], [0.7777777777777778, \"#fb9f3a\"], [0.8888888888888888, \"#fdca26\"], [1.0, \"#f0f921\"]], \"type\": \"contour\"}], \"contourcarpet\": [{\"colorbar\": {\"outlinewidth\": 0, \"ticks\": \"\"}, \"type\": \"contourcarpet\"}], \"heatmap\": [{\"colorbar\": {\"outlinewidth\": 0, \"ticks\": \"\"}, \"colorscale\": [[0.0, \"#0d0887\"], [0.1111111111111111, \"#46039f\"], [0.2222222222222222, \"#7201a8\"], [0.3333333333333333, \"#9c179e\"], [0.4444444444444444, \"#bd3786\"], [0.5555555555555556, \"#d8576b\"], [0.6666666666666666, \"#ed7953\"], [0.7777777777777778, \"#fb9f3a\"], [0.8888888888888888, \"#fdca26\"], [1.0, \"#f0f921\"]], \"type\": \"heatmap\"}], \"heatmapgl\": [{\"colorbar\": {\"outlinewidth\": 0, \"ticks\": \"\"}, \"colorscale\": [[0.0, \"#0d0887\"], [0.1111111111111111, \"#46039f\"], [0.2222222222222222, \"#7201a8\"], [0.3333333333333333, \"#9c179e\"], [0.4444444444444444, \"#bd3786\"], [0.5555555555555556, \"#d8576b\"], [0.6666666666666666, \"#ed7953\"], [0.7777777777777778, \"#fb9f3a\"], [0.8888888888888888, \"#fdca26\"], [1.0, \"#f0f921\"]], \"type\": \"heatmapgl\"}], \"histogram\": [{\"marker\": {\"colorbar\": {\"outlinewidth\": 0, \"ticks\": \"\"}}, \"type\": \"histogram\"}], \"histogram2d\": [{\"colorbar\": {\"outlinewidth\": 0, \"ticks\": \"\"}, \"colorscale\": [[0.0, \"#0d0887\"], [0.1111111111111111, \"#46039f\"], [0.2222222222222222, \"#7201a8\"], [0.3333333333333333, \"#9c179e\"], [0.4444444444444444, \"#bd3786\"], [0.5555555555555556, \"#d8576b\"], [0.6666666666666666, \"#ed7953\"], [0.7777777777777778, \"#fb9f3a\"], [0.8888888888888888, \"#fdca26\"], [1.0, \"#f0f921\"]], \"type\": \"histogram2d\"}], \"histogram2dcontour\": [{\"colorbar\": {\"outlinewidth\": 0, \"ticks\": \"\"}, \"colorscale\": [[0.0, \"#0d0887\"], [0.1111111111111111, \"#46039f\"], [0.2222222222222222, \"#7201a8\"], [0.3333333333333333, \"#9c179e\"], [0.4444444444444444, \"#bd3786\"], [0.5555555555555556, \"#d8576b\"], [0.6666666666666666, \"#ed7953\"], [0.7777777777777778, \"#fb9f3a\"], [0.8888888888888888, \"#fdca26\"], [1.0, \"#f0f921\"]], \"type\": \"histogram2dcontour\"}], \"mesh3d\": [{\"colorbar\": {\"outlinewidth\": 0, \"ticks\": \"\"}, \"type\": \"mesh3d\"}], \"parcoords\": [{\"line\": {\"colorbar\": {\"outlinewidth\": 0, \"ticks\": \"\"}}, \"type\": \"parcoords\"}], \"pie\": [{\"automargin\": true, \"type\": \"pie\"}], \"scatter\": [{\"marker\": {\"colorbar\": {\"outlinewidth\": 0, \"ticks\": \"\"}}, \"type\": \"scatter\"}], \"scatter3d\": [{\"line\": {\"colorbar\": {\"outlinewidth\": 0, \"ticks\": \"\"}}, \"marker\": {\"colorbar\": {\"outlinewidth\": 0, \"ticks\": \"\"}}, \"type\": \"scatter3d\"}], \"scattercarpet\": [{\"marker\": {\"colorbar\": {\"outlinewidth\": 0, \"ticks\": \"\"}}, \"type\": \"scattercarpet\"}], \"scattergeo\": [{\"marker\": {\"colorbar\": {\"outlinewidth\": 0, \"ticks\": \"\"}}, \"type\": \"scattergeo\"}], \"scattergl\": [{\"marker\": {\"colorbar\": {\"outlinewidth\": 0, \"ticks\": \"\"}}, \"type\": \"scattergl\"}], \"scattermapbox\": [{\"marker\": {\"colorbar\": {\"outlinewidth\": 0, \"ticks\": \"\"}}, \"type\": \"scattermapbox\"}], \"scatterpolar\": [{\"marker\": {\"colorbar\": {\"outlinewidth\": 0, \"ticks\": \"\"}}, \"type\": \"scatterpolar\"}], \"scatterpolargl\": [{\"marker\": {\"colorbar\": {\"outlinewidth\": 0, \"ticks\": \"\"}}, \"type\": \"scatterpolargl\"}], \"scatterternary\": [{\"marker\": {\"colorbar\": {\"outlinewidth\": 0, \"ticks\": \"\"}}, \"type\": \"scatterternary\"}], \"surface\": [{\"colorbar\": {\"outlinewidth\": 0, \"ticks\": \"\"}, \"colorscale\": [[0.0, \"#0d0887\"], [0.1111111111111111, \"#46039f\"], [0.2222222222222222, \"#7201a8\"], [0.3333333333333333, \"#9c179e\"], [0.4444444444444444, \"#bd3786\"], [0.5555555555555556, \"#d8576b\"], [0.6666666666666666, \"#ed7953\"], [0.7777777777777778, \"#fb9f3a\"], [0.8888888888888888, \"#fdca26\"], [1.0, \"#f0f921\"]], \"type\": \"surface\"}], \"table\": [{\"cells\": {\"fill\": {\"color\": \"#EBF0F8\"}, \"line\": {\"color\": \"white\"}}, \"header\": {\"fill\": {\"color\": \"#C8D4E3\"}, \"line\": {\"color\": \"white\"}}, \"type\": \"table\"}]}, \"layout\": {\"annotationdefaults\": {\"arrowcolor\": \"#2a3f5f\", \"arrowhead\": 0, \"arrowwidth\": 1}, \"coloraxis\": {\"colorbar\": {\"outlinewidth\": 0, \"ticks\": \"\"}}, \"colorscale\": {\"diverging\": [[0, \"#8e0152\"], [0.1, \"#c51b7d\"], [0.2, \"#de77ae\"], [0.3, \"#f1b6da\"], [0.4, \"#fde0ef\"], [0.5, \"#f7f7f7\"], [0.6, \"#e6f5d0\"], [0.7, \"#b8e186\"], [0.8, \"#7fbc41\"], [0.9, \"#4d9221\"], [1, \"#276419\"]], \"sequential\": [[0.0, \"#0d0887\"], [0.1111111111111111, \"#46039f\"], [0.2222222222222222, \"#7201a8\"], [0.3333333333333333, \"#9c179e\"], [0.4444444444444444, \"#bd3786\"], [0.5555555555555556, \"#d8576b\"], [0.6666666666666666, \"#ed7953\"], [0.7777777777777778, \"#fb9f3a\"], [0.8888888888888888, \"#fdca26\"], [1.0, \"#f0f921\"]], \"sequentialminus\": [[0.0, \"#0d0887\"], [0.1111111111111111, \"#46039f\"], [0.2222222222222222, \"#7201a8\"], [0.3333333333333333, \"#9c179e\"], [0.4444444444444444, \"#bd3786\"], [0.5555555555555556, \"#d8576b\"], [0.6666666666666666, \"#ed7953\"], [0.7777777777777778, \"#fb9f3a\"], [0.8888888888888888, \"#fdca26\"], [1.0, \"#f0f921\"]]}, \"colorway\": [\"#636efa\", \"#EF553B\", \"#00cc96\", \"#ab63fa\", \"#FFA15A\", \"#19d3f3\", \"#FF6692\", \"#B6E880\", \"#FF97FF\", \"#FECB52\"], \"font\": {\"color\": \"#2a3f5f\"}, \"geo\": {\"bgcolor\": \"white\", \"lakecolor\": \"white\", \"landcolor\": \"#E5ECF6\", \"showlakes\": true, \"showland\": true, \"subunitcolor\": \"white\"}, \"hoverlabel\": {\"align\": \"left\"}, \"hovermode\": \"closest\", \"mapbox\": {\"style\": \"light\"}, \"paper_bgcolor\": \"white\", \"plot_bgcolor\": \"#E5ECF6\", \"polar\": {\"angularaxis\": {\"gridcolor\": \"white\", \"linecolor\": \"white\", \"ticks\": \"\"}, \"bgcolor\": \"#E5ECF6\", \"radialaxis\": {\"gridcolor\": \"white\", \"linecolor\": \"white\", \"ticks\": \"\"}}, \"scene\": {\"xaxis\": {\"backgroundcolor\": \"#E5ECF6\", \"gridcolor\": \"white\", \"gridwidth\": 2, \"linecolor\": \"white\", \"showbackground\": true, \"ticks\": \"\", \"zerolinecolor\": \"white\"}, \"yaxis\": {\"backgroundcolor\": \"#E5ECF6\", \"gridcolor\": \"white\", \"gridwidth\": 2, \"linecolor\": \"white\", \"showbackground\": true, \"ticks\": \"\", \"zerolinecolor\": \"white\"}, \"zaxis\": {\"backgroundcolor\": \"#E5ECF6\", \"gridcolor\": \"white\", \"gridwidth\": 2, \"linecolor\": \"white\", \"showbackground\": true, \"ticks\": \"\", \"zerolinecolor\": \"white\"}}, \"shapedefaults\": {\"line\": {\"color\": \"#2a3f5f\"}}, \"ternary\": {\"aaxis\": {\"gridcolor\": \"white\", \"linecolor\": \"white\", \"ticks\": \"\"}, \"baxis\": {\"gridcolor\": \"white\", \"linecolor\": \"white\", \"ticks\": \"\"}, \"bgcolor\": \"#E5ECF6\", \"caxis\": {\"gridcolor\": \"white\", \"linecolor\": \"white\", \"ticks\": \"\"}}, \"title\": {\"x\": 0.05}, \"xaxis\": {\"automargin\": true, \"gridcolor\": \"white\", \"linecolor\": \"white\", \"ticks\": \"\", \"title\": {\"standoff\": 15}, \"zerolinecolor\": \"white\", \"zerolinewidth\": 2}, \"yaxis\": {\"automargin\": true, \"gridcolor\": \"white\", \"linecolor\": \"white\", \"ticks\": \"\", \"title\": {\"standoff\": 15}, \"zerolinecolor\": \"white\", \"zerolinewidth\": 2}}}, \"title\": {\"text\": \"Obtained Score Percentage vs Hours-Studied\\n (visual comparison for correctness after Train-Test Split)\", \"x\": 0.5}, \"xaxis\": {\"linecolor\": \"black\", \"linewidth\": 2, \"mirror\": true, \"showline\": true, \"title\": {\"text\": \"Number of Hours Studied\"}}, \"yaxis\": {\"linecolor\": \"black\", \"linewidth\": 2, \"mirror\": true, \"showline\": true, \"title\": {\"text\": \"Obtained Percentage Score\"}}},\n",
              "                        {\"responsive\": true}\n",
              "                    ).then(function(){\n",
              "                            \n",
              "var gd = document.getElementById('e6d3db0c-2a04-4a39-bd67-0a0f4b9d1c59');\n",
              "var x = new MutationObserver(function (mutations, observer) {{\n",
              "        var display = window.getComputedStyle(gd).display;\n",
              "        if (!display || display === 'none') {{\n",
              "            console.log([gd, 'removed!']);\n",
              "            Plotly.purge(gd);\n",
              "            observer.disconnect();\n",
              "        }}\n",
              "}});\n",
              "\n",
              "// Listen for the removal of the full notebook cells\n",
              "var notebookContainer = gd.closest('#notebook-container');\n",
              "if (notebookContainer) {{\n",
              "    x.observe(notebookContainer, {childList: true});\n",
              "}}\n",
              "\n",
              "// Listen for the clearing of the current output cell\n",
              "var outputEl = gd.closest('.output');\n",
              "if (outputEl) {{\n",
              "    x.observe(outputEl, {childList: true});\n",
              "}}\n",
              "\n",
              "                        })\n",
              "                };\n",
              "                \n",
              "            </script>\n",
              "        </div>\n",
              "</body>\n",
              "</html>"
            ]
          },
          "metadata": {}
        }
      ]
    },
    {
      "cell_type": "markdown",
      "metadata": {
        "id": "kOAKZjH3UnO3"
      },
      "source": [
        "Predicting only the test samples"
      ]
    },
    {
      "cell_type": "code",
      "metadata": {
        "colab": {
          "base_uri": "https://localhost:8080/"
        },
        "id": "I9Ls_Tx6UqPX",
        "outputId": "a2e3f3b6-c1b1-42dc-cdcc-02be8c1b8350"
      },
      "source": [
        "y_pred = b0 + b1 * X_test\n",
        "print(f'\\n\\nY_Test: {Y_test}')\n",
        "print(f'\\n\\nY_Pred: {y_pred}')"
      ],
      "execution_count": null,
      "outputs": [
        {
          "output_type": "stream",
          "name": "stdout",
          "text": [
            "\n",
            "\n",
            "Y_Test: [81 35 86 30 88]\n",
            "\n",
            "\n",
            "Y_Pred: [85.88511679 39.16090502 80.6935377  25.6627994  95.22995914]\n"
          ]
        }
      ]
    },
    {
      "cell_type": "markdown",
      "metadata": {
        "id": "T0gZrW62VD18"
      },
      "source": [
        "**<font color='skyblue'>Gradient Descent Algorithm</font>**"
      ]
    },
    {
      "cell_type": "markdown",
      "metadata": {
        "id": "0nX0Ky92WlpM"
      },
      "source": [
        " Now you are going to implement Gradient Descent Algorithm from the scratch. To understand how it works you will need some basic math and logical thinking. Gradient Descent can be used in different machine learning algorithms, including neural networks. For this lab, you are going to build it for a linear regression problem, because it’s easy to understand and visualize.\n",
        "\n",
        "### Linear Regression\n",
        "\n",
        "In order to fit the regression line, we tune two parameters: $slope (b_1)$ and $intercept (b_0).$ Once optimal parameters are found, we usually evaluate results with a  mean squared error $(MSE).$ We remember that smaller MSE — better. In other words, we are trying to minimize it.\n",
        "\n",
        "\n",
        "### Gradient Descent\n",
        "Minimization of the function is the exact task of the Gradient Descent algorithm. It takes parameters and tunes them till the local minimum is reached.\n",
        "\n",
        "Let’s break down the process in steps and explain what is actually going on under the hood:\n",
        "1. First, we take a function we would like to minimize, and very frequently it will be Mean Squared Errors function. \n",
        "2. We identify parameters, such as m and b in the regression function and we take partial derivatives of MSE with respect to these parameters. This is the most crucial and hardest part. Each derived function can tell which way we should tune parameters and by how much.\n",
        "2. We update parameters by iterating through our derived functions and gradually minimizing MSE. In this process, we use an additional parameter **learning rate** which helps us define the step we take towards updating parameters with each iteration. By setting a smaller learning rate we make sure our model wouldn’t jump over a minimum point of MSE and converge nicely.\n",
        "\n",
        "\n",
        "The formula of the Mean Squared Error MSE is as follows: \n",
        "$$ MSE = \\frac{1}{n}\\sum\\limits_{i=1}^n(y_{i} - \\hat{y})^2$$  where$$ \\hat{y} = b_0 + b_1x_i$$"
      ]
    },
    {
      "cell_type": "code",
      "metadata": {
        "id": "1xmEICB4XN6N"
      },
      "source": [
        "from sklearn.metrics import mean_squared_error\n",
        "\n",
        "def gradient_descent(X, y, lr=0.0001, epoch=12):\n",
        "  b1, b0 = 0.0, 0.0 # parameters\n",
        "  log, mse = [], [] # lists to store learning process\n",
        "  # GRADIENT DESCENT ALGORITHM\n",
        "  for i in range(epoch):\n",
        "    sumyhat = 0\n",
        "    sumxyhat = 0\n",
        "    # CALCULATE SUM PORTIONS; COULD HAVE VECTORISED HERE\n",
        "    for j in range(len(X)):\n",
        "      sumyhat += b0 + b1*X[j] - y[j]\n",
        "      sumxyhat += (b0 + b1*X[j] - y[j])*(X[j])\n",
        "    # CALCULATE AND UPDATE b1 AND b0\n",
        "    b1 -= lr*(1/len(X))*sumxyhat\n",
        "    b0 -= lr*(1/len(X))*sumyhat\n",
        "\n",
        "    # COULD HAVE ADDED THE CONDITION HERE\n",
        "    # BUT MATHEMATICALLY IT SEEMED THAT THE THRESHOLD VALUE WOULD BE DIFFICULT TO ACCURATELY PUT IN\n",
        "    # AND THE NUMBER OF EPOCHS CHOSEN HERE (20) OR EVEN 10 TIMES HIGHER IS MORE \n",
        "\n",
        "    # UPDATE LOGS AND MSES\n",
        "    log.append((b1, b0))\n",
        "    mse.append(mean_squared_error(y, (b1*X + b0)))        \n",
        "    \n",
        "  return b1, b0, log, mse"
      ],
      "execution_count": null,
      "outputs": []
    },
    {
      "cell_type": "code",
      "metadata": {
        "id": "NLV8efKQYCK4"
      },
      "source": [
        "b1, b0, log, mse = gradient_descent(X_train, Y_train , epoch = 2000)"
      ],
      "execution_count": null,
      "outputs": []
    },
    {
      "cell_type": "code",
      "metadata": {
        "id": "VMEBVhbUYP9F",
        "colab": {
          "base_uri": "https://localhost:8080/"
        },
        "outputId": "5151f4ba-34da-40d1-a641-c4e16b623773"
      },
      "source": [
        "mse"
      ],
      "execution_count": null,
      "outputs": [
        {
          "output_type": "execute_result",
          "data": {
            "text/plain": [
              "[2872.7050147639557,\n",
              " 2856.750101852006,\n",
              " 2840.88475562179,\n",
              " 2825.108473269491,\n",
              " 2809.4207548138975,\n",
              " 2793.8211030805637,\n",
              " 2778.3090236860508,\n",
              " 2762.884025022257,\n",
              " 2747.54561824084,\n",
              " 2732.2933172377234,\n",
              " 2717.126638637693,\n",
              " 2702.045101779074,\n",
              " 2687.0482286985,\n",
              " 2672.1355441157675,\n",
              " 2657.306575418768,\n",
              " 2642.5608526485166,\n",
              " 2627.8979084842513,\n",
              " 2613.31727822863,\n",
              " 2598.8184997929948,\n",
              " 2584.4011136827357,\n",
              " 2570.0646629827233,\n",
              " 2555.8086933428303,\n",
              " 2541.6327529635314,\n",
              " 2527.5363925815827,\n",
              " 2513.5191654557907,\n",
              " 2499.580627352846,\n",
              " 2485.7203365332507,\n",
              " 2471.937853737315,\n",
              " 2458.2327421712357,\n",
              " 2444.60456749326,\n",
              " 2431.0528977999106,\n",
              " 2417.577303612307,\n",
              " 2404.177357862548,\n",
              " 2390.8526358801796,\n",
              " 2377.6027153787363,\n",
              " 2364.427176442357,\n",
              " 2351.325601512481,\n",
              " 2338.2975753746077,\n",
              " 2325.342685145144,\n",
              " 2312.460520258316,\n",
              " 2299.6506724531596,\n",
              " 2286.912735760577,\n",
              " 2274.2463064904787,\n",
              " 2261.650983218982,\n",
              " 2249.1263667756944,\n",
              " 2236.6720602310593,\n",
              " 2224.2876688837796,\n",
              " 2211.9728002483075,\n",
              " 2199.727064042406,\n",
              " 2187.5500721747785,\n",
              " 2175.4414387327733,\n",
              " 2163.40077997015,\n",
              " 2151.427714294918,\n",
              " 2139.5218622572447,\n",
              " 2127.6828465374283,\n",
              " 2115.910291933943,\n",
              " 2104.203825351543,\n",
              " 2092.563075789441,\n",
              " 2080.9876743295545,\n",
              " 2069.4772541248058,\n",
              " 2058.031450387504,\n",
              " 2046.6499003777758,\n",
              " 2035.332243392079,\n",
              " 2024.0781207517641,\n",
              " 2012.8871757917084,\n",
              " 2001.7590538490156,\n",
              " 1990.6934022517737,\n",
              " 1979.6898703078762,\n",
              " 1968.7481092939101,\n",
              " 1957.8677724441054,\n",
              " 1947.048514939344,\n",
              " 1936.2899938962305,\n",
              " 1925.5918683562286,\n",
              " 1914.9537992748515,\n",
              " 1904.3754495109201,\n",
              " 1893.8564838158775,\n",
              " 1883.3965688231642,\n",
              " 1872.9953730376524,\n",
              " 1862.652566825141,\n",
              " 1852.3678224019095,\n",
              " 1842.1408138243278,\n",
              " 1831.9712169785278,\n",
              " 1821.858709570134,\n",
              " 1811.802971114043,\n",
              " 1801.8036829242726,\n",
              " 1791.8605281038604,\n",
              " 1781.9731915348189,\n",
              " 1772.141359868152,\n",
              " 1762.3647215139213,\n",
              " 1752.6429666313718,\n",
              " 1742.9757871191146,\n",
              " 1733.3628766053603,\n",
              " 1723.8039304382103,\n",
              " 1714.2986456760023,\n",
              " 1704.8467210777071,\n",
              " 1695.4478570933854,\n",
              " 1686.1017558546919,\n",
              " 1676.808121165436,\n",
              " 1667.5666584921946,\n",
              " 1658.3770749549774,\n",
              " 1649.239079317946,\n",
              " 1640.1523819801837,\n",
              " 1631.116694966517,\n",
              " 1622.1317319183881,\n",
              " 1613.1972080847831,\n",
              " 1604.312840313204,\n",
              " 1595.4783470406976,\n",
              " 1586.6934482849294,\n",
              " 1577.9578656353144,\n",
              " 1569.2713222441894,\n",
              " 1560.6335428180428,\n",
              " 1552.0442536087874,\n",
              " 1543.503182405087,\n",
              " 1535.0100585237265,\n",
              " 1526.5646128010371,\n",
              " 1518.1665775843633,\n",
              " 1509.8156867235807,\n",
              " 1501.511675562663,\n",
              " 1493.2542809312922,\n",
              " 1485.0432411365205,\n",
              " 1476.8782959544742,\n",
              " 1468.7591866221094,\n",
              " 1460.6856558290085,\n",
              " 1452.657447709228,\n",
              " 1444.6743078331885,\n",
              " 1436.7359831996114,\n",
              " 1428.8422222275003,\n",
              " 1420.9927747481688,\n",
              " 1413.1873919973111,\n",
              " 1405.425826607121,\n",
              " 1397.7078325984473,\n",
              " 1390.033165373003,\n",
              " 1382.4015817056106,\n",
              " 1374.812839736496,\n",
              " 1367.2666989636214,\n",
              " 1359.7629202350645,\n",
              " 1352.3012657414388,\n",
              " 1344.8814990083577,\n",
              " 1337.5033848889393,\n",
              " 1330.1666895563549,\n",
              " 1322.871180496418,\n",
              " 1315.6166265002153,\n",
              " 1308.40279765678,\n",
              " 1301.2294653458048,\n",
              " 1294.0964022303972,\n",
              " 1287.0033822498738,\n",
              " 1279.9501806125963,\n",
              " 1272.9365737888481,\n",
              " 1265.9623395037502,\n",
              " 1259.0272567302147,\n",
              " 1252.1311056819432,\n",
              " 1245.2736678064593,\n",
              " 1238.4547257781828,\n",
              " 1231.6740634915427,\n",
              " 1224.9314660541263,\n",
              " 1218.2267197798728,\n",
              " 1211.5596121822969,\n",
              " 1204.929931967757,\n",
              " 1198.3374690287592,\n",
              " 1191.7820144372974,\n",
              " 1185.2633604382324,\n",
              " 1178.7813004427076,\n",
              " 1172.3356290216022,\n",
              " 1165.9261418990209,\n",
              " 1159.5526359458186,\n",
              " 1153.214909173165,\n",
              " 1146.9127607261416,\n",
              " 1140.6459908773754,\n",
              " 1134.4144010207124,\n",
              " 1128.2177936649205,\n",
              " 1122.0559724274312,\n",
              " 1115.9287420281164,\n",
              " 1109.8359082830993,\n",
              " 1103.7772780986004,\n",
              " 1097.7526594648182,\n",
              " 1091.7618614498429,\n",
              " 1085.8046941936077,\n",
              " 1079.8809689018685,\n",
              " 1073.9904978402244,\n",
              " 1068.133094328165,\n",
              " 1062.308572733155,\n",
              " 1056.516748464752,\n",
              " 1050.7574379687564,\n",
              " 1045.0304587213918,\n",
              " 1039.335629223524,\n",
              " 1033.6727689949066,\n",
              " 1028.041698568462,\n",
              " 1022.4422394845933,\n",
              " 1016.8742142855293,\n",
              " 1011.3374465097006,\n",
              " 1005.8317606861453,\n",
              " 1000.3569823289506,\n",
              " 994.9129379317206,\n",
              " 989.4994549620806,\n",
              " 984.116361856205,\n",
              " 978.7634880133844,\n",
              " 973.4406637906156,\n",
              " 968.1477204972276,\n",
              " 962.884490389534,\n",
              " 957.6508066655172,\n",
              " 952.4465034595427,\n",
              " 947.2714158371022,\n",
              " 942.1253797895861,\n",
              " 937.0082322290862,\n",
              " 931.9198109832269,\n",
              " 926.8599547900249,\n",
              " 921.828503292781,\n",
              " 916.8252970349953,\n",
              " 911.8501774553148,\n",
              " 906.9029868825082,\n",
              " 901.98356853047,\n",
              " 897.0917664932492,\n",
              " 892.2274257401114,\n",
              " 887.3903921106227,\n",
              " 882.5805123097664,\n",
              " 877.7976339030826,\n",
              " 873.0416053118395,\n",
              " 868.3122758082284,\n",
              " 863.609495510586,\n",
              " 858.9331153786464,\n",
              " 854.2829872088154,\n",
              " 849.6589636294755,\n",
              " 845.0608980963156,\n",
              " 840.4886448876841,\n",
              " 835.942059099974,\n",
              " 831.420996643028,\n",
              " 826.925314235574,\n",
              " 822.4548694006817,\n",
              " 818.0095204612511,\n",
              " 813.5891265355185,\n",
              " 809.1935475325946,\n",
              " 804.8226441480219,\n",
              " 800.4762778593639,\n",
              " 796.1543109218105,\n",
              " 791.8566063638154,\n",
              " 787.5830279827555,\n",
              " 783.3334403406122,\n",
              " 779.1077087596811,\n",
              " 774.9056993183028,\n",
              " 770.7272788466186,\n",
              " 766.5723149223512,\n",
              " 762.4406758666063,\n",
              " 758.3322307397011,\n",
              " 754.2468493370131,\n",
              " 750.1844021848547,\n",
              " 746.1447605363695,\n",
              " 742.1277963674521,\n",
              " 738.1333823726909,\n",
              " 734.161391961333,\n",
              " 730.2116992532734,\n",
              " 726.2841790750646,\n",
              " 722.3787069559495,\n",
              " 718.4951591239183,\n",
              " 714.6334125017837,\n",
              " 710.7933447032813,\n",
              " 706.9748340291918,\n",
              " 703.1777594634829,\n",
              " 699.4020006694748,\n",
              " 695.6474379860255,\n",
              " 691.9139524237403,\n",
              " 688.2014256611989,\n",
              " 684.5097400412063,\n",
              " 680.8387785670648,\n",
              " 677.1884248988644,\n",
              " 673.5585633497979,\n",
              " 669.9490788824924,\n",
              " 666.3598571053654,\n",
              " 662.7907842689984,\n",
              " 659.241747262532,\n",
              " 655.7126336100818,\n",
              " 652.2033314671733,\n",
              " 648.7137296171974,\n",
              " 645.2437174678862,\n",
              " 641.7931850478071,\n",
              " 638.3620230028794,\n",
              " 634.9501225929055,\n",
              " 631.5573756881291,\n",
              " 628.1836747658037,\n",
              " 624.828912906789,\n",
              " 621.4929837921595,\n",
              " 618.1757816998366,\n",
              " 614.8772015012381,\n",
              " 611.5971386579456,\n",
              " 608.3354892183917,\n",
              " 605.0921498145663,\n",
              " 601.8670176587397,\n",
              " 598.659990540206,\n",
              " 595.4709668220424,\n",
              " 592.2998454378907,\n",
              " 589.1465258887511,\n",
              " 586.0109082397992,\n",
              " 582.8928931172193,\n",
              " 579.7923817050533,\n",
              " 576.7092757420702,\n",
              " 573.6434775186511,\n",
              " 570.5948898736948,\n",
              " 567.5634161915353,\n",
              " 564.5489603988825,\n",
              " 561.5514269617767,\n",
              " 558.5707208825597,\n",
              " 555.6067476968663,\n",
              " 552.6594134706286,\n",
              " 549.7286247971003,\n",
              " 546.8142887938963,\n",
              " 543.9163131000485,\n",
              " 541.0346058730784,\n",
              " 538.1690757860881,\n",
              " 535.3196320248645,\n",
              " 532.4861842850012,\n",
              " 529.6686427690378,\n",
              " 526.8669181836125,\n",
              " 524.0809217366333,\n",
              " 521.310565134464,\n",
              " 518.5557605791248,\n",
              " 515.8164207655121,\n",
              " 513.0924588786286,\n",
              " 510.3837885908347,\n",
              " 507.69032405911076,\n",
              " 505.0119799223383,\n",
              " 502.3486712985923,\n",
              " 499.70031378245403,\n",
              " 497.06682344233366,\n",
              " 494.44811681781147,\n",
              " 491.84411091699303,\n",
              " 489.2547232138776,\n",
              " 486.67987164574487,\n",
              " 484.1194746105524,\n",
              " 481.5734509643502,\n",
              " 479.04172001870995,\n",
              " 476.5242015381656,\n",
              " 474.02081573767236,\n",
              " 471.5314832800788,\n",
              " 469.0561252736097,\n",
              " 466.5946632693687,\n",
              " 464.1470192588507,\n",
              " 461.71311567146984,\n",
              " 459.29287537210104,\n",
              " 456.8862216586355,\n",
              " 454.49307825955003,\n",
              " 452.11336933148976,\n",
              " 449.7470194568644,\n",
              " 447.3939536414579,\n",
              " 445.05409731205344,\n",
              " 442.72737631406625,\n",
              " 440.4137169091978,\n",
              " 438.1130457730963,\n",
              " 435.8252899930341,\n",
              " 433.5503770655955,\n",
              " 431.2882348943808,\n",
              " 429.0387917877204,\n",
              " 426.80197645640254,\n",
              " 424.5777180114148,\n",
              " 422.36594596169635,\n",
              " 420.1665902119056,\n",
              " 417.9795810601971,\n",
              " 415.8048491960134,\n",
              " 413.64232569788857,\n",
              " 411.4919420312631,\n",
              " 409.35363004631324,\n",
              " 407.2273219757898,\n",
              " 405.11295043287186,\n",
              " 403.0104484090294,\n",
              " 400.9197492719013,\n",
              " 398.84078676318336,\n",
              " 396.7734949965273,\n",
              " 394.7178084554538,\n",
              " 392.6736619912761,\n",
              " 390.6409908210349,\n",
              " 388.6197305254451,\n",
              " 386.60981704685497,\n",
              " 384.6111866872154,\n",
              " 382.62377610606137,\n",
              " 380.64752231850474,\n",
              " 378.6823626932377,\n",
              " 376.72823495054854,\n",
              " 374.7850771603472,\n",
              " 372.85282774020294,\n",
              " 370.9314254533923,\n",
              " 369.0208094069597,\n",
              " 367.12091904978547,\n",
              " 365.2316941706684,\n",
              " 363.3530748964175,\n",
              " 361.48500168995383,\n",
              " 359.6274153484238,\n",
              " 357.7802570013235,\n",
              " 355.94346810863226,\n",
              " 354.11699045895773,\n",
              " 352.3007661676911,\n",
              " 350.4947376751726,\n",
              " 348.69884774486707,\n",
              " 346.9130394615505,\n",
              " 345.13725622950585,\n",
              " 343.3714417707293,\n",
              " 341.61554012314747,\n",
              " 339.869495638843,\n",
              " 338.1332529822914,\n",
              " 336.40675712860747,\n",
              " 334.68995336180086,\n",
              " 332.98278727304245,\n",
              " 331.28520475894067,\n",
              " 329.59715201982533,\n",
              " 327.91857555804387,\n",
              " 326.2494221762657,\n",
              " 324.5896389757953,\n",
              " 322.93917335489726,\n",
              " 321.2979730071283,\n",
              " 319.66598591967966,\n",
              " 318.04316037172896,\n",
              " 316.42944493280083,\n",
              " 314.824788461137,\n",
              " 313.2291401020758,\n",
              " 311.6424492864401,\n",
              " 310.0646657289348,\n",
              " 308.49573942655354,\n",
              " 306.9356206569934,\n",
              " 305.3842599770796,\n",
              " 303.84160822119827,\n",
              " 302.3076164997382,\n",
              " 300.7822361975417,\n",
              " 299.2654189723642,\n",
              " 297.75711675334117,\n",
              " 296.25728173946584,\n",
              " 294.7658663980732,\n",
              " 293.2828234633347,\n",
              " 291.8081059347593,\n",
              " 290.3416670757043,\n",
              " 288.8834604118948,\n",
              " 287.43343972994967,\n",
              " 285.9915590759179,\n",
              " 284.5577727538217,\n",
              " 283.1320353242087,\n",
              " 281.71430160271154,\n",
              " 280.3045266586158,\n",
              " 278.90266581343667,\n",
              " 277.50867463950254,\n",
              " 276.1225089585472,\n",
              " 274.74412484030915,\n",
              " 273.37347860114005,\n",
              " 272.0105268026204,\n",
              " 270.655226250182,\n",
              " 269.3075339917403,\n",
              " 267.96740731633184,\n",
              " 266.63480375276157,\n",
              " 265.3096810682565,\n",
              " 263.9919972671276,\n",
              " 262.6817105894381,\n",
              " 261.37877950968084,\n",
              " 260.0831627354622,\n",
              " 258.79481920619264,\n",
              " 257.5137080917865,\n",
              " 256.2397887913671,\n",
              " 254.97302093198059,\n",
              " 253.71336436731622,\n",
              " 252.4607791764344,\n",
              " 251.21522566250079,\n",
              " 249.97666435152874,\n",
              " 248.74505599112825,\n",
              " 247.52036154926185,\n",
              " 246.3025422130078,\n",
              " 245.09155938733005,\n",
              " 243.8873746938544,\n",
              " 242.68994996965324,\n",
              " 241.49924726603558,\n",
              " 240.31522884734417,\n",
              " 239.1378571897598,\n",
              " 237.96709498011273,\n",
              " 236.80290511469858,\n",
              " 235.64525069810423,\n",
              " 234.4940950420371,\n",
              " 233.34940166416374,\n",
              " 232.21113428695253,\n",
              " 231.07925683652402,\n",
              " 229.9537334415089,\n",
              " 228.83452843190952,\n",
              " 227.7216063379705,\n",
              " 226.61493188905462,\n",
              " 225.51447001252444,\n",
              " 224.4201858326312,\n",
              " 223.3320446694093,\n",
              " 222.25001203757728,\n",
              " 221.1740536454456,\n",
              " 220.10413539382844,\n",
              " 219.0402233749644,\n",
              " 217.98228387144104,\n",
              " 216.93028335512673,\n",
              " 215.884188486108,\n",
              " 214.84396611163302,\n",
              " 213.8095832650606,\n",
              " 212.7810071648155,\n",
              " 211.75820521334987,\n",
              " 210.74114499610982,\n",
              " 209.72979428050834,\n",
              " 208.7241210149037,\n",
              " 207.72409332758335,\n",
              " 206.7296795257546,\n",
              " 205.74084809453953,\n",
              " 204.75756769597652,\n",
              " 203.77980716802702,\n",
              " 202.807535523588,\n",
              " 201.84072194950983,\n",
              " 200.8793358056198,\n",
              " 199.92334662375112,\n",
              " 198.97272410677743,\n",
              " 198.02743812765223,\n",
              " 197.08745872845446,\n",
              " 196.15275611943903,\n",
              " 195.22330067809222,\n",
              " 194.2990629481941,\n",
              " 193.38001363888344,\n",
              " 192.4661236237308,\n",
              " 191.55736393981445,\n",
              " 190.65370578680307,\n",
              " 189.75512052604284,\n",
              " 188.86157967964996,\n",
              " 187.9730549296076,\n",
              " 187.08951811686921,\n",
              " 186.21094124046536,\n",
              " 185.33729645661714,\n",
              " 184.46855607785304,\n",
              " 183.60469257213168,\n",
              " 182.7456785619695,\n",
              " 181.891486823573,\n",
              " 181.04209028597546,\n",
              " 180.19746203018022,\n",
              " 179.35757528830587,\n",
              " 178.5224034427396,\n",
              " 177.69192002529255,\n",
              " 176.86609871636148,\n",
              " 176.04491334409408,\n",
              " 175.22833788356056,\n",
              " 174.41634645592782,\n",
              " 173.60891332763987,\n",
              " 172.806012909602,\n",
              " 172.00761975637027,\n",
              " 171.21370856534435,\n",
              " 170.4242541759666,\n",
              " 169.6392315689235,\n",
              " 168.8586158653539,\n",
              " 168.08238232605987,\n",
              " 167.31050635072262,\n",
              " 166.54296347712358,\n",
              " 165.77972938036802,\n",
              " 165.02077987211536,\n",
              " 164.2660908998117,\n",
              " 163.51563854592786,\n",
              " 162.76939902720147,\n",
              " 162.02734869388317,\n",
              " 161.28946402898697,\n",
              " 160.55572164754506,\n",
              " 159.8260982958668,\n",
              " 159.10057085080166,\n",
              " 158.3791163190064,\n",
              " 157.66171183621623,\n",
              " 156.94833466652028,\n",
              " 156.23896220164156,\n",
              " 155.53357196021952,\n",
              " 154.83214158709825,\n",
              " 154.1346488526178,\n",
              " 153.4410716519098,\n",
              " 152.75138800419666,\n",
              " 152.065576052095,\n",
              " 151.38361406092338,\n",
              " 150.7054804180129,\n",
              " 150.0311536320224,\n",
              " 149.36061233225786,\n",
              " 148.6938352679944,\n",
              " 148.0308013078032,\n",
              " 147.37148943888167,\n",
              " 146.7158787663878,\n",
              " 146.06394851277747,\n",
              " 145.41567801714626,\n",
              " 144.77104673457487,\n",
              " 144.13003423547758,\n",
              " 143.49262020495505,\n",
              " 142.85878444215038,\n",
              " 142.22850685960913,\n",
              " 141.6017674826424,\n",
              " 140.978546448694,\n",
              " 140.35882400671102,\n",
              " 139.74258051651753,\n",
              " 139.12979644819265,\n",
              " 138.5204523814509,\n",
              " 137.91452900502776,\n",
              " 137.31200711606692,\n",
              " 136.71286761951154,\n",
              " 136.11709152749978,\n",
              " 135.52465995876236,\n",
              " 134.93555413802474,\n",
              " 134.34975539541173,\n",
              " 133.76724516585594,\n",
              " 133.18800498850928,\n",
              " 132.6120165061581,\n",
              " 132.03926146464144,\n",
              " 131.4697217122722,\n",
              " 130.90337919926225,\n",
              " 130.34021597714997,\n",
              " 129.78021419823204,\n",
              " 129.22335611499724,\n",
              " 128.66962407956416,\n",
              " 128.11900054312218,\n",
              " 127.57146805537491,\n",
              " 127.0270092639875,\n",
              " 126.48560691403623,\n",
              " 125.94724384746235,\n",
              " 125.41190300252781,\n",
              " 124.87956741327473,\n",
              " 124.35022020898745,\n",
              " 123.82384461365818,\n",
              " 123.30042394545555,\n",
              " 122.77994161619506,\n",
              " 122.26238113081429,\n",
              " 121.74772608684967,\n",
              " 121.23596017391658,\n",
              " 120.72706717319288,\n",
              " 120.22103095690473,\n",
              " 119.71783548781494,\n",
              " 119.21746481871546,\n",
              " 118.71990309192154,\n",
              " 118.2251345387695,\n",
              " 117.73314347911655,\n",
              " 117.24391432084431,\n",
              " 116.75743155936422,\n",
              " 116.27367977712683,\n",
              " 115.79264364313228,\n",
              " 115.31430791244523,\n",
              " 114.83865742571118,\n",
              " 114.36567710867644,\n",
              " 113.8953519717101,\n",
              " 113.42766710932945,\n",
              " 112.96260769972653,\n",
              " 112.50015900429985,\n",
              " 112.04030636718605,\n",
              " 111.58303521479615,\n",
              " 111.12833105535341,\n",
              " 110.67617947843421,\n",
              " 110.22656615451129,\n",
              " 109.77947683449945,\n",
              " 109.3348973493041,\n",
              " 108.89281360937237,\n",
              " 108.45321160424628,\n",
              " 108.01607740211912,\n",
              " 107.58139714939325,\n",
              " 107.149157070242,\n",
              " 106.71934346617225,\n",
              " 106.2919427155907,\n",
              " 105.86694127337196,\n",
              " 105.44432567042979,\n",
              " 105.02408251328957,\n",
              " 104.60619848366403,\n",
              " 104.19066033803145,\n",
              " 103.77745490721604,\n",
              " 103.36656909596964,\n",
              " 102.95798988255778,\n",
              " 102.55170431834651,\n",
              " 102.14769952739225,\n",
              " 101.74596270603341,\n",
              " 101.34648112248479,\n",
              " 100.94924211643425,\n",
              " 100.55423309864115,\n",
              " 100.16144155053766,\n",
              " 99.77085502383166,\n",
              " 99.38246114011284,\n",
              " 98.99624759045972,\n",
              " 98.61220213505003,\n",
              " 98.23031260277254,\n",
              " 97.85056689084166,\n",
              " 97.47295296441345,\n",
              " 97.09745885620437,\n",
              " 96.72407266611222,\n",
              " 96.3527825608389,\n",
              " 95.98357677351514,\n",
              " 95.61644360332791,\n",
              " 95.25137141514936,\n",
              " 94.88834863916854,\n",
              " 94.52736377052386,\n",
              " 94.16840536893939,\n",
              " 93.81146205836163,\n",
              " 93.45652252659937,\n",
              " 93.10357552496524,\n",
              " 92.75260986791884,\n",
              " 92.40361443271254,\n",
              " 92.05657815903876,\n",
              " 91.71149004867972,\n",
              " 91.36833916515879,\n",
              " 91.02711463339367,\n",
              " 90.68780563935194,\n",
              " 90.35040142970857,\n",
              " 90.01489131150456,\n",
              " 89.68126465180849,\n",
              " 89.3495108773795,\n",
              " 89.01961947433213,\n",
              " 88.69157998780285,\n",
              " 88.36538202161931,\n",
              " 88.04101523797041,\n",
              " 87.71846935707866,\n",
              " 87.39773415687476,\n",
              " 87.0787994726734,\n",
              " 86.761655196851,\n",
              " 86.44629127852563,\n",
              " 86.13269772323841,\n",
              " 85.8208645926365,\n",
              " 85.51078200415876,\n",
              " 85.20244013072167,\n",
              " 84.89582920040885,\n",
              " 84.59093949616069,\n",
              " 84.28776135546619,\n",
              " 83.98628517005784,\n",
              " 83.68650138560612,\n",
              " 83.38840050141694,\n",
              " 83.09197307013065,\n",
              " 82.79720969742255,\n",
              " 82.50410104170533,\n",
              " 82.21263781383286,\n",
              " 81.92281077680585,\n",
              " 81.63461074547905,\n",
              " 81.34802858627009,\n",
              " 81.06305521687031,\n",
              " 80.77968160595677,\n",
              " 80.49789877290597,\n",
              " 80.21769778750905,\n",
              " 79.9390697696892,\n",
              " 79.66200588922013,\n",
              " 79.38649736544586,\n",
              " 79.11253546700286,\n",
              " 78.8401115115432,\n",
              " 78.56921686545928,\n",
              " 78.29984294361033,\n",
              " 78.03198120905036,\n",
              " 77.76562317275753,\n",
              " 77.50076039336514,\n",
              " 77.23738447689406,\n",
              " 76.9754870764868,\n",
              " 76.71505989214288,\n",
              " 76.45609467045588,\n",
              " 76.19858320435183,\n",
              " 75.94251733282917,\n",
              " 75.68788894069992,\n",
              " 75.43468995833281,\n",
              " 75.18291236139729,\n",
              " 74.93254817060928,\n",
              " 74.68358945147824,\n",
              " 74.43602831405579,\n",
              " 74.18985691268583,\n",
              " 73.94506744575537,\n",
              " 73.70165215544797,\n",
              " 73.45960332749738,\n",
              " 73.21891329094322,\n",
              " 72.979574417888,\n",
              " 72.74157912325494,\n",
              " 72.50491986454806,\n",
              " 72.26958914161312,\n",
              " 72.03557949639948,\n",
              " 71.80288351272424,\n",
              " 71.57149381603685,\n",
              " 71.3414030731859,\n",
              " 71.11260399218591,\n",
              " 70.88508932198701,\n",
              " 70.65885185224457,\n",
              " 70.43388441309105,\n",
              " 70.21017987490886,\n",
              " 69.98773114810393,\n",
              " 69.76653118288151,\n",
              " 69.54657296902225,\n",
              " 69.3278495356607,\n",
              " 69.11035395106386,\n",
              " 68.89407932241159,\n",
              " 68.67901879557822,\n",
              " 68.46516555491544,\n",
              " 68.25251282303626,\n",
              " 68.0410538606,\n",
              " 67.8307819660989,\n",
              " 67.62169047564572,\n",
              " 67.41377276276255,\n",
              " 67.20702223817077,\n",
              " 67.00143234958236,\n",
              " 66.79699658149195,\n",
              " 66.59370845497055,\n",
              " 66.39156152746027,\n",
              " 66.19054939256992,\n",
              " 65.99066567987215,\n",
              " 65.79190405470158,\n",
              " 65.59425821795385,\n",
              " 65.39772190588623,\n",
              " 65.20228888991889,\n",
              " 65.0079529764377,\n",
              " 64.81470800659795,\n",
              " 64.62254785612883,\n",
              " 64.4314664351397,\n",
              " 64.241457687927,\n",
              " 64.0525155927822,\n",
              " 63.86463416180122,\n",
              " 63.67780744069427,\n",
              " 63.49202950859755,\n",
              " 63.30729447788533,\n",
              " 63.1235964939837,\n",
              " 62.940929735184454,\n",
              " 62.75928841246109,\n",
              " 62.57866676928529,\n",
              " 62.39905908144412,\n",
              " 62.22045965685911,\n",
              " 62.04286283540542,\n",
              " 61.866262988732856,\n",
              " 61.690654520087186,\n",
              " 61.51603186413284,\n",
              " 61.34238948677678,\n",
              " 61.16972188499276,\n",
              " 60.99802358664702,\n",
              " 60.827289150325065,\n",
              " 60.65751316515908,\n",
              " 60.48869025065623,\n",
              " 60.32081505652862,\n",
              " 60.15388226252327,\n",
              " 59.98788657825378,\n",
              " 59.82282274303255,\n",
              " 59.65868552570423,\n",
              " 59.49546972447956,\n",
              " 59.333170166771005,\n",
              " 59.17178170902846,\n",
              " 59.01129923657635,\n",
              " 58.85171766345152,\n",
              " 58.693031932242285,\n",
              " 58.535237013927585,\n",
              " 58.37832790771828,\n",
              " 58.222299640898086,\n",
              " 58.06714726866649,\n",
              " 57.912865873981694,\n",
              " 57.75945056740481,\n",
              " 57.60689648694502,\n",
              " 57.455198797905425,\n",
              " 57.304352692729935,\n",
              " 57.154353390850716,\n",
              " 57.00519613853688,\n",
              " 56.85687620874362,\n",
              " 56.70938890096259,\n",
              " 56.56272954107286,\n",
              " 56.41689348119279,\n",
              " 56.27187609953264,\n",
              " 56.1276728002484,\n",
              " 55.98427901329556,\n",
              " 55.84169019428506,\n",
              " 55.69990182433853,\n",
              " 55.55890940994561,\n",
              " 55.41870848282107,\n",
              " 55.27929459976367,\n",
              " 55.14066334251508,\n",
              " 55.00281031761996,\n",
              " 54.865731156286564,\n",
              " 54.72942151424851,\n",
              " 54.59387707162684,\n",
              " 54.4590935327934,\n",
              " 54.32506662623457,\n",
              " 54.191792104415754,\n",
              " 54.05926574364694,\n",
              " 53.92748334394895,\n",
              " 53.79644072892002,\n",
              " 53.666133745603574,\n",
              " 53.53655826435697,\n",
              " 53.407710178719775,\n",
              " 53.279585405284635,\n",
              " 53.15217988356702,\n",
              " 53.02548957587707,\n",
              " 52.899510467191405,\n",
              " 52.77423856502607,\n",
              " 52.649669899309586,\n",
              " 52.52580052225774,\n",
              " 52.40262650824782,\n",
              " 52.28014395369472,\n",
              " 52.15834897692706,\n",
              " 52.037237718063935,\n",
              " 51.91680633889306,\n",
              " 51.797051022748654,\n",
              " 51.67796797439091,\n",
              " 51.55955341988524,\n",
              " 51.441803606483134,\n",
              " 51.324714802503024,\n",
              " 51.208283297211835,\n",
              " 51.09250540070776,\n",
              " 50.977377443803135,\n",
              " 50.86289577790804,\n",
              " 50.74905677491476,\n",
              " 50.63585682708299,\n",
              " 50.52329234692514,\n",
              " 50.41135976709294,\n",
              " 50.30005554026431,\n",
              " 50.189376139030834,\n",
              " 50.079318055786004,\n",
              " 49.96987780261422,\n",
              " 49.861051911180006,\n",
              " 49.752836932618266,\n",
              " 49.64522943742491,\n",
              " 49.538226015348215,\n",
              " 49.43182327528066,\n",
              " 49.32601784515153,\n",
              " 49.2208063718201,\n",
              " 49.116185520969175,\n",
              " 49.01215197699968,\n",
              " 48.908702442925204,\n",
              " 48.80583364026806,\n",
              " 48.70354230895482,\n",
              " 48.601825207213444,\n",
              " 48.50067911147022,\n",
              " 48.400100816247786,\n",
              " 48.300087134063446,\n",
              " 48.200634895328236,\n",
              " 48.10174094824648,\n",
              " 48.003402158715645,\n",
              " 47.90561541022751,\n",
              " 47.808377603768896,\n",
              " 47.71168565772378,\n",
              " 47.615536507775474,\n",
              " 47.51992710680954,\n",
              " 47.424854424817354,\n",
              " 47.33031544879988,\n",
              " 47.23630718267225,\n",
              " 47.14282664716885,\n",
              " 47.04987087974887,\n",
              " 46.95743693450242,\n",
              " 46.86552188205719,\n",
              " 46.77412280948565,\n",
              " 46.6832368202126,\n",
              " 46.592861033923455,\n",
              " 46.50299258647305,\n",
              " 46.41362862979468,\n",
              " 46.32476633180994,\n",
              " 46.23640287633903,\n",
              " 46.14853546301144,\n",
              " 46.06116130717713,\n",
              " 45.97427763981844,\n",
              " 45.88788170746219,\n",
              " 45.80197077209246,\n",
              " 45.71654211106393,\n",
              " 45.63159301701541,\n",
              " 45.54712079778417,\n",
              " 45.46312277632048,\n",
              " 45.37959629060295,\n",
              " 45.29653869355414,\n",
              " 45.213947352956424,\n",
              " 45.1318196513689,\n",
              " 45.05015298604427,\n",
              " 44.968944768846356,\n",
              " 44.88819242616804,\n",
              " 44.80789339884989,\n",
              " 44.7280451420988,\n",
              " 44.64864512540755,\n",
              " 44.56969083247445,\n",
              " 44.49117976112377,\n",
              " 44.41310942322624,\n",
              " 44.33547734462028,\n",
              " 44.258281065033614,\n",
              " 44.18151813800538,\n",
              " 44.10518613080849,\n",
              " 44.02928262437244,\n",
              " 43.953805213206834,\n",
              " 43.87875150532494,\n",
              " 43.80411912216828,\n",
              " 43.729905698530764,\n",
              " 43.65610888248391,\n",
              " 43.58272633530254,\n",
              " 43.50975573139034,\n",
              " 43.437194758206225,\n",
              " 43.36504111619127,\n",
              " 43.293292518695516,\n",
              " 43.2219466919058,\n",
              " 43.15100137477343,\n",
              " 43.08045431894269,\n",
              " 43.01030328867952,\n",
              " 42.94054606080077,\n",
              " 42.871180424603544,\n",
              " 42.80220418179529,\n",
              " 42.7336151464241,\n",
              " 42.665411144809454,\n",
              " 42.59759001547328,\n",
              " 42.53014960907142,\n",
              " 42.46308778832571,\n",
              " 42.39640242795598,\n",
              " 42.33009141461279,\n",
              " 42.26415264681062,\n",
              " 42.1985840348611,\n",
              " 42.133383500806694,\n",
              " 42.06854897835519,\n",
              " 42.00407841281384,\n",
              " 41.93996976102444,\n",
              " 41.87622099129855,\n",
              " 41.8128300833531,\n",
              " 41.74979502824632,\n",
              " 41.68711382831416,\n",
              " 41.624784497106894,\n",
              " 41.562805059326315,\n",
              " 41.501173550762815,\n",
              " 41.439888018233546,\n",
              " 41.37894651952011,\n",
              " 41.318347123307355,\n",
              " 41.25808790912204,\n",
              " 41.198166967271945,\n",
              " 41.13858239878527,\n",
              " 41.0793323153506,\n",
              " 41.02041483925697,\n",
              " 40.96182810333449,\n",
              " 40.90357025089495,\n",
              " 40.84563943567321,\n",
              " ...]"
            ]
          },
          "metadata": {},
          "execution_count": 23
        }
      ]
    },
    {
      "cell_type": "code",
      "metadata": {
        "id": "CgTnAyt0YRHn",
        "colab": {
          "base_uri": "https://localhost:8080/",
          "height": 646
        },
        "outputId": "3ecc76fa-0eb8-4ef9-b7da-75decfc30b1c"
      },
      "source": [
        "y_pred = b0 + b1 * X\n",
        "fig = go.Figure()\n",
        "\n",
        "fig.add_trace(go.Scatter(x=X, y=Y, name='train', mode='markers', marker_color='rgba(152, 0, 0, .8)'))\n",
        "fig.add_trace(go.Scatter(x=X, y=y_pred, name='prediction', mode='lines+markers', marker_color='rgba(0, 152, 0, .8)'))\n",
        "\n",
        "fig.update_layout(title = f'Obtained Score Percentage vs Hours-Studied\\n (visual comparison for correctness after Train-Test Split)',title_x=0.5, xaxis_title= \"Number of Hours Studied\", yaxis_title=\"Obtained Percentage Score\")\n",
        "fig.update_xaxes(showline=True, linewidth=2, linecolor='black', mirror=True)\n",
        "fig.update_yaxes(showline=True, linewidth=2, linecolor='black', mirror=True)\n",
        "fig.show()\n",
        "\n",
        "y_pred = b0 + b1 * X_test\n",
        "print(f'\\n\\nY_Test: {Y_test}')\n",
        "print(f'\\n\\nY_Pred: {y_pred}')"
      ],
      "execution_count": null,
      "outputs": [
        {
          "output_type": "display_data",
          "data": {
            "text/html": [
              "<html>\n",
              "<head><meta charset=\"utf-8\" /></head>\n",
              "<body>\n",
              "    <div>\n",
              "            <script src=\"https://cdnjs.cloudflare.com/ajax/libs/mathjax/2.7.5/MathJax.js?config=TeX-AMS-MML_SVG\"></script><script type=\"text/javascript\">if (window.MathJax) {MathJax.Hub.Config({SVG: {font: \"STIX-Web\"}});}</script>\n",
              "                <script type=\"text/javascript\">window.PlotlyConfig = {MathJaxConfig: 'local'};</script>\n",
              "        <script src=\"https://cdn.plot.ly/plotly-latest.min.js\"></script>    \n",
              "            <div id=\"eabf96c0-16ba-40ee-91ed-e7889ab78867\" class=\"plotly-graph-div\" style=\"height:525px; width:100%;\"></div>\n",
              "            <script type=\"text/javascript\">\n",
              "                \n",
              "                    window.PLOTLYENV=window.PLOTLYENV || {};\n",
              "                    \n",
              "                if (document.getElementById(\"eabf96c0-16ba-40ee-91ed-e7889ab78867\")) {\n",
              "                    Plotly.newPlot(\n",
              "                        'eabf96c0-16ba-40ee-91ed-e7889ab78867',\n",
              "                        [{\"marker\": {\"color\": \"rgba(152, 0, 0, .8)\"}, \"mode\": \"markers\", \"name\": \"train\", \"type\": \"scatter\", \"x\": [2.5, 5.1, 3.2, 8.5, 3.5, 1.5, 9.2, 5.5, 8.3, 2.7, 7.7, 5.9, 4.5, 3.3, 1.1, 8.9, 2.5, 1.9, 6.1, 7.4, 2.7, 4.8, 3.8, 6.9, 7.8], \"y\": [21, 47, 27, 75, 30, 20, 88, 60, 81, 25, 85, 62, 41, 42, 17, 95, 30, 24, 67, 69, 30, 54, 35, 76, 86]}, {\"marker\": {\"color\": \"rgba(0, 152, 0, .8)\"}, \"mode\": \"lines+markers\", \"name\": \"prediction\", \"type\": \"scatter\", \"x\": [2.5, 5.1, 3.2, 8.5, 3.5, 1.5, 9.2, 5.5, 8.3, 2.7, 7.7, 5.9, 4.5, 3.3, 1.1, 8.9, 2.5, 1.9, 6.1, 7.4, 2.7, 4.8, 3.8, 6.9, 7.8], \"y\": [26.472260059332182, 52.207526301416635, 33.400985586047234, 85.861336002604, 36.37043938321082, 16.574080735453546, 92.79006152931903, 56.166798030968096, 83.88170013782828, 28.451895924107912, 77.94279254350108, 60.126069760519556, 46.26861870708946, 34.39080351843509, 12.614809005902094, 89.82060773215545, 26.472260059332182, 20.533352465005, 62.10570562529527, 74.9733387463375, 28.451895924107912, 49.23807250425305, 39.33989318037441, 70.02424908439818, 78.93261047588895]}],\n",
              "                        {\"template\": {\"data\": {\"bar\": [{\"error_x\": {\"color\": \"#2a3f5f\"}, \"error_y\": {\"color\": \"#2a3f5f\"}, \"marker\": {\"line\": {\"color\": \"#E5ECF6\", \"width\": 0.5}}, \"type\": \"bar\"}], \"barpolar\": [{\"marker\": {\"line\": {\"color\": \"#E5ECF6\", \"width\": 0.5}}, \"type\": \"barpolar\"}], \"carpet\": [{\"aaxis\": {\"endlinecolor\": \"#2a3f5f\", \"gridcolor\": \"white\", \"linecolor\": \"white\", \"minorgridcolor\": \"white\", \"startlinecolor\": \"#2a3f5f\"}, \"baxis\": {\"endlinecolor\": \"#2a3f5f\", \"gridcolor\": \"white\", \"linecolor\": \"white\", \"minorgridcolor\": \"white\", \"startlinecolor\": \"#2a3f5f\"}, \"type\": \"carpet\"}], \"choropleth\": [{\"colorbar\": {\"outlinewidth\": 0, \"ticks\": \"\"}, \"type\": \"choropleth\"}], \"contour\": [{\"colorbar\": {\"outlinewidth\": 0, \"ticks\": \"\"}, \"colorscale\": [[0.0, \"#0d0887\"], [0.1111111111111111, \"#46039f\"], [0.2222222222222222, \"#7201a8\"], [0.3333333333333333, \"#9c179e\"], [0.4444444444444444, \"#bd3786\"], [0.5555555555555556, \"#d8576b\"], [0.6666666666666666, \"#ed7953\"], [0.7777777777777778, \"#fb9f3a\"], [0.8888888888888888, \"#fdca26\"], [1.0, \"#f0f921\"]], \"type\": \"contour\"}], \"contourcarpet\": [{\"colorbar\": {\"outlinewidth\": 0, \"ticks\": \"\"}, \"type\": \"contourcarpet\"}], \"heatmap\": [{\"colorbar\": {\"outlinewidth\": 0, \"ticks\": \"\"}, \"colorscale\": [[0.0, \"#0d0887\"], [0.1111111111111111, \"#46039f\"], [0.2222222222222222, \"#7201a8\"], [0.3333333333333333, \"#9c179e\"], [0.4444444444444444, \"#bd3786\"], [0.5555555555555556, \"#d8576b\"], [0.6666666666666666, \"#ed7953\"], [0.7777777777777778, \"#fb9f3a\"], [0.8888888888888888, \"#fdca26\"], [1.0, \"#f0f921\"]], \"type\": \"heatmap\"}], \"heatmapgl\": [{\"colorbar\": {\"outlinewidth\": 0, \"ticks\": \"\"}, \"colorscale\": [[0.0, \"#0d0887\"], [0.1111111111111111, \"#46039f\"], [0.2222222222222222, \"#7201a8\"], [0.3333333333333333, \"#9c179e\"], [0.4444444444444444, \"#bd3786\"], [0.5555555555555556, \"#d8576b\"], [0.6666666666666666, \"#ed7953\"], [0.7777777777777778, \"#fb9f3a\"], [0.8888888888888888, \"#fdca26\"], [1.0, \"#f0f921\"]], \"type\": \"heatmapgl\"}], \"histogram\": [{\"marker\": {\"colorbar\": {\"outlinewidth\": 0, \"ticks\": \"\"}}, \"type\": \"histogram\"}], \"histogram2d\": [{\"colorbar\": {\"outlinewidth\": 0, \"ticks\": \"\"}, \"colorscale\": [[0.0, \"#0d0887\"], [0.1111111111111111, \"#46039f\"], [0.2222222222222222, \"#7201a8\"], [0.3333333333333333, \"#9c179e\"], [0.4444444444444444, \"#bd3786\"], [0.5555555555555556, \"#d8576b\"], [0.6666666666666666, \"#ed7953\"], [0.7777777777777778, \"#fb9f3a\"], [0.8888888888888888, \"#fdca26\"], [1.0, \"#f0f921\"]], \"type\": \"histogram2d\"}], \"histogram2dcontour\": [{\"colorbar\": {\"outlinewidth\": 0, \"ticks\": \"\"}, \"colorscale\": [[0.0, \"#0d0887\"], [0.1111111111111111, \"#46039f\"], [0.2222222222222222, \"#7201a8\"], [0.3333333333333333, \"#9c179e\"], [0.4444444444444444, \"#bd3786\"], [0.5555555555555556, \"#d8576b\"], [0.6666666666666666, \"#ed7953\"], [0.7777777777777778, \"#fb9f3a\"], [0.8888888888888888, \"#fdca26\"], [1.0, \"#f0f921\"]], \"type\": \"histogram2dcontour\"}], \"mesh3d\": [{\"colorbar\": {\"outlinewidth\": 0, \"ticks\": \"\"}, \"type\": \"mesh3d\"}], \"parcoords\": [{\"line\": {\"colorbar\": {\"outlinewidth\": 0, \"ticks\": \"\"}}, \"type\": \"parcoords\"}], \"pie\": [{\"automargin\": true, \"type\": \"pie\"}], \"scatter\": [{\"marker\": {\"colorbar\": {\"outlinewidth\": 0, \"ticks\": \"\"}}, \"type\": \"scatter\"}], \"scatter3d\": [{\"line\": {\"colorbar\": {\"outlinewidth\": 0, \"ticks\": \"\"}}, \"marker\": {\"colorbar\": {\"outlinewidth\": 0, \"ticks\": \"\"}}, \"type\": \"scatter3d\"}], \"scattercarpet\": [{\"marker\": {\"colorbar\": {\"outlinewidth\": 0, \"ticks\": \"\"}}, \"type\": \"scattercarpet\"}], \"scattergeo\": [{\"marker\": {\"colorbar\": {\"outlinewidth\": 0, \"ticks\": \"\"}}, \"type\": \"scattergeo\"}], \"scattergl\": [{\"marker\": {\"colorbar\": {\"outlinewidth\": 0, \"ticks\": \"\"}}, \"type\": \"scattergl\"}], \"scattermapbox\": [{\"marker\": {\"colorbar\": {\"outlinewidth\": 0, \"ticks\": \"\"}}, \"type\": \"scattermapbox\"}], \"scatterpolar\": [{\"marker\": {\"colorbar\": {\"outlinewidth\": 0, \"ticks\": \"\"}}, \"type\": \"scatterpolar\"}], \"scatterpolargl\": [{\"marker\": {\"colorbar\": {\"outlinewidth\": 0, \"ticks\": \"\"}}, \"type\": \"scatterpolargl\"}], \"scatterternary\": [{\"marker\": {\"colorbar\": {\"outlinewidth\": 0, \"ticks\": \"\"}}, \"type\": \"scatterternary\"}], \"surface\": [{\"colorbar\": {\"outlinewidth\": 0, \"ticks\": \"\"}, \"colorscale\": [[0.0, \"#0d0887\"], [0.1111111111111111, \"#46039f\"], [0.2222222222222222, \"#7201a8\"], [0.3333333333333333, \"#9c179e\"], [0.4444444444444444, \"#bd3786\"], [0.5555555555555556, \"#d8576b\"], [0.6666666666666666, \"#ed7953\"], [0.7777777777777778, \"#fb9f3a\"], [0.8888888888888888, \"#fdca26\"], [1.0, \"#f0f921\"]], \"type\": \"surface\"}], \"table\": [{\"cells\": {\"fill\": {\"color\": \"#EBF0F8\"}, \"line\": {\"color\": \"white\"}}, \"header\": {\"fill\": {\"color\": \"#C8D4E3\"}, \"line\": {\"color\": \"white\"}}, \"type\": \"table\"}]}, \"layout\": {\"annotationdefaults\": {\"arrowcolor\": \"#2a3f5f\", \"arrowhead\": 0, \"arrowwidth\": 1}, \"coloraxis\": {\"colorbar\": {\"outlinewidth\": 0, \"ticks\": \"\"}}, \"colorscale\": {\"diverging\": [[0, \"#8e0152\"], [0.1, \"#c51b7d\"], [0.2, \"#de77ae\"], [0.3, \"#f1b6da\"], [0.4, \"#fde0ef\"], [0.5, \"#f7f7f7\"], [0.6, \"#e6f5d0\"], [0.7, \"#b8e186\"], [0.8, \"#7fbc41\"], [0.9, \"#4d9221\"], [1, \"#276419\"]], \"sequential\": [[0.0, \"#0d0887\"], [0.1111111111111111, \"#46039f\"], [0.2222222222222222, \"#7201a8\"], [0.3333333333333333, \"#9c179e\"], [0.4444444444444444, \"#bd3786\"], [0.5555555555555556, \"#d8576b\"], [0.6666666666666666, \"#ed7953\"], [0.7777777777777778, \"#fb9f3a\"], [0.8888888888888888, \"#fdca26\"], [1.0, \"#f0f921\"]], \"sequentialminus\": [[0.0, \"#0d0887\"], [0.1111111111111111, \"#46039f\"], [0.2222222222222222, \"#7201a8\"], [0.3333333333333333, \"#9c179e\"], [0.4444444444444444, \"#bd3786\"], [0.5555555555555556, \"#d8576b\"], [0.6666666666666666, \"#ed7953\"], [0.7777777777777778, \"#fb9f3a\"], [0.8888888888888888, \"#fdca26\"], [1.0, \"#f0f921\"]]}, \"colorway\": [\"#636efa\", \"#EF553B\", \"#00cc96\", \"#ab63fa\", \"#FFA15A\", \"#19d3f3\", \"#FF6692\", \"#B6E880\", \"#FF97FF\", \"#FECB52\"], \"font\": {\"color\": \"#2a3f5f\"}, \"geo\": {\"bgcolor\": \"white\", \"lakecolor\": \"white\", \"landcolor\": \"#E5ECF6\", \"showlakes\": true, \"showland\": true, \"subunitcolor\": \"white\"}, \"hoverlabel\": {\"align\": \"left\"}, \"hovermode\": \"closest\", \"mapbox\": {\"style\": \"light\"}, \"paper_bgcolor\": \"white\", \"plot_bgcolor\": \"#E5ECF6\", \"polar\": {\"angularaxis\": {\"gridcolor\": \"white\", \"linecolor\": \"white\", \"ticks\": \"\"}, \"bgcolor\": \"#E5ECF6\", \"radialaxis\": {\"gridcolor\": \"white\", \"linecolor\": \"white\", \"ticks\": \"\"}}, \"scene\": {\"xaxis\": {\"backgroundcolor\": \"#E5ECF6\", \"gridcolor\": \"white\", \"gridwidth\": 2, \"linecolor\": \"white\", \"showbackground\": true, \"ticks\": \"\", \"zerolinecolor\": \"white\"}, \"yaxis\": {\"backgroundcolor\": \"#E5ECF6\", \"gridcolor\": \"white\", \"gridwidth\": 2, \"linecolor\": \"white\", \"showbackground\": true, \"ticks\": \"\", \"zerolinecolor\": \"white\"}, \"zaxis\": {\"backgroundcolor\": \"#E5ECF6\", \"gridcolor\": \"white\", \"gridwidth\": 2, \"linecolor\": \"white\", \"showbackground\": true, \"ticks\": \"\", \"zerolinecolor\": \"white\"}}, \"shapedefaults\": {\"line\": {\"color\": \"#2a3f5f\"}}, \"ternary\": {\"aaxis\": {\"gridcolor\": \"white\", \"linecolor\": \"white\", \"ticks\": \"\"}, \"baxis\": {\"gridcolor\": \"white\", \"linecolor\": \"white\", \"ticks\": \"\"}, \"bgcolor\": \"#E5ECF6\", \"caxis\": {\"gridcolor\": \"white\", \"linecolor\": \"white\", \"ticks\": \"\"}}, \"title\": {\"x\": 0.05}, \"xaxis\": {\"automargin\": true, \"gridcolor\": \"white\", \"linecolor\": \"white\", \"ticks\": \"\", \"title\": {\"standoff\": 15}, \"zerolinecolor\": \"white\", \"zerolinewidth\": 2}, \"yaxis\": {\"automargin\": true, \"gridcolor\": \"white\", \"linecolor\": \"white\", \"ticks\": \"\", \"title\": {\"standoff\": 15}, \"zerolinecolor\": \"white\", \"zerolinewidth\": 2}}}, \"title\": {\"text\": \"Obtained Score Percentage vs Hours-Studied\\n (visual comparison for correctness after Train-Test Split)\", \"x\": 0.5}, \"xaxis\": {\"linecolor\": \"black\", \"linewidth\": 2, \"mirror\": true, \"showline\": true, \"title\": {\"text\": \"Number of Hours Studied\"}}, \"yaxis\": {\"linecolor\": \"black\", \"linewidth\": 2, \"mirror\": true, \"showline\": true, \"title\": {\"text\": \"Obtained Percentage Score\"}}},\n",
              "                        {\"responsive\": true}\n",
              "                    ).then(function(){\n",
              "                            \n",
              "var gd = document.getElementById('eabf96c0-16ba-40ee-91ed-e7889ab78867');\n",
              "var x = new MutationObserver(function (mutations, observer) {{\n",
              "        var display = window.getComputedStyle(gd).display;\n",
              "        if (!display || display === 'none') {{\n",
              "            console.log([gd, 'removed!']);\n",
              "            Plotly.purge(gd);\n",
              "            observer.disconnect();\n",
              "        }}\n",
              "}});\n",
              "\n",
              "// Listen for the removal of the full notebook cells\n",
              "var notebookContainer = gd.closest('#notebook-container');\n",
              "if (notebookContainer) {{\n",
              "    x.observe(notebookContainer, {childList: true});\n",
              "}}\n",
              "\n",
              "// Listen for the clearing of the current output cell\n",
              "var outputEl = gd.closest('.output');\n",
              "if (outputEl) {{\n",
              "    x.observe(outputEl, {childList: true});\n",
              "}}\n",
              "\n",
              "                        })\n",
              "                };\n",
              "                \n",
              "            </script>\n",
              "        </div>\n",
              "</body>\n",
              "</html>"
            ]
          },
          "metadata": {}
        },
        {
          "output_type": "stream",
          "name": "stdout",
          "text": [
            "\n",
            "\n",
            "Y_Test: [81 35 86 30 88]\n",
            "\n",
            "\n",
            "Y_Pred: [83.88170014 39.33989318 78.93261048 26.47226006 92.79006153]\n"
          ]
        }
      ]
    },
    {
      "cell_type": "markdown",
      "metadata": {
        "id": "6ZCGo0lJZzwA"
      },
      "source": [
        "**<font color='skyblue'>Linear Regression with Scikit Learn</font>**"
      ]
    },
    {
      "cell_type": "markdown",
      "metadata": {
        "id": "QIh0XUhRZ-4Q"
      },
      "source": [
        "Loading Libraries"
      ]
    },
    {
      "cell_type": "code",
      "metadata": {
        "id": "Ea-2oK4zaMj3"
      },
      "source": [
        "from sklearn.linear_model import LinearRegression"
      ],
      "execution_count": null,
      "outputs": []
    },
    {
      "cell_type": "markdown",
      "metadata": {
        "id": "rnm77jBSbZpa"
      },
      "source": [
        "Reshaping the training and test sets"
      ]
    },
    {
      "cell_type": "code",
      "metadata": {
        "id": "hVH_5fS3bTSO"
      },
      "source": [
        "X_train = X_train.reshape(-1,1)\n",
        "X_test = X_test.reshape(-1,1)\n",
        "Y_train = Y_train.reshape(-1,1)\n",
        "Y_test = Y_test.reshape(-1,1)"
      ],
      "execution_count": null,
      "outputs": []
    },
    {
      "cell_type": "markdown",
      "metadata": {
        "id": "m3oLHg_1aRiG"
      },
      "source": [
        "Training The Model"
      ]
    },
    {
      "cell_type": "code",
      "metadata": {
        "id": "5sVtC4DkaTVF",
        "colab": {
          "base_uri": "https://localhost:8080/"
        },
        "outputId": "70b80725-2c6c-4108-8c84-3802929797d2"
      },
      "source": [
        "regressor = LinearRegression()\n",
        "regressor.fit(X_train, Y_train)"
      ],
      "execution_count": null,
      "outputs": [
        {
          "output_type": "execute_result",
          "data": {
            "text/plain": [
              "LinearRegression()"
            ]
          },
          "metadata": {},
          "execution_count": 22
        }
      ]
    },
    {
      "cell_type": "markdown",
      "metadata": {
        "id": "nD2xb9E_aXms"
      },
      "source": [
        "Printitng $Intercept$ and $Slope$"
      ]
    },
    {
      "cell_type": "code",
      "metadata": {
        "id": "Atp-y5KGac8j",
        "colab": {
          "base_uri": "https://localhost:8080/"
        },
        "outputId": "cd035723-7337-44ba-fa7e-0e2a12aef89c"
      },
      "source": [
        "print(regressor.intercept_, regressor.coef_)"
      ],
      "execution_count": null,
      "outputs": [
        {
          "output_type": "stream",
          "name": "stdout",
          "text": [
            "[1.78656499] [[9.68921352]]\n"
          ]
        }
      ]
    },
    {
      "cell_type": "markdown",
      "metadata": {
        "id": "JLjB_G8Pbws3"
      },
      "source": [
        "Making Predictions and visual comparison for correctness"
      ]
    },
    {
      "cell_type": "code",
      "metadata": {
        "id": "9NHqcUD-b29I",
        "colab": {
          "base_uri": "https://localhost:8080/",
          "height": 646
        },
        "outputId": "0848e713-2a86-4dd9-dbe4-60acd907104c"
      },
      "source": [
        "y_pred = regressor.predict(X.reshape(-1,1))\n",
        "\n",
        "fig = go.Figure()\n",
        "\n",
        "fig.add_trace(go.Scatter(x=X, y=Y, name='train', mode='markers', marker_color='rgba(152, 0, 0, .8)'))\n",
        "fig.add_trace(go.Scatter(x=X, y=y_pred.flatten(), name='prediction', mode='lines+markers', marker_color='rgba(0, 152, 0, .8)'))\n",
        "\n",
        "fig.update_layout(title = f'Obtained Score Percentage vs Hours-Studied\\n (visual comparison for correctness after Train-Test Split)',title_x=0.5, xaxis_title= \"Number of Hours Studied\", yaxis_title=\"Obtained Percentage Score\")\n",
        "fig.update_xaxes(showline=True, linewidth=2, linecolor='black', mirror=True)\n",
        "fig.update_yaxes(showline=True, linewidth=2, linecolor='black', mirror=True)\n",
        "fig.show()\n",
        "\n",
        "y_pred = regressor.predict(X_test)\n",
        "print(f'\\n\\nY_Test: {Y_test.flatten()}')\n",
        "print(f'\\n\\nY_Pred: {y_pred.flatten()}')"
      ],
      "execution_count": null,
      "outputs": [
        {
          "output_type": "display_data",
          "data": {
            "text/html": [
              "<html>\n",
              "<head><meta charset=\"utf-8\" /></head>\n",
              "<body>\n",
              "    <div>\n",
              "            <script src=\"https://cdnjs.cloudflare.com/ajax/libs/mathjax/2.7.5/MathJax.js?config=TeX-AMS-MML_SVG\"></script><script type=\"text/javascript\">if (window.MathJax) {MathJax.Hub.Config({SVG: {font: \"STIX-Web\"}});}</script>\n",
              "                <script type=\"text/javascript\">window.PlotlyConfig = {MathJaxConfig: 'local'};</script>\n",
              "        <script src=\"https://cdn.plot.ly/plotly-latest.min.js\"></script>    \n",
              "            <div id=\"96a57e22-47b4-4c4e-b743-775932e2ef73\" class=\"plotly-graph-div\" style=\"height:525px; width:100%;\"></div>\n",
              "            <script type=\"text/javascript\">\n",
              "                \n",
              "                    window.PLOTLYENV=window.PLOTLYENV || {};\n",
              "                    \n",
              "                if (document.getElementById(\"96a57e22-47b4-4c4e-b743-775932e2ef73\")) {\n",
              "                    Plotly.newPlot(\n",
              "                        '96a57e22-47b4-4c4e-b743-775932e2ef73',\n",
              "                        [{\"marker\": {\"color\": \"rgba(152, 0, 0, .8)\"}, \"mode\": \"markers\", \"name\": \"train\", \"type\": \"scatter\", \"x\": [2.5, 5.1, 3.2, 8.5, 3.5, 1.5, 9.2, 5.5, 8.3, 2.7, 7.7, 5.9, 4.5, 3.3, 1.1, 8.9, 2.5, 1.9, 6.1, 7.4, 2.7, 4.8, 3.8, 6.9, 7.8], \"y\": [21, 47, 27, 75, 30, 20, 88, 60, 81, 25, 85, 62, 41, 42, 17, 95, 30, 24, 67, 69, 30, 54, 35, 76, 86]}, {\"marker\": {\"color\": \"rgba(0, 152, 0, .8)\"}, \"mode\": \"lines+markers\", \"name\": \"prediction\", \"type\": \"scatter\", \"x\": [2.5, 5.1, 3.2, 8.5, 3.5, 1.5, 9.2, 5.5, 8.3, 2.7, 7.7, 5.9, 4.5, 3.3, 1.1, 8.9, 2.5, 1.9, 6.1, 7.4, 2.7, 4.8, 3.8, 6.9, 7.8], \"y\": [26.009598787174696, 51.20155393241299, 32.79204824935424, 84.14487989157078, 35.69881230457404, 16.32038526977535, 90.92732935375031, 55.07723933937274, 82.20703718809091, 27.94744149065457, 76.39350907765132, 58.95292474633248, 45.38802582197339, 33.760969601094175, 12.444699862815611, 88.02056529853053, 26.009598787174696, 20.196070676735086, 60.890767449812344, 73.4867450224315, 27.94744149065457, 48.294789877193196, 38.605576359793844, 68.64213826373182, 77.36243042939122]}],\n",
              "                        {\"template\": {\"data\": {\"bar\": [{\"error_x\": {\"color\": \"#2a3f5f\"}, \"error_y\": {\"color\": \"#2a3f5f\"}, \"marker\": {\"line\": {\"color\": \"#E5ECF6\", \"width\": 0.5}}, \"type\": \"bar\"}], \"barpolar\": [{\"marker\": {\"line\": {\"color\": \"#E5ECF6\", \"width\": 0.5}}, \"type\": \"barpolar\"}], \"carpet\": [{\"aaxis\": {\"endlinecolor\": \"#2a3f5f\", \"gridcolor\": \"white\", \"linecolor\": \"white\", \"minorgridcolor\": \"white\", \"startlinecolor\": \"#2a3f5f\"}, \"baxis\": {\"endlinecolor\": \"#2a3f5f\", \"gridcolor\": \"white\", \"linecolor\": \"white\", \"minorgridcolor\": \"white\", \"startlinecolor\": \"#2a3f5f\"}, \"type\": \"carpet\"}], \"choropleth\": [{\"colorbar\": {\"outlinewidth\": 0, \"ticks\": \"\"}, \"type\": \"choropleth\"}], \"contour\": [{\"colorbar\": {\"outlinewidth\": 0, \"ticks\": \"\"}, \"colorscale\": [[0.0, \"#0d0887\"], [0.1111111111111111, \"#46039f\"], [0.2222222222222222, \"#7201a8\"], [0.3333333333333333, \"#9c179e\"], [0.4444444444444444, \"#bd3786\"], [0.5555555555555556, \"#d8576b\"], [0.6666666666666666, \"#ed7953\"], [0.7777777777777778, \"#fb9f3a\"], [0.8888888888888888, \"#fdca26\"], [1.0, \"#f0f921\"]], \"type\": \"contour\"}], \"contourcarpet\": [{\"colorbar\": {\"outlinewidth\": 0, \"ticks\": \"\"}, \"type\": \"contourcarpet\"}], \"heatmap\": [{\"colorbar\": {\"outlinewidth\": 0, \"ticks\": \"\"}, \"colorscale\": [[0.0, \"#0d0887\"], [0.1111111111111111, \"#46039f\"], [0.2222222222222222, \"#7201a8\"], [0.3333333333333333, \"#9c179e\"], [0.4444444444444444, \"#bd3786\"], [0.5555555555555556, \"#d8576b\"], [0.6666666666666666, \"#ed7953\"], [0.7777777777777778, \"#fb9f3a\"], [0.8888888888888888, \"#fdca26\"], [1.0, \"#f0f921\"]], \"type\": \"heatmap\"}], \"heatmapgl\": [{\"colorbar\": {\"outlinewidth\": 0, \"ticks\": \"\"}, \"colorscale\": [[0.0, \"#0d0887\"], [0.1111111111111111, \"#46039f\"], [0.2222222222222222, \"#7201a8\"], [0.3333333333333333, \"#9c179e\"], [0.4444444444444444, \"#bd3786\"], [0.5555555555555556, \"#d8576b\"], [0.6666666666666666, \"#ed7953\"], [0.7777777777777778, \"#fb9f3a\"], [0.8888888888888888, \"#fdca26\"], [1.0, \"#f0f921\"]], \"type\": \"heatmapgl\"}], \"histogram\": [{\"marker\": {\"colorbar\": {\"outlinewidth\": 0, \"ticks\": \"\"}}, \"type\": \"histogram\"}], \"histogram2d\": [{\"colorbar\": {\"outlinewidth\": 0, \"ticks\": \"\"}, \"colorscale\": [[0.0, \"#0d0887\"], [0.1111111111111111, \"#46039f\"], [0.2222222222222222, \"#7201a8\"], [0.3333333333333333, \"#9c179e\"], [0.4444444444444444, \"#bd3786\"], [0.5555555555555556, \"#d8576b\"], [0.6666666666666666, \"#ed7953\"], [0.7777777777777778, \"#fb9f3a\"], [0.8888888888888888, \"#fdca26\"], [1.0, \"#f0f921\"]], \"type\": \"histogram2d\"}], \"histogram2dcontour\": [{\"colorbar\": {\"outlinewidth\": 0, \"ticks\": \"\"}, \"colorscale\": [[0.0, \"#0d0887\"], [0.1111111111111111, \"#46039f\"], [0.2222222222222222, \"#7201a8\"], [0.3333333333333333, \"#9c179e\"], [0.4444444444444444, \"#bd3786\"], [0.5555555555555556, \"#d8576b\"], [0.6666666666666666, \"#ed7953\"], [0.7777777777777778, \"#fb9f3a\"], [0.8888888888888888, \"#fdca26\"], [1.0, \"#f0f921\"]], \"type\": \"histogram2dcontour\"}], \"mesh3d\": [{\"colorbar\": {\"outlinewidth\": 0, \"ticks\": \"\"}, \"type\": \"mesh3d\"}], \"parcoords\": [{\"line\": {\"colorbar\": {\"outlinewidth\": 0, \"ticks\": \"\"}}, \"type\": \"parcoords\"}], \"pie\": [{\"automargin\": true, \"type\": \"pie\"}], \"scatter\": [{\"marker\": {\"colorbar\": {\"outlinewidth\": 0, \"ticks\": \"\"}}, \"type\": \"scatter\"}], \"scatter3d\": [{\"line\": {\"colorbar\": {\"outlinewidth\": 0, \"ticks\": \"\"}}, \"marker\": {\"colorbar\": {\"outlinewidth\": 0, \"ticks\": \"\"}}, \"type\": \"scatter3d\"}], \"scattercarpet\": [{\"marker\": {\"colorbar\": {\"outlinewidth\": 0, \"ticks\": \"\"}}, \"type\": \"scattercarpet\"}], \"scattergeo\": [{\"marker\": {\"colorbar\": {\"outlinewidth\": 0, \"ticks\": \"\"}}, \"type\": \"scattergeo\"}], \"scattergl\": [{\"marker\": {\"colorbar\": {\"outlinewidth\": 0, \"ticks\": \"\"}}, \"type\": \"scattergl\"}], \"scattermapbox\": [{\"marker\": {\"colorbar\": {\"outlinewidth\": 0, \"ticks\": \"\"}}, \"type\": \"scattermapbox\"}], \"scatterpolar\": [{\"marker\": {\"colorbar\": {\"outlinewidth\": 0, \"ticks\": \"\"}}, \"type\": \"scatterpolar\"}], \"scatterpolargl\": [{\"marker\": {\"colorbar\": {\"outlinewidth\": 0, \"ticks\": \"\"}}, \"type\": \"scatterpolargl\"}], \"scatterternary\": [{\"marker\": {\"colorbar\": {\"outlinewidth\": 0, \"ticks\": \"\"}}, \"type\": \"scatterternary\"}], \"surface\": [{\"colorbar\": {\"outlinewidth\": 0, \"ticks\": \"\"}, \"colorscale\": [[0.0, \"#0d0887\"], [0.1111111111111111, \"#46039f\"], [0.2222222222222222, \"#7201a8\"], [0.3333333333333333, \"#9c179e\"], [0.4444444444444444, \"#bd3786\"], [0.5555555555555556, \"#d8576b\"], [0.6666666666666666, \"#ed7953\"], [0.7777777777777778, \"#fb9f3a\"], [0.8888888888888888, \"#fdca26\"], [1.0, \"#f0f921\"]], \"type\": \"surface\"}], \"table\": [{\"cells\": {\"fill\": {\"color\": \"#EBF0F8\"}, \"line\": {\"color\": \"white\"}}, \"header\": {\"fill\": {\"color\": \"#C8D4E3\"}, \"line\": {\"color\": \"white\"}}, \"type\": \"table\"}]}, \"layout\": {\"annotationdefaults\": {\"arrowcolor\": \"#2a3f5f\", \"arrowhead\": 0, \"arrowwidth\": 1}, \"coloraxis\": {\"colorbar\": {\"outlinewidth\": 0, \"ticks\": \"\"}}, \"colorscale\": {\"diverging\": [[0, \"#8e0152\"], [0.1, \"#c51b7d\"], [0.2, \"#de77ae\"], [0.3, \"#f1b6da\"], [0.4, \"#fde0ef\"], [0.5, \"#f7f7f7\"], [0.6, \"#e6f5d0\"], [0.7, \"#b8e186\"], [0.8, \"#7fbc41\"], [0.9, \"#4d9221\"], [1, \"#276419\"]], \"sequential\": [[0.0, \"#0d0887\"], [0.1111111111111111, \"#46039f\"], [0.2222222222222222, \"#7201a8\"], [0.3333333333333333, \"#9c179e\"], [0.4444444444444444, \"#bd3786\"], [0.5555555555555556, \"#d8576b\"], [0.6666666666666666, \"#ed7953\"], [0.7777777777777778, \"#fb9f3a\"], [0.8888888888888888, \"#fdca26\"], [1.0, \"#f0f921\"]], \"sequentialminus\": [[0.0, \"#0d0887\"], [0.1111111111111111, \"#46039f\"], [0.2222222222222222, \"#7201a8\"], [0.3333333333333333, \"#9c179e\"], [0.4444444444444444, \"#bd3786\"], [0.5555555555555556, \"#d8576b\"], [0.6666666666666666, \"#ed7953\"], [0.7777777777777778, \"#fb9f3a\"], [0.8888888888888888, \"#fdca26\"], [1.0, \"#f0f921\"]]}, \"colorway\": [\"#636efa\", \"#EF553B\", \"#00cc96\", \"#ab63fa\", \"#FFA15A\", \"#19d3f3\", \"#FF6692\", \"#B6E880\", \"#FF97FF\", \"#FECB52\"], \"font\": {\"color\": \"#2a3f5f\"}, \"geo\": {\"bgcolor\": \"white\", \"lakecolor\": \"white\", \"landcolor\": \"#E5ECF6\", \"showlakes\": true, \"showland\": true, \"subunitcolor\": \"white\"}, \"hoverlabel\": {\"align\": \"left\"}, \"hovermode\": \"closest\", \"mapbox\": {\"style\": \"light\"}, \"paper_bgcolor\": \"white\", \"plot_bgcolor\": \"#E5ECF6\", \"polar\": {\"angularaxis\": {\"gridcolor\": \"white\", \"linecolor\": \"white\", \"ticks\": \"\"}, \"bgcolor\": \"#E5ECF6\", \"radialaxis\": {\"gridcolor\": \"white\", \"linecolor\": \"white\", \"ticks\": \"\"}}, \"scene\": {\"xaxis\": {\"backgroundcolor\": \"#E5ECF6\", \"gridcolor\": \"white\", \"gridwidth\": 2, \"linecolor\": \"white\", \"showbackground\": true, \"ticks\": \"\", \"zerolinecolor\": \"white\"}, \"yaxis\": {\"backgroundcolor\": \"#E5ECF6\", \"gridcolor\": \"white\", \"gridwidth\": 2, \"linecolor\": \"white\", \"showbackground\": true, \"ticks\": \"\", \"zerolinecolor\": \"white\"}, \"zaxis\": {\"backgroundcolor\": \"#E5ECF6\", \"gridcolor\": \"white\", \"gridwidth\": 2, \"linecolor\": \"white\", \"showbackground\": true, \"ticks\": \"\", \"zerolinecolor\": \"white\"}}, \"shapedefaults\": {\"line\": {\"color\": \"#2a3f5f\"}}, \"ternary\": {\"aaxis\": {\"gridcolor\": \"white\", \"linecolor\": \"white\", \"ticks\": \"\"}, \"baxis\": {\"gridcolor\": \"white\", \"linecolor\": \"white\", \"ticks\": \"\"}, \"bgcolor\": \"#E5ECF6\", \"caxis\": {\"gridcolor\": \"white\", \"linecolor\": \"white\", \"ticks\": \"\"}}, \"title\": {\"x\": 0.05}, \"xaxis\": {\"automargin\": true, \"gridcolor\": \"white\", \"linecolor\": \"white\", \"ticks\": \"\", \"title\": {\"standoff\": 15}, \"zerolinecolor\": \"white\", \"zerolinewidth\": 2}, \"yaxis\": {\"automargin\": true, \"gridcolor\": \"white\", \"linecolor\": \"white\", \"ticks\": \"\", \"title\": {\"standoff\": 15}, \"zerolinecolor\": \"white\", \"zerolinewidth\": 2}}}, \"title\": {\"text\": \"Obtained Score Percentage vs Hours-Studied\\n (visual comparison for correctness after Train-Test Split)\", \"x\": 0.5}, \"xaxis\": {\"linecolor\": \"black\", \"linewidth\": 2, \"mirror\": true, \"showline\": true, \"title\": {\"text\": \"Number of Hours Studied\"}}, \"yaxis\": {\"linecolor\": \"black\", \"linewidth\": 2, \"mirror\": true, \"showline\": true, \"title\": {\"text\": \"Obtained Percentage Score\"}}},\n",
              "                        {\"responsive\": true}\n",
              "                    ).then(function(){\n",
              "                            \n",
              "var gd = document.getElementById('96a57e22-47b4-4c4e-b743-775932e2ef73');\n",
              "var x = new MutationObserver(function (mutations, observer) {{\n",
              "        var display = window.getComputedStyle(gd).display;\n",
              "        if (!display || display === 'none') {{\n",
              "            console.log([gd, 'removed!']);\n",
              "            Plotly.purge(gd);\n",
              "            observer.disconnect();\n",
              "        }}\n",
              "}});\n",
              "\n",
              "// Listen for the removal of the full notebook cells\n",
              "var notebookContainer = gd.closest('#notebook-container');\n",
              "if (notebookContainer) {{\n",
              "    x.observe(notebookContainer, {childList: true});\n",
              "}}\n",
              "\n",
              "// Listen for the clearing of the current output cell\n",
              "var outputEl = gd.closest('.output');\n",
              "if (outputEl) {{\n",
              "    x.observe(outputEl, {childList: true});\n",
              "}}\n",
              "\n",
              "                        })\n",
              "                };\n",
              "                \n",
              "            </script>\n",
              "        </div>\n",
              "</body>\n",
              "</html>"
            ]
          },
          "metadata": {}
        },
        {
          "output_type": "stream",
          "name": "stdout",
          "text": [
            "\n",
            "\n",
            "Y_Test: [85 30 54 17 76]\n",
            "\n",
            "\n",
            "Y_Pred: [76.39350908 27.94744149 48.29478988 12.44469986 68.64213826]\n"
          ]
        }
      ]
    },
    {
      "cell_type": "markdown",
      "metadata": {
        "id": "dbpKt8BveR7-"
      },
      "source": [
        "**<font color='skyblue'>Multiple Linear Regression</font>**"
      ]
    },
    {
      "cell_type": "markdown",
      "metadata": {
        "id": "KVyztri6eW2T"
      },
      "source": [
        "In the previous section we performed linear regression involving two variables. Almost all real world problems that you are going to encounter will have more than two variables. Linear regression involving multiple variables is called \"multiple linear regression\". The steps to perform multiple linear regression are almost similar to that of simple linear regression."
      ]
    },
    {
      "cell_type": "markdown",
      "metadata": {
        "id": "2U4gO_inekQd"
      },
      "source": [
        "**<font color=lightgreen>Dataset</font>**<br>\n",
        "we will use multiple linear regression to predict the gas consumptions (in millions of gallons) in 48 US states based upon gas taxes (in cents), per capita income (dollars), paved highways (in miles) and the proportion of population that has a drivers license.\n",
        "\n",
        "[Dataset can be downloaded from here.](https://drive.google.com/file/d/1lHJC6sb3ZQoWrrFQJq5zUVxFbQbLlqHH/view?usp=sharing)"
      ]
    },
    {
      "cell_type": "markdown",
      "metadata": {
        "id": "bgqaFbQhf0so"
      },
      "source": [
        "Loading the data"
      ]
    },
    {
      "cell_type": "code",
      "metadata": {
        "id": "Y7nRkjuff2Uh",
        "colab": {
          "base_uri": "https://localhost:8080/"
        },
        "outputId": "7d159d53-2af2-4b6b-f2c8-c9626e70c682"
      },
      "source": [
        "!gdown --id 1lHJC6sb3ZQoWrrFQJq5zUVxFbQbLlqHH\n",
        "data = pd.read_csv('/content/petrol_consumption.csv')"
      ],
      "execution_count": null,
      "outputs": [
        {
          "output_type": "stream",
          "name": "stdout",
          "text": [
            "Downloading...\n",
            "From: https://drive.google.com/uc?id=1lHJC6sb3ZQoWrrFQJq5zUVxFbQbLlqHH\n",
            "To: /content/petrol_consumption.csv\n",
            "\r  0% 0.00/1.39k [00:00<?, ?B/s]\r100% 1.39k/1.39k [00:00<00:00, 1.06MB/s]\n"
          ]
        }
      ]
    },
    {
      "cell_type": "code",
      "metadata": {
        "id": "DcNi-NuPgUd9",
        "colab": {
          "base_uri": "https://localhost:8080/",
          "height": 206
        },
        "outputId": "3e0e6539-8b3a-4c0d-b9d4-1ada82e88ffb"
      },
      "source": [
        "X = data[['Petrol_tax', 'Average_income', 'Paved_Highways',\n",
        "       'Population_Driver_licence(%)']]\n",
        "Y = data['Petrol_Consumption']\n",
        "\n",
        "data.head()"
      ],
      "execution_count": null,
      "outputs": [
        {
          "output_type": "execute_result",
          "data": {
            "text/html": [
              "<div>\n",
              "<style scoped>\n",
              "    .dataframe tbody tr th:only-of-type {\n",
              "        vertical-align: middle;\n",
              "    }\n",
              "\n",
              "    .dataframe tbody tr th {\n",
              "        vertical-align: top;\n",
              "    }\n",
              "\n",
              "    .dataframe thead th {\n",
              "        text-align: right;\n",
              "    }\n",
              "</style>\n",
              "<table border=\"1\" class=\"dataframe\">\n",
              "  <thead>\n",
              "    <tr style=\"text-align: right;\">\n",
              "      <th></th>\n",
              "      <th>Petrol_tax</th>\n",
              "      <th>Average_income</th>\n",
              "      <th>Paved_Highways</th>\n",
              "      <th>Population_Driver_licence(%)</th>\n",
              "      <th>Petrol_Consumption</th>\n",
              "    </tr>\n",
              "  </thead>\n",
              "  <tbody>\n",
              "    <tr>\n",
              "      <th>0</th>\n",
              "      <td>9.0</td>\n",
              "      <td>3571</td>\n",
              "      <td>1976</td>\n",
              "      <td>0.525</td>\n",
              "      <td>541</td>\n",
              "    </tr>\n",
              "    <tr>\n",
              "      <th>1</th>\n",
              "      <td>9.0</td>\n",
              "      <td>4092</td>\n",
              "      <td>1250</td>\n",
              "      <td>0.572</td>\n",
              "      <td>524</td>\n",
              "    </tr>\n",
              "    <tr>\n",
              "      <th>2</th>\n",
              "      <td>9.0</td>\n",
              "      <td>3865</td>\n",
              "      <td>1586</td>\n",
              "      <td>0.580</td>\n",
              "      <td>561</td>\n",
              "    </tr>\n",
              "    <tr>\n",
              "      <th>3</th>\n",
              "      <td>7.5</td>\n",
              "      <td>4870</td>\n",
              "      <td>2351</td>\n",
              "      <td>0.529</td>\n",
              "      <td>414</td>\n",
              "    </tr>\n",
              "    <tr>\n",
              "      <th>4</th>\n",
              "      <td>8.0</td>\n",
              "      <td>4399</td>\n",
              "      <td>431</td>\n",
              "      <td>0.544</td>\n",
              "      <td>410</td>\n",
              "    </tr>\n",
              "  </tbody>\n",
              "</table>\n",
              "</div>"
            ],
            "text/plain": [
              "   Petrol_tax  Average_income  ...  Population_Driver_licence(%)  Petrol_Consumption\n",
              "0         9.0            3571  ...                         0.525                 541\n",
              "1         9.0            4092  ...                         0.572                 524\n",
              "2         9.0            3865  ...                         0.580                 561\n",
              "3         7.5            4870  ...                         0.529                 414\n",
              "4         8.0            4399  ...                         0.544                 410\n",
              "\n",
              "[5 rows x 5 columns]"
            ]
          },
          "metadata": {},
          "execution_count": 26
        }
      ]
    },
    {
      "cell_type": "markdown",
      "metadata": {
        "id": "YfGInWemhBOf"
      },
      "source": [
        "Splitting the dataset"
      ]
    },
    {
      "cell_type": "code",
      "metadata": {
        "id": "jL3JRICOhDGg"
      },
      "source": [
        "X_train, X_test, Y_train, Y_test = train_test_split(X, Y, test_size=0.2, shuffle=True)"
      ],
      "execution_count": null,
      "outputs": []
    },
    {
      "cell_type": "markdown",
      "metadata": {
        "id": "LP16boephKnG"
      },
      "source": [
        "Training the multiple linear regression model"
      ]
    },
    {
      "cell_type": "code",
      "metadata": {
        "id": "1l8nKkHjhPIS",
        "colab": {
          "base_uri": "https://localhost:8080/"
        },
        "outputId": "a7b51288-443f-4c53-afd1-82d3f7b06fbb"
      },
      "source": [
        "regressor = LinearRegression()\n",
        "regressor.fit(X_train, Y_train)"
      ],
      "execution_count": null,
      "outputs": [
        {
          "output_type": "execute_result",
          "data": {
            "text/plain": [
              "LinearRegression()"
            ]
          },
          "metadata": {},
          "execution_count": 28
        }
      ]
    },
    {
      "cell_type": "markdown",
      "metadata": {
        "id": "oH9TuCqThbUt"
      },
      "source": [
        "Printing the coeficients"
      ]
    },
    {
      "cell_type": "code",
      "metadata": {
        "id": "SzLYDSOthe8L",
        "colab": {
          "base_uri": "https://localhost:8080/",
          "height": 175
        },
        "outputId": "00cdcd7b-6565-4f8f-b591-fe672312df11"
      },
      "source": [
        "coeff_df = pd.DataFrame(regressor.coef_, X.columns, columns=['Coefficient'])\n",
        "coeff_df"
      ],
      "execution_count": null,
      "outputs": [
        {
          "output_type": "execute_result",
          "data": {
            "text/html": [
              "<div>\n",
              "<style scoped>\n",
              "    .dataframe tbody tr th:only-of-type {\n",
              "        vertical-align: middle;\n",
              "    }\n",
              "\n",
              "    .dataframe tbody tr th {\n",
              "        vertical-align: top;\n",
              "    }\n",
              "\n",
              "    .dataframe thead th {\n",
              "        text-align: right;\n",
              "    }\n",
              "</style>\n",
              "<table border=\"1\" class=\"dataframe\">\n",
              "  <thead>\n",
              "    <tr style=\"text-align: right;\">\n",
              "      <th></th>\n",
              "      <th>Coefficient</th>\n",
              "    </tr>\n",
              "  </thead>\n",
              "  <tbody>\n",
              "    <tr>\n",
              "      <th>Petrol_tax</th>\n",
              "      <td>-38.557499</td>\n",
              "    </tr>\n",
              "    <tr>\n",
              "      <th>Average_income</th>\n",
              "      <td>-0.062220</td>\n",
              "    </tr>\n",
              "    <tr>\n",
              "      <th>Paved_Highways</th>\n",
              "      <td>-0.003112</td>\n",
              "    </tr>\n",
              "    <tr>\n",
              "      <th>Population_Driver_licence(%)</th>\n",
              "      <td>1275.161261</td>\n",
              "    </tr>\n",
              "  </tbody>\n",
              "</table>\n",
              "</div>"
            ],
            "text/plain": [
              "                              Coefficient\n",
              "Petrol_tax                     -38.557499\n",
              "Average_income                  -0.062220\n",
              "Paved_Highways                  -0.003112\n",
              "Population_Driver_licence(%)  1275.161261"
            ]
          },
          "metadata": {},
          "execution_count": 29
        }
      ]
    },
    {
      "cell_type": "markdown",
      "metadata": {
        "id": "AcXlY53PitSe"
      },
      "source": [
        "This means that for a unit increase in \"petrol_tax\", there is a decrease of 24.19 million gallons in gas consumption. Similarly, a unit increase in proportion of population with a drivers license results in an increase of 1.324 billion gallons of gas consumption. We can see that \"Average_income\" and \"Paved_Highways\" have a very little effect on the gas consumption."
      ]
    },
    {
      "cell_type": "markdown",
      "metadata": {
        "id": "UlRG5lk9iz98"
      },
      "source": [
        "**Making the predictions**"
      ]
    },
    {
      "cell_type": "code",
      "metadata": {
        "id": "cGd2rozli3bn",
        "colab": {
          "base_uri": "https://localhost:8080/",
          "height": 363
        },
        "outputId": "cc8d7414-6e02-4e0a-de37-c82e94d7d0f7"
      },
      "source": [
        "Y_pred = regressor.predict(X_test)\n",
        "df = pd.DataFrame({'Actual': Y_test, 'Predicted': Y_pred})\n",
        "df"
      ],
      "execution_count": null,
      "outputs": [
        {
          "output_type": "execute_result",
          "data": {
            "text/html": [
              "<div>\n",
              "<style scoped>\n",
              "    .dataframe tbody tr th:only-of-type {\n",
              "        vertical-align: middle;\n",
              "    }\n",
              "\n",
              "    .dataframe tbody tr th {\n",
              "        vertical-align: top;\n",
              "    }\n",
              "\n",
              "    .dataframe thead th {\n",
              "        text-align: right;\n",
              "    }\n",
              "</style>\n",
              "<table border=\"1\" class=\"dataframe\">\n",
              "  <thead>\n",
              "    <tr style=\"text-align: right;\">\n",
              "      <th></th>\n",
              "      <th>Actual</th>\n",
              "      <th>Predicted</th>\n",
              "    </tr>\n",
              "  </thead>\n",
              "  <tbody>\n",
              "    <tr>\n",
              "      <th>44</th>\n",
              "      <td>782</td>\n",
              "      <td>720.425440</td>\n",
              "    </tr>\n",
              "    <tr>\n",
              "      <th>8</th>\n",
              "      <td>464</td>\n",
              "      <td>489.218296</td>\n",
              "    </tr>\n",
              "    <tr>\n",
              "      <th>37</th>\n",
              "      <td>704</td>\n",
              "      <td>641.502636</td>\n",
              "    </tr>\n",
              "    <tr>\n",
              "      <th>16</th>\n",
              "      <td>603</td>\n",
              "      <td>597.817403</td>\n",
              "    </tr>\n",
              "    <tr>\n",
              "      <th>9</th>\n",
              "      <td>498</td>\n",
              "      <td>553.278078</td>\n",
              "    </tr>\n",
              "    <tr>\n",
              "      <th>27</th>\n",
              "      <td>631</td>\n",
              "      <td>608.142833</td>\n",
              "    </tr>\n",
              "    <tr>\n",
              "      <th>42</th>\n",
              "      <td>632</td>\n",
              "      <td>646.664287</td>\n",
              "    </tr>\n",
              "    <tr>\n",
              "      <th>46</th>\n",
              "      <td>610</td>\n",
              "      <td>671.022145</td>\n",
              "    </tr>\n",
              "    <tr>\n",
              "      <th>3</th>\n",
              "      <td>414</td>\n",
              "      <td>501.554413</td>\n",
              "    </tr>\n",
              "    <tr>\n",
              "      <th>23</th>\n",
              "      <td>547</td>\n",
              "      <td>459.227770</td>\n",
              "    </tr>\n",
              "  </tbody>\n",
              "</table>\n",
              "</div>"
            ],
            "text/plain": [
              "    Actual   Predicted\n",
              "44     782  720.425440\n",
              "8      464  489.218296\n",
              "37     704  641.502636\n",
              "16     603  597.817403\n",
              "9      498  553.278078\n",
              "27     631  608.142833\n",
              "42     632  646.664287\n",
              "46     610  671.022145\n",
              "3      414  501.554413\n",
              "23     547  459.227770"
            ]
          },
          "metadata": {},
          "execution_count": 30
        }
      ]
    }
  ]
}