{
  "nbformat": 4,
  "nbformat_minor": 0,
  "metadata": {
    "colab": {
      "provenance": [],
      "collapsed_sections": []
    },
    "kernelspec": {
      "name": "python3",
      "display_name": "Python 3"
    },
    "language_info": {
      "name": "python"
    },
    "accelerator": "GPU"
  },
  "cells": [
    {
      "cell_type": "markdown",
      "source": [
        "#Data Loading"
      ],
      "metadata": {
        "id": "cwfPfGbaA0Ml"
      }
    },
    {
      "cell_type": "code",
      "source": [
        "!wget https://github.com/SaadatChowdhury/BHaND/raw/master/Dataset/bhand.pkl.gz"
      ],
      "metadata": {
        "colab": {
          "base_uri": "https://localhost:8080/"
        },
        "id": "ufEMUlhmBKcx",
        "outputId": "0e1d12cb-329e-445d-e8b4-91849ffbf9b9"
      },
      "execution_count": null,
      "outputs": [
        {
          "output_type": "stream",
          "name": "stdout",
          "text": [
            "--2022-03-07 10:08:12--  https://github.com/SaadatChowdhury/BHaND/raw/master/Dataset/bhand.pkl.gz\n",
            "Resolving github.com (github.com)... 140.82.114.4\n",
            "Connecting to github.com (github.com)|140.82.114.4|:443... connected.\n",
            "HTTP request sent, awaiting response... 302 Found\n",
            "Location: https://raw.githubusercontent.com/SaadatChowdhury/BHaND/master/Dataset/bhand.pkl.gz [following]\n",
            "--2022-03-07 10:08:12--  https://raw.githubusercontent.com/SaadatChowdhury/BHaND/master/Dataset/bhand.pkl.gz\n",
            "Resolving raw.githubusercontent.com (raw.githubusercontent.com)... 185.199.108.133, 185.199.109.133, 185.199.110.133, ...\n",
            "Connecting to raw.githubusercontent.com (raw.githubusercontent.com)|185.199.108.133|:443... connected.\n",
            "HTTP request sent, awaiting response... 200 OK\n",
            "Length: 56765749 (54M) [application/octet-stream]\n",
            "Saving to: ‘bhand.pkl.gz’\n",
            "\n",
            "bhand.pkl.gz        100%[===================>]  54.14M   123MB/s    in 0.4s    \n",
            "\n",
            "2022-03-07 10:08:13 (123 MB/s) - ‘bhand.pkl.gz’ saved [56765749/56765749]\n",
            "\n"
          ]
        }
      ]
    },
    {
      "cell_type": "code",
      "source": [
        "import gzip\n",
        "import pickle\n",
        "import numpy as np\n",
        "\n",
        "f = gzip.open('/content/bhand.pkl.gz','rb')\n",
        "trainSet,validSet,testSet = pickle.load(f, encoding = 'bytes')\n",
        "f.close()\n"
      ],
      "metadata": {
        "id": "-aC6Se8BBkLL"
      },
      "execution_count": null,
      "outputs": []
    },
    {
      "cell_type": "code",
      "source": [
        "X_train, y_train = trainSet\n",
        "X_val, y_val = validSet\n",
        "X_test, y_test = testSet\n",
        "\n",
        "X_train = np.asarray(X_train)\n",
        "y_train = np.asarray(y_train)\n",
        "\n",
        "X_val = np.asarray(X_val)\n",
        "y_val = np.asarray(y_val)\n",
        "\n",
        "X_test = np.asarray(X_test)\n",
        "y_test = np.asarray(y_test)"
      ],
      "metadata": {
        "id": "mlDRxpa_CMJr"
      },
      "execution_count": null,
      "outputs": []
    },
    {
      "cell_type": "code",
      "source": [],
      "metadata": {
        "id": "WMLZbjmqEleN"
      },
      "execution_count": null,
      "outputs": []
    },
    {
      "cell_type": "code",
      "source": [
        "import matplotlib.pyplot as plt\n",
        "img = np.resize(X_train[0], (32,32))\n",
        "plt.imshow(img, cmap='gray')\n",
        "plt.show()"
      ],
      "metadata": {
        "colab": {
          "base_uri": "https://localhost:8080/",
          "height": 266
        },
        "id": "1ybTy3o9EpGE",
        "outputId": "a5cf90b9-3b6c-4d2e-b04d-294c6b5b19b8"
      },
      "execution_count": null,
      "outputs": [
        {
          "output_type": "display_data",
          "data": {
            "image/png": "[encoded data removed]",
            "text/plain": [
              "<Figure size 432x288 with 1 Axes>"
            ]
          },
          "metadata": {
            "needs_background": "light"
          }
        }
      ]
    },
    {
      "cell_type": "code",
      "source": [
        "y_train[0]"
      ],
      "metadata": {
        "colab": {
          "base_uri": "https://localhost:8080/"
        },
        "id": "bEfASbTwFKzm",
        "outputId": "de517425-a7f8-4018-8fad-62da73e1ae6e"
      },
      "execution_count": null,
      "outputs": [
        {
          "output_type": "execute_result",
          "data": {
            "text/plain": [
              "6"
            ]
          },
          "metadata": {},
          "execution_count": 6
        }
      ]
    },
    {
      "cell_type": "code",
      "source": [
        "import tensorflow as tf\n",
        "from tensorflow.keras import datasets, layers, models, losses, optimizers\n",
        "from tensorflow.keras.utils import to_categorical\n",
        "from tensorflow.keras.callbacks import EarlyStopping,ModelCheckpoint"
      ],
      "metadata": {
        "id": "Los8pS_6wfPU"
      },
      "execution_count": null,
      "outputs": []
    },
    {
      "cell_type": "code",
      "source": [
        "print(len(X_train)+len(X_val)+len(X_test)\n",
        ")"
      ],
      "metadata": {
        "colab": {
          "base_uri": "https://localhost:8080/"
        },
        "id": "kK8ItGySFNsX",
        "outputId": "c119dfa9-61b2-4a9f-f1b0-2a2fbcfad571"
      },
      "execution_count": null,
      "outputs": [
        {
          "output_type": "stream",
          "name": "stdout",
          "text": [
            "70000\n"
          ]
        }
      ]
    },
    {
      "cell_type": "code",
      "source": [
        "np.unique(y_train)"
      ],
      "metadata": {
        "id": "ktawgxyAwsGI",
        "outputId": "e19765bc-c83e-473c-eaed-58dd98bdffa4",
        "colab": {
          "base_uri": "https://localhost:8080/"
        }
      },
      "execution_count": null,
      "outputs": [
        {
          "output_type": "execute_result",
          "data": {
            "text/plain": [
              "array([0, 1, 2, 3, 4, 5, 6, 7, 8, 9])"
            ]
          },
          "metadata": {},
          "execution_count": 9
        }
      ]
    },
    {
      "cell_type": "code",
      "source": [
        "\n",
        "X_train = X_train.astype('float32').reshape(-1,32,32,1)\n",
        "X_val = X_val.astype('float32').reshape(-1,32,32,1)\n",
        "X_test = X_test.astype('float32').reshape(-1,32,32,1)"
      ],
      "metadata": {
        "id": "cDH9Iqzju4NX"
      },
      "execution_count": null,
      "outputs": []
    },
    {
      "cell_type": "code",
      "source": [
        "train_labels_one_hot = to_categorical(y_train)\n",
        "test_labels_one_hot = to_categorical(y_test)\n",
        "valid_labels_one_hot=to_categorical(y_val)"
      ],
      "metadata": {
        "id": "4_unF8KRwaNB"
      },
      "execution_count": null,
      "outputs": []
    },
    {
      "cell_type": "code",
      "source": [],
      "metadata": {
        "id": "57dAaLavxf48"
      },
      "execution_count": null,
      "outputs": []
    },
    {
      "cell_type": "code",
      "source": [
        "X_train.shape"
      ],
      "metadata": {
        "id": "QZH-WUFKwIuy",
        "outputId": "2b58277b-8030-468e-af0c-d32bf2b66def",
        "colab": {
          "base_uri": "https://localhost:8080/"
        }
      },
      "execution_count": null,
      "outputs": [
        {
          "output_type": "execute_result",
          "data": {
            "text/plain": [
              "(50000, 32, 32, 1)"
            ]
          },
          "metadata": {},
          "execution_count": 12
        }
      ]
    },
    {
      "cell_type": "code",
      "source": [
        "\n",
        "model = models.Sequential()\n",
        "model.add(layers.Conv2D(32, (3, 3), activation='relu', padding=\"same\",input_shape=(32, 32, 1)))\n",
        "model.add(layers.MaxPooling2D((2, 2)))\n",
        "model.add(layers.Dropout(0.5))\n",
        "model.add(layers.Conv2D(64, (3, 3), activation='relu'))\n",
        "model.add(layers.Conv2D(64, (2, 2),padding=\"same\" ,activation='relu'))\n",
        "model.add(layers.MaxPooling2D((2, 2)))\n",
        "model.add(layers.Conv2D(128, (3, 3),padding=\"same\", activation='relu'))\n",
        "model.add(layers.MaxPooling2D((2, 2)))\n",
        "model.add(layers.Dropout(0.25))\n",
        "model.add(layers.Conv2D(64, (3, 3), activation='relu'))\n",
        "model.add(layers.Flatten())\n",
        "model.add(layers.Dense(64, activation='relu'))\n",
        "model.add(layers.Dropout(0.30))\n",
        "model.add(layers.Dense(10, activation = 'softmax'))\n",
        "model.summary()"
      ],
      "metadata": {
        "id": "wLokUsD5F6zx",
        "outputId": "6a6d0248-e9fc-4c38-fd23-1bebda85cabf",
        "colab": {
          "base_uri": "https://localhost:8080/"
        }
      },
      "execution_count": null,
      "outputs": [
        {
          "output_type": "stream",
          "name": "stdout",
          "text": [
            "Model: \"sequential\"\n",
            "_________________________________________________________________\n",
            " Layer (type)                Output Shape              Param #   \n",
            "=================================================================\n",
            " conv2d (Conv2D)             (None, 32, 32, 32)        320       \n",
            "                                                                 \n",
            " max_pooling2d (MaxPooling2D  (None, 16, 16, 32)       0         \n",
            " )                                                               \n",
            "                                                                 \n",
            " dropout (Dropout)           (None, 16, 16, 32)        0         \n",
            "                                                                 \n",
            " conv2d_1 (Conv2D)           (None, 14, 14, 64)        18496     \n",
            "                                                                 \n",
            " max_pooling2d_1 (MaxPooling  (None, 7, 7, 64)         0         \n",
            " 2D)                                                             \n",
            "                                                                 \n",
            " conv2d_2 (Conv2D)           (None, 7, 7, 128)         73856     \n",
            "                                                                 \n",
            " max_pooling2d_2 (MaxPooling  (None, 3, 3, 128)        0         \n",
            " 2D)                                                             \n",
            "                                                                 \n",
            " dropout_1 (Dropout)         (None, 3, 3, 128)         0         \n",
            "                                                                 \n",
            " conv2d_3 (Conv2D)           (None, 1, 1, 64)          73792     \n",
            "                                                                 \n",
            " flatten (Flatten)           (None, 64)                0         \n",
            "                                                                 \n",
            " dense (Dense)               (None, 64)                4160      \n",
            "                                                                 \n",
            " dropout_2 (Dropout)         (None, 64)                0         \n",
            "                                                                 \n",
            " dense_1 (Dense)             (None, 10)                650       \n",
            "                                                                 \n",
            "=================================================================\n",
            "Total params: 171,274\n",
            "Trainable params: 171,274\n",
            "Non-trainable params: 0\n",
            "_________________________________________________________________\n"
          ]
        }
      ]
    },
    {
      "cell_type": "code",
      "source": [
        "model.compile(loss=losses.categorical_crossentropy, optimizer=optimizers.Adam(),metrics=['accuracy'])"
      ],
      "metadata": {
        "id": "Nr6SopoQusWK"
      },
      "execution_count": null,
      "outputs": []
    },
    {
      "cell_type": "code",
      "source": [
        "\n",
        "es = EarlyStopping(monitor='val_loss', mode='min',patience=3, verbose=1)\n",
        "mc = ModelCheckpoint('best_model.h5', monitor='val_loss', mode='min')"
      ],
      "metadata": {
        "id": "Ms5kfY-NypAd"
      },
      "execution_count": null,
      "outputs": []
    },
    {
      "cell_type": "code",
      "source": [
        "batch_size=64\n",
        "epochs=10\n",
        "\n",
        "training_history = model.fit(X_train, train_labels_one_hot,\n",
        "                             batch_size=batch_size,\n",
        "                             epochs=epochs,\n",
        "                             verbose=1,\n",
        "                             validation_data=(X_val, valid_labels_one_hot),callbacks=[es,mc]\n",
        "                              )\n"
      ],
      "metadata": {
        "id": "FlsoDUfUx0-k",
        "outputId": "cd2575dd-5ff7-40bb-df25-31b9f1ff31a7",
        "colab": {
          "base_uri": "https://localhost:8080/"
        }
      },
      "execution_count": null,
      "outputs": [
        {
          "output_type": "stream",
          "name": "stdout",
          "text": [
            "Epoch 1/10\n",
            "782/782 [==============================] - 21s 14ms/step - loss: 0.4189 - accuracy: 0.8620 - val_loss: 0.1010 - val_accuracy: 0.9698\n",
            "Epoch 2/10\n",
            "782/782 [==============================] - 12s 16ms/step - loss: 0.1274 - accuracy: 0.9638 - val_loss: 0.0627 - val_accuracy: 0.9812\n",
            "Epoch 3/10\n",
            "782/782 [==============================] - 10s 13ms/step - loss: 0.0888 - accuracy: 0.9751 - val_loss: 0.0534 - val_accuracy: 0.9832\n",
            "Epoch 4/10\n",
            "782/782 [==============================] - 11s 14ms/step - loss: 0.0704 - accuracy: 0.9804 - val_loss: 0.0421 - val_accuracy: 0.9879\n",
            "Epoch 5/10\n",
            "782/782 [==============================] - 10s 13ms/step - loss: 0.0568 - accuracy: 0.9840 - val_loss: 0.0467 - val_accuracy: 0.9875\n",
            "Epoch 6/10\n",
            "782/782 [==============================] - 10s 12ms/step - loss: 0.0517 - accuracy: 0.9857 - val_loss: 0.0337 - val_accuracy: 0.9910\n",
            "Epoch 7/10\n",
            "782/782 [==============================] - 11s 14ms/step - loss: 0.0442 - accuracy: 0.9873 - val_loss: 0.0348 - val_accuracy: 0.9905\n",
            "Epoch 8/10\n",
            "782/782 [==============================] - 11s 14ms/step - loss: 0.0396 - accuracy: 0.9889 - val_loss: 0.0339 - val_accuracy: 0.9921\n",
            "Epoch 9/10\n",
            "782/782 [==============================] - 10s 13ms/step - loss: 0.0335 - accuracy: 0.9908 - val_loss: 0.0292 - val_accuracy: 0.9931\n",
            "Epoch 10/10\n",
            "782/782 [==============================] - 10s 12ms/step - loss: 0.0331 - accuracy: 0.9904 - val_loss: 0.0324 - val_accuracy: 0.9920\n"
          ]
        }
      ]
    },
    {
      "cell_type": "code",
      "source": [
        "model.evaluate(X_test,test_labels_one_hot)"
      ],
      "metadata": {
        "id": "2Vok5YZ614Tz",
        "outputId": "6e78defe-679e-4e7e-b2eb-c76ffe4b860e",
        "colab": {
          "base_uri": "https://localhost:8080/"
        }
      },
      "execution_count": null,
      "outputs": [
        {
          "output_type": "stream",
          "name": "stdout",
          "text": [
            "313/313 [==============================] - 2s 5ms/step - loss: 0.0288 - accuracy: 0.9931\n"
          ]
        },
        {
          "output_type": "execute_result",
          "data": {
            "text/plain": [
              "[0.028830507770180702, 0.9930999875068665]"
            ]
          },
          "metadata": {},
          "execution_count": 20
        }
      ]
    },
    {
      "cell_type": "code",
      "source": [
        "X_train = X_train.astype('float32').reshape(-1,32,32,1)\n",
        "predicted_classes = model.predict(X_train)"
      ],
      "metadata": {
        "id": "NhY2etFK2vdi"
      },
      "execution_count": null,
      "outputs": []
    },
    {
      "cell_type": "code",
      "source": [
        "len(predicted_classes)"
      ],
      "metadata": {
        "id": "VaOHAybF6amt",
        "outputId": "2e7aa2e0-fc8b-4893-a60a-2d093ef1c801",
        "colab": {
          "base_uri": "https://localhost:8080/"
        }
      },
      "execution_count": null,
      "outputs": [
        {
          "output_type": "execute_result",
          "data": {
            "text/plain": [
              "50000"
            ]
          },
          "metadata": {},
          "execution_count": 40
        }
      ]
    },
    {
      "cell_type": "code",
      "source": [
        "pred=[]\n",
        "for i in range(len(predicted_classes)):\n",
        "   pred.append(np.argmax(np.round(predicted_classes[i])))"
      ],
      "metadata": {
        "id": "jA-SENR46AVV"
      },
      "execution_count": null,
      "outputs": []
    },
    {
      "cell_type": "code",
      "source": [
        "#X_train, y_train = trainSet\n",
        "#X_val, y_val = validSet\n",
        "#X_test, y_test = testSet\n",
        "correct = np.where(predicted_classes==y_test)[0]\n",
        "cnt = 0\n",
        "for i in range (0,len(y_train)):\n",
        "  if(pred[i]!=y_train[i]):\n",
        "    \n",
        "    plt.subplot(3,3,cnt+1)\n",
        "    plt.imshow(X_train[i].reshape(32,32), cmap='gray', interpolation='none')\n",
        "    plt.title(\"Predicted {}, Class {}\".format(predicted_classes[i], test_labels_one_hot[i]))\n",
        "    plt.tight_layout()\n",
        "    cnt+=1\n",
        "    if(cnt==9):\n",
        "      break"
      ],
      "metadata": {
        "id": "kawvGIbqyU5u",
        "outputId": "991c4bfd-6c76-456f-ad5a-1cd8fb0951bf",
        "colab": {
          "base_uri": "https://localhost:8080/",
          "height": 420
        }
      },
      "execution_count": null,
      "outputs": [
        {
          "output_type": "stream",
          "name": "stderr",
          "text": [
            "/usr/local/lib/python3.7/dist-packages/ipykernel_launcher.py:4: DeprecationWarning: elementwise comparison failed; this will raise an error in the future.\n",
            "  after removing the cwd from sys.path.\n",
            "/usr/local/lib/python3.7/dist-packages/ipykernel_launcher.py:12: UserWarning: Tight layout not applied. tight_layout cannot make axes width small enough to accommodate all axes decorations\n",
            "  if sys.path[0] == '':\n",
            "/usr/local/lib/python3.7/dist-packages/ipykernel_launcher.py:12: UserWarning: Tight layout not applied. The left and right margins cannot be made large enough to accommodate all axes decorations. \n",
            "  if sys.path[0] == '':\n"
          ]
        },
        {
          "output_type": "display_data",
          "data": {
            "image/png": "[encoded data removed]",
            "text/plain": [
              "<Figure size 432x288 with 9 Axes>"
            ]
          },
          "metadata": {
            "needs_background": "light"
          }
        }
      ]
    },
    {
      "cell_type": "code",
      "source": [],
      "metadata": {
        "id": "IOl5Gq704NNe"
      },
      "execution_count": null,
      "outputs": []
    }
  ]
}